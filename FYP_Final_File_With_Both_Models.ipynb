{
  "nbformat": 4,
  "nbformat_minor": 0,
  "metadata": {
    "colab": {
      "name": "FYP_Final_File.ipynb",
      "provenance": [],
      "collapsed_sections": []
    },
    "kernelspec": {
      "display_name": "Python 3",
      "name": "python3"
    },
    "accelerator": "GPU",
    "widgets": {
      "application/vnd.jupyter.widget-state+json": {
        "c666f0440ecf40899a40f28d7d67cf84": {
          "model_module": "@jupyter-widgets/controls",
          "model_name": "HBoxModel",
          "model_module_version": "1.5.0",
          "state": {
            "_view_name": "HBoxView",
            "_dom_classes": [],
            "_model_name": "HBoxModel",
            "_view_module": "@jupyter-widgets/controls",
            "_model_module_version": "1.5.0",
            "_view_count": null,
            "_view_module_version": "1.5.0",
            "box_style": "",
            "layout": "IPY_MODEL_bc844bc0b87f426787822541ee147615",
            "_model_module": "@jupyter-widgets/controls",
            "children": [
              "IPY_MODEL_4053f08c09d74779929b9f66979cfc41",
              "IPY_MODEL_0e55477db7164aa58df9a01253fb2ddf"
            ]
          }
        },
        "bc844bc0b87f426787822541ee147615": {
          "model_module": "@jupyter-widgets/base",
          "model_name": "LayoutModel",
          "model_module_version": "1.2.0",
          "state": {
            "_view_name": "LayoutView",
            "grid_template_rows": null,
            "right": null,
            "justify_content": null,
            "_view_module": "@jupyter-widgets/base",
            "overflow": null,
            "_model_module_version": "1.2.0",
            "_view_count": null,
            "flex_flow": null,
            "width": null,
            "min_width": null,
            "border": null,
            "align_items": null,
            "bottom": null,
            "_model_module": "@jupyter-widgets/base",
            "top": null,
            "grid_column": null,
            "overflow_y": null,
            "overflow_x": null,
            "grid_auto_flow": null,
            "grid_area": null,
            "grid_template_columns": null,
            "flex": null,
            "_model_name": "LayoutModel",
            "justify_items": null,
            "grid_row": null,
            "max_height": null,
            "align_content": null,
            "visibility": null,
            "align_self": null,
            "height": null,
            "min_height": null,
            "padding": null,
            "grid_auto_rows": null,
            "grid_gap": null,
            "max_width": null,
            "order": null,
            "_view_module_version": "1.2.0",
            "grid_template_areas": null,
            "object_position": null,
            "object_fit": null,
            "grid_auto_columns": null,
            "margin": null,
            "display": null,
            "left": null
          }
        },
        "4053f08c09d74779929b9f66979cfc41": {
          "model_module": "@jupyter-widgets/controls",
          "model_name": "FloatProgressModel",
          "model_module_version": "1.5.0",
          "state": {
            "_view_name": "ProgressView",
            "style": "IPY_MODEL_a559e21a58cc49f6956135f70d717f3b",
            "_dom_classes": [],
            "description": "100%",
            "_model_name": "FloatProgressModel",
            "bar_style": "success",
            "max": 133546016,
            "_view_module": "@jupyter-widgets/controls",
            "_model_module_version": "1.5.0",
            "value": 133546016,
            "_view_count": null,
            "_view_module_version": "1.5.0",
            "orientation": "horizontal",
            "min": 0,
            "description_tooltip": null,
            "_model_module": "@jupyter-widgets/controls",
            "layout": "IPY_MODEL_0c631a680cdc47ec85d2d34479bfc463"
          }
        },
        "0e55477db7164aa58df9a01253fb2ddf": {
          "model_module": "@jupyter-widgets/controls",
          "model_name": "HTMLModel",
          "model_module_version": "1.5.0",
          "state": {
            "_view_name": "HTMLView",
            "style": "IPY_MODEL_8e5323db04024469b2ff6b80102fb9fc",
            "_dom_classes": [],
            "description": "",
            "_model_name": "HTMLModel",
            "placeholder": "​",
            "_view_module": "@jupyter-widgets/controls",
            "_model_module_version": "1.5.0",
            "value": " 127M/127M [00:13&lt;00:00, 10.2MB/s]",
            "_view_count": null,
            "_view_module_version": "1.5.0",
            "description_tooltip": null,
            "_model_module": "@jupyter-widgets/controls",
            "layout": "IPY_MODEL_a05da6fde83744d4bb37b040d9b51072"
          }
        },
        "a559e21a58cc49f6956135f70d717f3b": {
          "model_module": "@jupyter-widgets/controls",
          "model_name": "ProgressStyleModel",
          "model_module_version": "1.5.0",
          "state": {
            "_view_name": "StyleView",
            "_model_name": "ProgressStyleModel",
            "description_width": "initial",
            "_view_module": "@jupyter-widgets/base",
            "_model_module_version": "1.5.0",
            "_view_count": null,
            "_view_module_version": "1.2.0",
            "bar_color": null,
            "_model_module": "@jupyter-widgets/controls"
          }
        },
        "0c631a680cdc47ec85d2d34479bfc463": {
          "model_module": "@jupyter-widgets/base",
          "model_name": "LayoutModel",
          "model_module_version": "1.2.0",
          "state": {
            "_view_name": "LayoutView",
            "grid_template_rows": null,
            "right": null,
            "justify_content": null,
            "_view_module": "@jupyter-widgets/base",
            "overflow": null,
            "_model_module_version": "1.2.0",
            "_view_count": null,
            "flex_flow": null,
            "width": null,
            "min_width": null,
            "border": null,
            "align_items": null,
            "bottom": null,
            "_model_module": "@jupyter-widgets/base",
            "top": null,
            "grid_column": null,
            "overflow_y": null,
            "overflow_x": null,
            "grid_auto_flow": null,
            "grid_area": null,
            "grid_template_columns": null,
            "flex": null,
            "_model_name": "LayoutModel",
            "justify_items": null,
            "grid_row": null,
            "max_height": null,
            "align_content": null,
            "visibility": null,
            "align_self": null,
            "height": null,
            "min_height": null,
            "padding": null,
            "grid_auto_rows": null,
            "grid_gap": null,
            "max_width": null,
            "order": null,
            "_view_module_version": "1.2.0",
            "grid_template_areas": null,
            "object_position": null,
            "object_fit": null,
            "grid_auto_columns": null,
            "margin": null,
            "display": null,
            "left": null
          }
        },
        "8e5323db04024469b2ff6b80102fb9fc": {
          "model_module": "@jupyter-widgets/controls",
          "model_name": "DescriptionStyleModel",
          "model_module_version": "1.5.0",
          "state": {
            "_view_name": "StyleView",
            "_model_name": "DescriptionStyleModel",
            "description_width": "",
            "_view_module": "@jupyter-widgets/base",
            "_model_module_version": "1.5.0",
            "_view_count": null,
            "_view_module_version": "1.2.0",
            "_model_module": "@jupyter-widgets/controls"
          }
        },
        "a05da6fde83744d4bb37b040d9b51072": {
          "model_module": "@jupyter-widgets/base",
          "model_name": "LayoutModel",
          "model_module_version": "1.2.0",
          "state": {
            "_view_name": "LayoutView",
            "grid_template_rows": null,
            "right": null,
            "justify_content": null,
            "_view_module": "@jupyter-widgets/base",
            "overflow": null,
            "_model_module_version": "1.2.0",
            "_view_count": null,
            "flex_flow": null,
            "width": null,
            "min_width": null,
            "border": null,
            "align_items": null,
            "bottom": null,
            "_model_module": "@jupyter-widgets/base",
            "top": null,
            "grid_column": null,
            "overflow_y": null,
            "overflow_x": null,
            "grid_auto_flow": null,
            "grid_area": null,
            "grid_template_columns": null,
            "flex": null,
            "_model_name": "LayoutModel",
            "justify_items": null,
            "grid_row": null,
            "max_height": null,
            "align_content": null,
            "visibility": null,
            "align_self": null,
            "height": null,
            "min_height": null,
            "padding": null,
            "grid_auto_rows": null,
            "grid_gap": null,
            "max_width": null,
            "order": null,
            "_view_module_version": "1.2.0",
            "grid_template_areas": null,
            "object_position": null,
            "object_fit": null,
            "grid_auto_columns": null,
            "margin": null,
            "display": null,
            "left": null
          }
        }
      }
    }
  },
  "cells": [
    {
      "cell_type": "code",
      "metadata": {
        "id": "KA1oFP-8FfCC"
      },
      "source": [
        "#Libraries\n",
        "import os\n",
        "import pandas as pd\n",
        "import numpy as np\n",
        "import matplotlib.pyplot as plt\n",
        "from PIL import Image\n",
        "import torch\n",
        "import torchvision\n",
        "import torch.nn as nn\n",
        "import torch.nn.functional as F\n",
        "from torch.autograd import Variable\n",
        "from sklearn.model_selection import train_test_split\n",
        "from torch.utils.data import Dataset, DataLoader, TensorDataset\n",
        "from google.colab import drive\n",
        "import torchvision.models as models\n",
        "from torchvision import transforms, datasets, models\n",
        "from torch import nn, optim\n",
        "\n",
        "\n"
      ],
      "execution_count": null,
      "outputs": []
    },
    {
      "cell_type": "code",
      "metadata": {
        "id": "pzmTShRud8uF",
        "colab": {
          "base_uri": "https://localhost:8080/"
        },
        "outputId": "47e10214-6fc8-4a4f-b5b0-7267783e72d0"
      },
      "source": [
        "#To Mount Google Drive\n",
        "drive.mount(\"/content/gdrive\")\n",
        "os.chdir(\"/content/gdrive/MyDrive/FYP\")"
      ],
      "execution_count": null,
      "outputs": [
        {
          "output_type": "stream",
          "text": [
            "Mounted at /content/gdrive\n"
          ],
          "name": "stdout"
        }
      ]
    },
    {
      "cell_type": "code",
      "metadata": {
        "id": "UiUN_y8F0DOj"
      },
      "source": [
        "#converting Videos into their Frames and saving them under a Folder of their Label#\n",
        "import json\n",
        "import numpy as np\n",
        "import cv2\n",
        "import os\n",
        "import torchvision\n",
        "\n",
        "def readVideo():\n",
        "\n",
        "    glossList = []\n",
        "    vidList = []\n",
        "    bblst = []\n",
        "    path = os.getcwd()\n",
        "    content = json.load(open('WLASL_v0.3.json'))\n",
        "    for ent in content:\n",
        "        gloss = ent['gloss']\n",
        "        instances = ent['instances']\n",
        "        for inst in instances:\n",
        "            split = inst['split']\n",
        "            if split == \"train\":\n",
        "                video = inst['video_id'] + \".mp4\"\n",
        "                x = inst['bbox']\n",
        "                \n",
        "                x1 = x[1]\n",
        "                x2 = x[3]\n",
        "                y1 = x[0]\n",
        "                y2 = x[2]\n",
        "                if os.path.isfile(str(video)):\n",
        "                    \n",
        "                    glossList.append(str(gloss))\n",
        "                    vidList.append(str(video))\n",
        "                    bblst.append([x1,x2,y1,y2])\n",
        "    \n",
        "    print(\"---------------------------\")\n",
        "    oldPath = os.getcwd()\n",
        "    path = os.path.join(str(path),\"Frames\")\n",
        "    print(path)\n",
        "\n",
        "    i = 0            \n",
        "    for j in vidList: #use this to get the video number\n",
        "        newPath = os.path.join(path, str(glossList[i]))\n",
        "        print(newPath)\n",
        "        if not os.path.exists(newPath):\n",
        "            os.mkdir(newPath)    \n",
        "    \n",
        "        vidcap = cv2.VideoCapture(j)\n",
        "        os.chdir(newPath)\n",
        "        print(os.getcwd())\n",
        "        newPath2 = os.path.join(newPath, (j))\n",
        "        #print(newPath2)\n",
        "        if not os.path.exists(newPath2):\n",
        "            os.mkdir(newPath2)\n",
        "            os.chdir(newPath2)\n",
        "        print(os.getcwd())\n",
        "        #getting bbox of the vid\n",
        "        t = bblst[i]\n",
        "        x1 = t[0]\n",
        "        x2 = t[1]\n",
        "        y1 = t[2]\n",
        "        y2 = t[3]\n",
        "        success,image = vidcap.read()\n",
        "        print(os.getcwd())\n",
        "        count = 0\n",
        "       \n",
        "        while success:\n",
        "            image = image[x1:x2,y1:y2]\n",
        "            cv2.imwrite(\"frame%d.jpg\" % count, image)\n",
        "            success,image = vidcap.read()\n",
        "            count += 1\n",
        "        os.chdir(oldPath)\n",
        "        print(os.getcwd())\n",
        "        i+=1\n",
        "\n",
        "        print(\"-----------------------------------------------\")\n",
        "readVideo()\n"
      ],
      "execution_count": null,
      "outputs": []
    },
    {
      "cell_type": "code",
      "metadata": {
        "colab": {
          "base_uri": "https://localhost:8080/"
        },
        "id": "Rwam79TYW1VM",
        "outputId": "c753d109-b63d-4967-c594-63eb0e5367e5"
      },
      "source": [
        "import os\n",
        "import csv\n",
        "###PATH.PY FOR CSV FILE\n",
        "from google.colab import drive\n",
        "drive.mount(\"/content/gdrive\")\n",
        "\n",
        "os.chdir(\"/content/gdrive/MyDrive/FYP\")\n",
        "print(os.listdir(os.getcwd()))\n",
        "def image():\n",
        "    imglbl = []\n",
        "    imgPath = []\n",
        "    tempPath = []\n",
        "    imgFrm = []\n",
        "    \n",
        "    path = os.getcwd()\n",
        "    print(path)\n",
        "    newPath = \"trainData/Samples\"\n",
        "    newPath = os.path.join(path, newPath)\n",
        "    os.chdir(newPath)\n",
        "\n",
        "    dirLen = len(os.listdir())\n",
        "    imglbl.append(os.listdir())    \n",
        "    os.chdir(path)\n",
        "\n",
        "    with open('myCSV.csv', 'w', newline = '') as f:\n",
        "        writer = csv.writer(f)\n",
        "        writer.writerow([\"Image_Label\", \"Image_Frames\", \"Image_Path\"])\n",
        "        for i in range(dirLen):\n",
        "            x = imglbl[0][i]\n",
        "            customPath = os.path.join(newPath, str(x))\n",
        "            os.chdir(customPath)\n",
        "            y = (os.listdir())\n",
        "            for j in range(len(y)):\n",
        "                imgPath.append(customPath + '/' + y[j])\n",
        "                tempPath.append(imgPath[-1])\n",
        "                os.chdir(tempPath[-1])\n",
        "                imgFrm.append(len(os.listdir())-1)                \n",
        "                writer.writerow([str(imglbl[0][i]), imgFrm[-1], imgPath[-1]])\n",
        "image()"
      ],
      "execution_count": null,
      "outputs": [
        {
          "output_type": "stream",
          "text": [
            "Drive already mounted at /content/gdrive; to attempt to forcibly remount, call drive.mount(\"/content/gdrive\", force_remount=True).\n",
            "['trainData', 'myCSV.csv', 'myCSV.gsheet']\n",
            "/content/gdrive/MyDrive/FYP\n"
          ],
          "name": "stdout"
        }
      ]
    },
    {
      "cell_type": "code",
      "metadata": {
        "colab": {
          "base_uri": "https://localhost:8080/"
        },
        "id": "-GBusb-maLEg",
        "outputId": "f5bffa29-3ee0-4b0e-9527-d0d44609b335"
      },
      "source": [
        "#DATA LOADER MD 4\n",
        "#Change Directory\n",
        "os.chdir(\"/content/gdrive/MyDrive/FYP\")\n",
        "print(os.getcwd())\n",
        "\n",
        "#Read CSV File\n",
        "df = pd.read_csv('myCSV1.csv')\n",
        "#Get CSV File Length\n",
        "dfLen = len(df.index)+1\n",
        "\n",
        "#Arrays Declarations\n",
        "tensorList = []\n",
        "labelList = []\n",
        "label = \"\"\n",
        "\n",
        "#Get Img Labels\n",
        "imglblList = []\n",
        "for column in df[['Image_Label']]:\n",
        "    imglbl = df[column]\n",
        "for i in imglbl.values:\n",
        "    imglblList.append(i)\n",
        "\n",
        "#Get Img Frames    \n",
        "imgFramesList = []\n",
        "for column in df[['Image_Frames']]:\n",
        "    imgFrames = df[column]\n",
        "for i in imgFrames.values:\n",
        "    imgFramesList.append(i)\n",
        "    \n",
        "#Get Img Path\n",
        "imgPathList = []\n",
        "for column in df[['Image_Path']]:\n",
        "    imgPath = df[column]\n",
        "for i in imgPath.values:\n",
        "    imgPathList.append(i)\n",
        "\n",
        "X = df.Image_Path.values\n",
        "y = df.Image_Label.values\n",
        "\n",
        "\n",
        "\n"
      ],
      "execution_count": null,
      "outputs": [
        {
          "output_type": "stream",
          "text": [
            "/content/gdrive/MyDrive/FYP\n"
          ],
          "name": "stdout"
        }
      ]
    },
    {
      "cell_type": "code",
      "metadata": {
        "colab": {
          "base_uri": "https://localhost:8080/"
        },
        "id": "QH3SI_q1IcrE",
        "outputId": "c19b621a-add5-41ef-82c7-f7f1223d1cc6"
      },
      "source": [
        "#########################################333 TO LOAD IMAGES FROM THEIR PATH ##################################################\n",
        "trans = transforms.Compose([ transforms.ToTensor(),\n",
        "                                                 transforms.Normalize(mean=[0.43216, 0.394666, 0.37645], std=[0.22803, 0.22145, 0.216989])])\n",
        "\n",
        "#Open, Resize and Transform Images\n",
        "def loader(imglbl, imgPath, imgFrames):\n",
        "        tensorArr=[]\n",
        "        imgDir = os.chdir(imgPath)\n",
        "        print(imglbl)\n",
        "        print(imgPath)\n",
        "        print(imgFrames)\n",
        "        print(\"=------------------------------------------------------------------------------------------=\")\n",
        "        for x in range(imgFrames):\n",
        "            image = Image.open('frame'+str(x)+'.jpg')\n",
        "            new_image = image.resize((32, 32))\n",
        "            new_image2 = trans(new_image)\n",
        "            tensorArr.append(new_image2)\n",
        "        \n",
        "        label = imglbl    \n",
        "        return tensorArr, new_image2, label\n",
        "\n",
        "#Image output and labels from loader will be stacked into a tensor\n",
        "print(imglblList)\n",
        "\n",
        "for i in range(dfLen-1):\n",
        "    #Function call to loader\n",
        "    tensorArr,x , label = loader(imglblList[i], imgPathList[i], imgFramesList[i])\n",
        "\n",
        "    stackTensor = torch.stack(tensorArr)\n",
        "    \n",
        "    #Numpy Array of the TensorList\n",
        "    tensorList.append(stackTensor)\n",
        "    \n",
        "    #Numpy Array of the LabelList\n",
        "    labelList.append(label)\n",
        "\n",
        "\n"
      ],
      "execution_count": null,
      "outputs": [
        {
          "output_type": "stream",
          "text": [
            "['a', 'a', 'a', 'a', 'abdomen', 'abdomen', 'abdomen', 'abdomen', 'a lot', 'a lot', 'a lot', 'a lot', 'able', 'able', 'able', 'able', 'about', 'about', 'about', 'about', 'about', 'about', 'about', 'above', 'above', 'above', 'above', 'accept', 'accept', 'accept', 'accept', 'accept', 'accept', 'accent', 'accent', 'accent', 'accent', 'accident', 'accident', 'accident', 'accident', 'accident', 'accident', 'accident', 'accident', 'accident', 'accident', 'accident', 'accident', 'accident', 'across', 'across', 'across', 'across', 'across', 'across', 'across', 'act', 'act', 'act', 'act', 'act', 'accomplish', 'accomplish', 'accomplish', 'accomplish', 'accomplish', 'accomplish', 'accountant', 'accountant', 'accountant', 'accountant', 'accountant', 'action', 'action', 'action', 'action', 'active', 'active', 'active', 'active', 'active', 'activity', 'activity', 'activity', 'activity', 'activity', 'actor', 'actor', 'actor', 'actor', 'actor', 'actor', 'actor', 'adapt', 'adapt', 'adapt', 'adapt', 'adapt', 'address', 'address', 'address', 'address', 'address', 'add', 'add', 'add', 'add', 'add', 'add', 'add', 'adjective', 'adjective', 'adjective', 'adjective', 'adjective', 'adjust', 'adjust', 'adjust', 'adjust', 'adjust', 'admire', 'admire', 'admire', 'admire', 'admire', 'admit', 'admit', 'admit', 'admit', 'admit', 'adult', 'adult', 'adult', 'adult', 'adult', 'adult', 'adult', 'adult', 'adopt', 'adopt', 'adopt', 'adopt', 'adopt', 'advanced', 'advanced', 'advanced', 'advanced', 'advanced', 'advantage', 'advantage', 'advantage', 'advantage', 'advantage', 'advantage', 'with', 'with', 'with', 'with', 'with', 'with', 'with', 'with', 'with', 'with', 'will', 'will', 'will', 'will', 'will', 'will', 'will', 'will', 'woman', 'woman', 'woman', 'woman', 'woman', 'woman', 'woman', 'woman', 'woman', 'woman', 'woman', 'woman', 'woman', 'woman', 'woman', 'wow', 'wow', 'wow', 'wow', 'wow', 'wow', 'wow', 'yes', 'yes', 'yes', 'yes', 'yes', 'yes', 'yes', 'yes', 'yes', 'yes', 'yes', 'yes', 'yes', 'yes', 'yes', 'you', 'you', 'you', 'you', 'you', 'you', 'you', 'you', 'you', 'you', 'you', 'your', 'your', 'your', 'your', 'your', 'your', 'your', 'your', 'your', 'your', 'zero', 'zero', 'zero', 'zero', 'zero', 'zero', 'adverb', 'adverb', 'adverb', 'adverb', 'adverb', 'bath', 'bath', 'bath', 'bath', 'bath', 'bath', 'bath', 'bath', 'bath', 'bath', 'book', 'book', 'book', 'book', 'book', 'book', 'book', 'book', 'book', 'book', 'book', 'book', 'book', 'book', 'book', 'book', 'book', 'book', 'book', 'book', 'book', 'book', 'book', 'book', 'book', 'book', 'book', 'book', 'book', 'bike', 'bike', 'bike', 'bathroom', 'bathroom', 'bathroom', 'bathroom', 'bathroom', 'bathroom', 'bathroom', 'bathroom', 'bathroom', 'bathroom', 'bathroom', 'break', 'break', 'break', 'break', 'break', 'break', 'break', 'bull', 'bull', 'bull', 'bull', 'bull', 'bull', 'caption', 'caption', 'caption', 'caption', 'caption', 'caption', 'caption', 'chair', 'chair', 'chair', 'chair', 'chair', 'chair', 'chair', 'chair', 'chair', 'chair', 'chair', 'chair', 'chair', 'chair', 'chair', 'chair', 'chair', 'chair', 'choice', 'choice', 'choice', 'choice', 'choice', 'choice', 'choice', 'coat', 'coat', 'coat', 'coat', 'coat', 'coat', 'cow', 'cow', 'cow', 'cow', 'cow', 'cow', 'cow', 'cow', 'cow', 'cow', 'cow', 'cow', 'cow', 'dark', 'dark', 'dark', 'dark', 'dark', 'dark', 'dark', 'dark', 'dark', 'dark', 'dark', 'dark', 'dark', 'diarrhea', 'diarrhea', 'diarrhea', 'diarrhea', 'diarrhea', 'diarrhea', 'drag', 'drag', 'drag', 'drag', 'drag', 'delay', 'delay', 'delay', 'delay', 'delay', 'delay', 'delay', 'delay', 'delay', 'delay', 'eat', 'eat', 'eat', 'eat', 'eat', 'eat', 'eat', 'eat', 'eat', 'eat', 'eat', 'enter', 'enter', 'enter', 'enter', 'enter', 'enter', 'enter', 'enter', 'elevator', 'elevator', 'elevator', 'elevator', 'elevator', 'elevator', 'elevator', 'far', 'far', 'far', 'far', 'far', 'far', 'far', 'far', 'far', 'far', 'fat', 'fat', 'fat', 'fat', 'fat', 'fat', 'fat', 'fat', 'fat', 'fat', 'fire', 'fire', 'fire', 'fire', 'fire', 'for', 'for', 'for', 'for', 'for', 'for', 'for', 'for', 'fork', 'fork', 'fork', 'fork', 'fork', 'fork', 'garage', 'garage', 'garage', 'garage', 'garage', 'garage', 'garage', 'glass', 'glass', 'glass', 'glass', 'glass', 'glass', 'glasses', 'glasses', 'glasses', 'glasses', 'glasses', 'glasses', 'glasses', 'glasses', 'glasses', 'guess', 'guess', 'guess', 'guess', 'guess', 'guess', 'guess', 'guess', 'hear', 'hear', 'hear', 'hear', 'hear', 'hear', 'hear', 'hear', 'hear', 'hear', 'hide', 'hide', 'hide', 'hide', 'hide', 'heart', 'heart', 'heart', 'heart', 'heart', 'heart', 'heart', 'heart', 'heart', 'heart', 'home', 'home', 'home', 'home', 'home', 'home', 'home', 'home', 'home', 'home', 'how', 'how', 'how', 'how', 'how', 'how', 'how', 'how', 'how', 'how', 'how', 'i', 'i', 'i', 'i', 'i', 'if', 'if', 'if', 'if', 'if', 'if', 'if', 'ill', 'ill', 'ill', 'ill', 'ill', 'in', 'in', 'in', 'in', 'in', 'in', 'in', 'j', 'j', 'j', 'j', 'j', 'jail', 'jail', 'jail', 'jail', 'jail', 'k', 'k', 'k', 'k', 'k', 'kick', 'kick', 'kick', 'kick', 'kick', 'kiss', 'kiss', 'kiss', 'kiss', 'kiss', 'kiss', 'kiss', 'kiss', 'kiss', 'kiss', 'kiss', 'kiss', 'kiss', 'language', 'language', 'language', 'language', 'language', 'language', 'language', 'language', 'language', 'language', 'language', 'language', 'lady', 'lady', 'lady', 'lady', 'lady', 'late', 'late', 'late', 'late', 'late', 'late', 'late', 'late', 'late', 'late', 'late', 'later', 'later', 'later', 'later', 'later', 'later', 'later', 'later', 'later', 'later', 'later', 'later', 'later', 'later', 'law', 'law', 'law', 'law', 'law', 'law', 'law', 'law', 'law', 'law', 'lip', 'lip', 'lip', 'lip', 'lip', 'lie', 'lie', 'lie', 'lie', 'lie', 'lie', 'lie', 'lie', 'lesbian', 'lesbian', 'lesbian', 'lesbian', 'lesbian', 'lesbian', 'look at', 'look at', 'look at', 'look at', 'look at', 'mad', 'mad', 'mad', 'mad', 'mad', 'mad', 'mad', 'm', 'm', 'm', 'm', 'm', 'look for', 'look for', 'look for', 'look for', 'look for', 'man', 'man', 'man', 'man', 'man', 'man', 'man', 'man', 'man', 'man', 'man', 'man', 'man', 'man', 'me', 'me', 'me', 'me', 'me', 'me', 'mom', 'mom', 'mom', 'mom', 'mom', 'mom', 'milk', 'milk', 'milk', 'milk', 'milk', 'milk', 'milk', 'milk', 'milk', 'monday', 'monday', 'monday', 'monday', 'monday', 'monday', 'monday', 'money', 'money', 'money', 'money', 'money', 'money', 'money', 'money', 'money', 'more', 'more', 'more', 'more', 'more', 'more', 'more', 'more', 'more', 'more', 'name', 'name', 'name', 'name', 'name', 'name', 'name', 'name', 'name', 'name', 'must', 'must', 'must', 'must', 'must', 'must', 'must', 'n', 'n', 'n', 'n', 'n', 'napkin', 'napkin', 'napkin', 'napkin', 'napkin', 'napkin', 'napkin', 'neck', 'neck', 'neck', 'neck', 'neck', 'neck', 'neck', 'niece', 'niece', 'niece', 'niece', 'niece', 'niece', 'niece', 'niece', 'niece', 'nephew', 'nephew', 'nephew', 'nephew', 'nephew', 'nephew', 'nephew', 'nephew', 'nephew', 'o', 'o', 'o', 'o', 'o', 'odd', 'odd', 'odd', 'odd', 'odd', 'odd', 'off', 'off', 'off', 'off', 'off', 'off', 'off', 'off', 'off', 'old', 'old', 'old', 'old', 'old', 'old', 'old', 'old', 'old', 'old', 'on', 'on', 'on', 'on', 'on', 'on', 'or', 'or', 'or', 'or', 'or', 'pain', 'pain', 'pain', 'pain', 'pain', 'pain', 'pain', 'part', 'part', 'part', 'part', 'part', 'pay', 'pay', 'pay', 'pay', 'pay', 'pay', 'pay', 'pay', 'pay', 'pet', 'pet', 'pet', 'pet', 'pet', 'pick', 'pick', 'pick', 'pick', 'pick', 'quick', 'quick', 'quick', 'quick', 'quick', 'quick', 'quick', 'pity', 'pity', 'pity', 'pity', 'pity', 'rage', 'rage', 'rage', 'rage', 'rage', 'rent', 'rent', 'rent', 'rent', 'rent', 'rat', 'rat', 'rat', 'rat', 'rat', 'rat', 'rat', 'rest', 'rest', 'rest', 'rest', 'rest', 'rest', 'rest', 'salary', 'salary', 'salary', 'salary', 'salary', 'run', 'run', 'run', 'run', 'run', 'run', 'run', 'run', 'run', 'run', 'run', 'run', 'ruin', 'ruin', 'ruin', 'ruin', 'ruin', 'save', 'save', 'save', 'save', 'save', 'save', 'save', 'save', 'save', 'saw', 'saw', 'saw', 'saw', 'saw', 'sea', 'sea', 'sea', 'sea', 'sea', 'say', 'say', 'say', 'say', 'say', 'say', 'say', 'sell', 'sell', 'sell', 'sell', 'sell', 'sell', 'sell', 'see', 'see', 'see', 'see', 'see', 'see', 'she', 'she', 'she', 'she', 'she', 'she', 'sin', 'sin', 'sin', 'sin', 'sin', 'some', 'some', 'some', 'some', 'some', 'some', 'some', 'some', 'some', 'some', 'sorry', 'sorry', 'sorry', 'sorry', 'sorry', 'sorry', 'sorry', 'sorry', 'sorry', 'sorry', 'son', 'son', 'son', 'son', 'son', 'son', 'son', 'son', 'son', 'son', 'son', 'son', 'son', 'sun', 'sun', 'sun', 'sun', 'sun', 'sun', 'sun', 'take', 'take', 'take', 'take', 'take', 'take', 'take', 'take', 'take', 'take', 'talk', 'talk', 'talk', 'talk', 'talk', 'talk', 'talk', 'talk', 'talk', 'tea', 'tea', 'tea', 'tea', 'tea', 'tea', 'tea', 'tea', 'tea', 'tea', 'tea', 'tea', 'tell', 'tell', 'tell', 'tell', 'tell', 'tell', 'tell', 'tell', 'tell', 'tell', 'tell', 'tell', 'tell', 'text', 'text', 'text', 'text', 'text', 'than', 'than', 'than', 'than', 'that', 'that', 'that', 'that', 'that', 'that', 'that', 'that', 'their', 'their', 'their', 'their', 'their', 'their', 'them', 'them', 'them', 'them', 'them', 'time', 'time', 'time', 'time', 'time', 'time', 'time', 'time', 'time', 'time', 'time', 'time', 'time', 'this', 'this', 'this', 'this', 'this', 'then', 'then', 'then', 'then', 'then', 'then', 'they', 'they', 'they', 'they', 'they', 'they', 'to', 'to', 'to', 'to', 'to', 'to', 'under', 'under', 'under', 'under', 'under', 'under', 'try', 'try', 'try', 'try', 'try', 'try', 'try', 'until', 'until', 'until', 'until', 'until', 'until', 'until', 'until', 'up', 'up', 'up', 'up', 'up', 'up', 'up', 'use', 'use', 'use', 'use', 'use', 'use', 'use', 'use', 'use', 'verb', 'verb', 'verb', 'verb', 'verb', 'verb', 'very', 'very', 'very', 'very', 'very', 'vote', 'vote', 'vote', 'vote', 'vote', 'vote', 'vote', 'vote', 'vote', 'vote', 'walk', 'walk', 'walk', 'walk', 'walk', 'walk', 'walk', 'walk', 'walk', 'walk', 'walk', 'walk', 'walk', 'walk', 'walk', 'wait', 'wait', 'wait', 'wait', 'wait', 'wait', 'wait', 'wait', 'wait', 'wait', 'wait', 'wait', 'wait', 'wallet', 'wallet', 'wallet', 'wallet', 'wallet', 'watch', 'watch', 'watch', 'watch', 'watch', 'watch', 'watch', 'watch', 'what', 'what', 'what', 'what', 'what', 'what', 'what', 'what', 'what', 'what', 'what', 'what', 'what', 'where', 'where', 'where', 'where', 'where', 'where', 'where', 'where', 'where', 'which', 'which', 'which', 'which', 'which', 'which', 'which', 'which', 'which', 'while', 'while', 'while', 'while', 'while', 'while', 'why', 'why', 'why', 'why', 'why', 'why', 'why', 'why', 'why', 'why', 'why', 'why']\n",
            "a\n",
            "/content/gdrive/MyDrive/FYP/trainData/Samples/a/01611.mp4\n",
            "48\n",
            "=------------------------------------------------------------------------------------------=\n",
            "a\n",
            "/content/gdrive/MyDrive/FYP/trainData/Samples/a/01614.mp4\n",
            "65\n",
            "=------------------------------------------------------------------------------------------=\n",
            "a\n",
            "/content/gdrive/MyDrive/FYP/trainData/Samples/a/01615.mp4\n",
            "84\n",
            "=------------------------------------------------------------------------------------------=\n",
            "a\n",
            "/content/gdrive/MyDrive/FYP/trainData/Samples/a/01610.mp4\n",
            "124\n",
            "=------------------------------------------------------------------------------------------=\n",
            "abdomen\n",
            "/content/gdrive/MyDrive/FYP/trainData/Samples/abdomen/00336.mp4\n",
            "64\n",
            "=------------------------------------------------------------------------------------------=\n",
            "abdomen\n",
            "/content/gdrive/MyDrive/FYP/trainData/Samples/abdomen/00337.mp4\n",
            "27\n",
            "=------------------------------------------------------------------------------------------=\n",
            "abdomen\n",
            "/content/gdrive/MyDrive/FYP/trainData/Samples/abdomen/00340.mp4\n",
            "61\n",
            "=------------------------------------------------------------------------------------------=\n",
            "abdomen\n",
            "/content/gdrive/MyDrive/FYP/trainData/Samples/abdomen/00341.mp4\n",
            "83\n",
            "=------------------------------------------------------------------------------------------=\n",
            "a lot\n",
            "/content/gdrive/MyDrive/FYP/trainData/Samples/a lot/02124.mp4\n",
            "73\n",
            "=------------------------------------------------------------------------------------------=\n",
            "a lot\n",
            "/content/gdrive/MyDrive/FYP/trainData/Samples/a lot/02125.mp4\n",
            "37\n",
            "=------------------------------------------------------------------------------------------=\n",
            "a lot\n",
            "/content/gdrive/MyDrive/FYP/trainData/Samples/a lot/02131.mp4\n",
            "85\n",
            "=------------------------------------------------------------------------------------------=\n",
            "a lot\n",
            "/content/gdrive/MyDrive/FYP/trainData/Samples/a lot/02129.mp4\n",
            "28\n",
            "=------------------------------------------------------------------------------------------=\n",
            "able\n",
            "/content/gdrive/MyDrive/FYP/trainData/Samples/able/00377.mp4\n",
            "88\n",
            "=------------------------------------------------------------------------------------------=\n",
            "able\n",
            "/content/gdrive/MyDrive/FYP/trainData/Samples/able/00378.mp4\n",
            "40\n",
            "=------------------------------------------------------------------------------------------=\n",
            "able\n",
            "/content/gdrive/MyDrive/FYP/trainData/Samples/able/00383.mp4\n",
            "75\n",
            "=------------------------------------------------------------------------------------------=\n",
            "able\n",
            "/content/gdrive/MyDrive/FYP/trainData/Samples/able/00384.mp4\n",
            "84\n",
            "=------------------------------------------------------------------------------------------=\n",
            "about\n",
            "/content/gdrive/MyDrive/FYP/trainData/Samples/about/00415.mp4\n",
            "37\n",
            "=------------------------------------------------------------------------------------------=\n",
            "about\n",
            "/content/gdrive/MyDrive/FYP/trainData/Samples/about/00414.mp4\n",
            "104\n",
            "=------------------------------------------------------------------------------------------=\n",
            "about\n",
            "/content/gdrive/MyDrive/FYP/trainData/Samples/about/00419.mp4\n",
            "63\n",
            "=------------------------------------------------------------------------------------------=\n",
            "about\n",
            "/content/gdrive/MyDrive/FYP/trainData/Samples/about/00422.mp4\n",
            "65\n",
            "=------------------------------------------------------------------------------------------=\n",
            "about\n",
            "/content/gdrive/MyDrive/FYP/trainData/Samples/about/00423.mp4\n",
            "72\n",
            "=------------------------------------------------------------------------------------------=\n",
            "about\n",
            "/content/gdrive/MyDrive/FYP/trainData/Samples/about/00425.mp4\n",
            "61\n",
            "=------------------------------------------------------------------------------------------=\n",
            "about\n",
            "/content/gdrive/MyDrive/FYP/trainData/Samples/about/65002.mp4\n",
            "71\n",
            "=------------------------------------------------------------------------------------------=\n",
            "above\n",
            "/content/gdrive/MyDrive/FYP/trainData/Samples/above/65004.mp4\n",
            "63\n",
            "=------------------------------------------------------------------------------------------=\n",
            "above\n",
            "/content/gdrive/MyDrive/FYP/trainData/Samples/above/00433.mp4\n",
            "78\n",
            "=------------------------------------------------------------------------------------------=\n",
            "above\n",
            "/content/gdrive/MyDrive/FYP/trainData/Samples/above/00435.mp4\n",
            "102\n",
            "=------------------------------------------------------------------------------------------=\n",
            "above\n",
            "/content/gdrive/MyDrive/FYP/trainData/Samples/above/00430.mp4\n",
            "51\n",
            "=------------------------------------------------------------------------------------------=\n",
            "accept\n",
            "/content/gdrive/MyDrive/FYP/trainData/Samples/accept/00593.mp4\n",
            "27\n",
            "=------------------------------------------------------------------------------------------=\n",
            "accept\n",
            "/content/gdrive/MyDrive/FYP/trainData/Samples/accept/00588.mp4\n",
            "29\n",
            "=------------------------------------------------------------------------------------------=\n",
            "accept\n",
            "/content/gdrive/MyDrive/FYP/trainData/Samples/accept/00597.mp4\n",
            "127\n",
            "=------------------------------------------------------------------------------------------=\n",
            "accept\n",
            "/content/gdrive/MyDrive/FYP/trainData/Samples/accept/00598.mp4\n",
            "63\n",
            "=------------------------------------------------------------------------------------------=\n",
            "accept\n",
            "/content/gdrive/MyDrive/FYP/trainData/Samples/accept/00599.mp4\n",
            "38\n",
            "=------------------------------------------------------------------------------------------=\n",
            "accept\n",
            "/content/gdrive/MyDrive/FYP/trainData/Samples/accept/00603.mp4\n",
            "84\n",
            "=------------------------------------------------------------------------------------------=\n",
            "accent\n",
            "/content/gdrive/MyDrive/FYP/trainData/Samples/accent/00583.mp4\n",
            "37\n",
            "=------------------------------------------------------------------------------------------=\n",
            "accent\n",
            "/content/gdrive/MyDrive/FYP/trainData/Samples/accent/00584.mp4\n",
            "41\n",
            "=------------------------------------------------------------------------------------------=\n",
            "accent\n",
            "/content/gdrive/MyDrive/FYP/trainData/Samples/accent/00587.mp4\n",
            "29\n",
            "=------------------------------------------------------------------------------------------=\n",
            "accent\n",
            "/content/gdrive/MyDrive/FYP/trainData/Samples/accent/00586.mp4\n",
            "38\n",
            "=------------------------------------------------------------------------------------------=\n",
            "accident\n",
            "/content/gdrive/MyDrive/FYP/trainData/Samples/accident/00618.mp4\n",
            "26\n",
            "=------------------------------------------------------------------------------------------=\n",
            "accident\n",
            "/content/gdrive/MyDrive/FYP/trainData/Samples/accident/00630.mp4\n",
            "62\n",
            "=------------------------------------------------------------------------------------------=\n",
            "accident\n",
            "/content/gdrive/MyDrive/FYP/trainData/Samples/accident/00629.mp4\n",
            "148\n",
            "=------------------------------------------------------------------------------------------=\n",
            "accident\n",
            "/content/gdrive/MyDrive/FYP/trainData/Samples/accident/00628.mp4\n",
            "34\n",
            "=------------------------------------------------------------------------------------------=\n",
            "accident\n",
            "/content/gdrive/MyDrive/FYP/trainData/Samples/accident/00624.mp4\n",
            "108\n",
            "=------------------------------------------------------------------------------------------=\n",
            "accident\n",
            "/content/gdrive/MyDrive/FYP/trainData/Samples/accident/00623.mp4\n",
            "103\n",
            "=------------------------------------------------------------------------------------------=\n",
            "accident\n",
            "/content/gdrive/MyDrive/FYP/trainData/Samples/accident/00631.mp4\n",
            "74\n",
            "=------------------------------------------------------------------------------------------=\n",
            "accident\n",
            "/content/gdrive/MyDrive/FYP/trainData/Samples/accident/00632.mp4\n",
            "54\n",
            "=------------------------------------------------------------------------------------------=\n",
            "accident\n",
            "/content/gdrive/MyDrive/FYP/trainData/Samples/accident/00633.mp4\n",
            "24\n",
            "=------------------------------------------------------------------------------------------=\n",
            "accident\n",
            "/content/gdrive/MyDrive/FYP/trainData/Samples/accident/00639.mp4\n",
            "104\n",
            "=------------------------------------------------------------------------------------------=\n",
            "accident\n",
            "/content/gdrive/MyDrive/FYP/trainData/Samples/accident/65009.mp4\n",
            "55\n",
            "=------------------------------------------------------------------------------------------=\n",
            "accident\n",
            "/content/gdrive/MyDrive/FYP/trainData/Samples/accident/00636.mp4\n",
            "81\n",
            "=------------------------------------------------------------------------------------------=\n",
            "accident\n",
            "/content/gdrive/MyDrive/FYP/trainData/Samples/accident/00638.mp4\n",
            "58\n",
            "=------------------------------------------------------------------------------------------=\n",
            "across\n",
            "/content/gdrive/MyDrive/FYP/trainData/Samples/across/00841.mp4\n",
            "67\n",
            "=------------------------------------------------------------------------------------------=\n",
            "across\n",
            "/content/gdrive/MyDrive/FYP/trainData/Samples/across/00842.mp4\n",
            "88\n",
            "=------------------------------------------------------------------------------------------=\n",
            "across\n",
            "/content/gdrive/MyDrive/FYP/trainData/Samples/across/00839.mp4\n",
            "50\n",
            "=------------------------------------------------------------------------------------------=\n",
            "across\n",
            "/content/gdrive/MyDrive/FYP/trainData/Samples/across/00840.mp4\n",
            "80\n",
            "=------------------------------------------------------------------------------------------=\n",
            "across\n",
            "/content/gdrive/MyDrive/FYP/trainData/Samples/across/00836.mp4\n",
            "41\n",
            "=------------------------------------------------------------------------------------------=\n",
            "across\n",
            "/content/gdrive/MyDrive/FYP/trainData/Samples/across/00835.mp4\n",
            "43\n",
            "=------------------------------------------------------------------------------------------=\n",
            "across\n",
            "/content/gdrive/MyDrive/FYP/trainData/Samples/across/00829.mp4\n",
            "52\n",
            "=------------------------------------------------------------------------------------------=\n",
            "act\n",
            "/content/gdrive/MyDrive/FYP/trainData/Samples/act/00847.mp4\n",
            "113\n",
            "=------------------------------------------------------------------------------------------=\n",
            "act\n",
            "/content/gdrive/MyDrive/FYP/trainData/Samples/act/00849.mp4\n",
            "86\n",
            "=------------------------------------------------------------------------------------------=\n",
            "act\n",
            "/content/gdrive/MyDrive/FYP/trainData/Samples/act/00850.mp4\n",
            "82\n",
            "=------------------------------------------------------------------------------------------=\n",
            "act\n",
            "/content/gdrive/MyDrive/FYP/trainData/Samples/act/00851.mp4\n",
            "77\n",
            "=------------------------------------------------------------------------------------------=\n",
            "act\n",
            "/content/gdrive/MyDrive/FYP/trainData/Samples/act/67346.mp4\n",
            "43\n",
            "=------------------------------------------------------------------------------------------=\n",
            "accomplish\n",
            "/content/gdrive/MyDrive/FYP/trainData/Samples/accomplish/00663.mp4\n",
            "116\n",
            "=------------------------------------------------------------------------------------------=\n",
            "accomplish\n",
            "/content/gdrive/MyDrive/FYP/trainData/Samples/accomplish/00662.mp4\n",
            "52\n",
            "=------------------------------------------------------------------------------------------=\n",
            "accomplish\n",
            "/content/gdrive/MyDrive/FYP/trainData/Samples/accomplish/00668.mp4\n",
            "78\n",
            "=------------------------------------------------------------------------------------------=\n",
            "accomplish\n",
            "/content/gdrive/MyDrive/FYP/trainData/Samples/accomplish/00666.mp4\n",
            "35\n",
            "=------------------------------------------------------------------------------------------=\n",
            "accomplish\n",
            "/content/gdrive/MyDrive/FYP/trainData/Samples/accomplish/65010.mp4\n",
            "71\n",
            "=------------------------------------------------------------------------------------------=\n",
            "accomplish\n",
            "/content/gdrive/MyDrive/FYP/trainData/Samples/accomplish/67343.mp4\n",
            "59\n",
            "=------------------------------------------------------------------------------------------=\n",
            "accountant\n",
            "/content/gdrive/MyDrive/FYP/trainData/Samples/accountant/00691.mp4\n",
            "57\n",
            "=------------------------------------------------------------------------------------------=\n",
            "accountant\n",
            "/content/gdrive/MyDrive/FYP/trainData/Samples/accountant/00693.mp4\n",
            "79\n",
            "=------------------------------------------------------------------------------------------=\n",
            "accountant\n",
            "/content/gdrive/MyDrive/FYP/trainData/Samples/accountant/00690.mp4\n",
            "133\n",
            "=------------------------------------------------------------------------------------------=\n",
            "accountant\n",
            "/content/gdrive/MyDrive/FYP/trainData/Samples/accountant/00694.mp4\n",
            "104\n",
            "=------------------------------------------------------------------------------------------=\n",
            "accountant\n",
            "/content/gdrive/MyDrive/FYP/trainData/Samples/accountant/67344.mp4\n",
            "47\n",
            "=------------------------------------------------------------------------------------------=\n",
            "action\n",
            "/content/gdrive/MyDrive/FYP/trainData/Samples/action/00855.mp4\n",
            "64\n",
            "=------------------------------------------------------------------------------------------=\n",
            "action\n",
            "/content/gdrive/MyDrive/FYP/trainData/Samples/action/00854.mp4\n",
            "107\n",
            "=------------------------------------------------------------------------------------------=\n",
            "action\n",
            "/content/gdrive/MyDrive/FYP/trainData/Samples/action/00858.mp4\n",
            "99\n",
            "=------------------------------------------------------------------------------------------=\n",
            "action\n",
            "/content/gdrive/MyDrive/FYP/trainData/Samples/action/67345.mp4\n",
            "54\n",
            "=------------------------------------------------------------------------------------------=\n",
            "active\n",
            "/content/gdrive/MyDrive/FYP/trainData/Samples/active/00869.mp4\n",
            "120\n",
            "=------------------------------------------------------------------------------------------=\n",
            "active\n",
            "/content/gdrive/MyDrive/FYP/trainData/Samples/active/00870.mp4\n",
            "61\n",
            "=------------------------------------------------------------------------------------------=\n",
            "active\n",
            "/content/gdrive/MyDrive/FYP/trainData/Samples/active/00871.mp4\n",
            "55\n",
            "=------------------------------------------------------------------------------------------=\n",
            "active\n",
            "/content/gdrive/MyDrive/FYP/trainData/Samples/active/00873.mp4\n",
            "85\n",
            "=------------------------------------------------------------------------------------------=\n",
            "active\n",
            "/content/gdrive/MyDrive/FYP/trainData/Samples/active/00874.mp4\n",
            "92\n",
            "=------------------------------------------------------------------------------------------=\n",
            "activity\n",
            "/content/gdrive/MyDrive/FYP/trainData/Samples/activity/00890.mp4\n",
            "31\n",
            "=------------------------------------------------------------------------------------------=\n",
            "activity\n",
            "/content/gdrive/MyDrive/FYP/trainData/Samples/activity/00891.mp4\n",
            "107\n",
            "=------------------------------------------------------------------------------------------=\n",
            "activity\n",
            "/content/gdrive/MyDrive/FYP/trainData/Samples/activity/65016.mp4\n",
            "56\n",
            "=------------------------------------------------------------------------------------------=\n",
            "activity\n",
            "/content/gdrive/MyDrive/FYP/trainData/Samples/activity/00893.mp4\n",
            "62\n",
            "=------------------------------------------------------------------------------------------=\n",
            "activity\n",
            "/content/gdrive/MyDrive/FYP/trainData/Samples/activity/00894.mp4\n",
            "64\n",
            "=------------------------------------------------------------------------------------------=\n",
            "actor\n",
            "/content/gdrive/MyDrive/FYP/trainData/Samples/actor/00897.mp4\n",
            "62\n",
            "=------------------------------------------------------------------------------------------=\n",
            "actor\n",
            "/content/gdrive/MyDrive/FYP/trainData/Samples/actor/00899.mp4\n",
            "89\n",
            "=------------------------------------------------------------------------------------------=\n",
            "actor\n",
            "/content/gdrive/MyDrive/FYP/trainData/Samples/actor/00902.mp4\n",
            "76\n",
            "=------------------------------------------------------------------------------------------=\n",
            "actor\n",
            "/content/gdrive/MyDrive/FYP/trainData/Samples/actor/00901.mp4\n",
            "64\n",
            "=------------------------------------------------------------------------------------------=\n",
            "actor\n",
            "/content/gdrive/MyDrive/FYP/trainData/Samples/actor/00904.mp4\n",
            "112\n",
            "=------------------------------------------------------------------------------------------=\n",
            "actor\n",
            "/content/gdrive/MyDrive/FYP/trainData/Samples/actor/65017.mp4\n",
            "74\n",
            "=------------------------------------------------------------------------------------------=\n",
            "actor\n",
            "/content/gdrive/MyDrive/FYP/trainData/Samples/actor/67347.mp4\n",
            "47\n",
            "=------------------------------------------------------------------------------------------=\n",
            "adapt\n",
            "/content/gdrive/MyDrive/FYP/trainData/Samples/adapt/00946.mp4\n",
            "28\n",
            "=------------------------------------------------------------------------------------------=\n",
            "adapt\n",
            "/content/gdrive/MyDrive/FYP/trainData/Samples/adapt/00947.mp4\n",
            "80\n",
            "=------------------------------------------------------------------------------------------=\n",
            "adapt\n",
            "/content/gdrive/MyDrive/FYP/trainData/Samples/adapt/00949.mp4\n",
            "50\n",
            "=------------------------------------------------------------------------------------------=\n",
            "adapt\n",
            "/content/gdrive/MyDrive/FYP/trainData/Samples/adapt/00950.mp4\n",
            "79\n",
            "=------------------------------------------------------------------------------------------=\n",
            "adapt\n",
            "/content/gdrive/MyDrive/FYP/trainData/Samples/adapt/00951.mp4\n",
            "92\n",
            "=------------------------------------------------------------------------------------------=\n",
            "address\n",
            "/content/gdrive/MyDrive/FYP/trainData/Samples/address/01012.mp4\n",
            "34\n",
            "=------------------------------------------------------------------------------------------=\n",
            "address\n",
            "/content/gdrive/MyDrive/FYP/trainData/Samples/address/01018.mp4\n",
            "41\n",
            "=------------------------------------------------------------------------------------------=\n",
            "address\n",
            "/content/gdrive/MyDrive/FYP/trainData/Samples/address/01020.mp4\n",
            "71\n",
            "=------------------------------------------------------------------------------------------=\n",
            "address\n",
            "/content/gdrive/MyDrive/FYP/trainData/Samples/address/01024.mp4\n",
            "90\n",
            "=------------------------------------------------------------------------------------------=\n",
            "address\n",
            "/content/gdrive/MyDrive/FYP/trainData/Samples/address/67348.mp4\n",
            "62\n",
            "=------------------------------------------------------------------------------------------=\n",
            "add\n",
            "/content/gdrive/MyDrive/FYP/trainData/Samples/add/00967.mp4\n",
            "26\n",
            "=------------------------------------------------------------------------------------------=\n",
            "add\n",
            "/content/gdrive/MyDrive/FYP/trainData/Samples/add/00962.mp4\n",
            "42\n",
            "=------------------------------------------------------------------------------------------=\n",
            "add\n",
            "/content/gdrive/MyDrive/FYP/trainData/Samples/add/00963.mp4\n",
            "36\n",
            "=------------------------------------------------------------------------------------------=\n",
            "add\n",
            "/content/gdrive/MyDrive/FYP/trainData/Samples/add/00964.mp4\n",
            "46\n",
            "=------------------------------------------------------------------------------------------=\n",
            "add\n",
            "/content/gdrive/MyDrive/FYP/trainData/Samples/add/00965.mp4\n",
            "123\n",
            "=------------------------------------------------------------------------------------------=\n",
            "add\n",
            "/content/gdrive/MyDrive/FYP/trainData/Samples/add/00972.mp4\n",
            "83\n",
            "=------------------------------------------------------------------------------------------=\n",
            "add\n",
            "/content/gdrive/MyDrive/FYP/trainData/Samples/add/65018.mp4\n",
            "72\n",
            "=------------------------------------------------------------------------------------------=\n",
            "adjective\n",
            "/content/gdrive/MyDrive/FYP/trainData/Samples/adjective/01065.mp4\n",
            "33\n",
            "=------------------------------------------------------------------------------------------=\n",
            "adjective\n",
            "/content/gdrive/MyDrive/FYP/trainData/Samples/adjective/01066.mp4\n",
            "180\n",
            "=------------------------------------------------------------------------------------------=\n",
            "adjective\n",
            "/content/gdrive/MyDrive/FYP/trainData/Samples/adjective/01067.mp4\n",
            "61\n",
            "=------------------------------------------------------------------------------------------=\n",
            "adjective\n",
            "/content/gdrive/MyDrive/FYP/trainData/Samples/adjective/01068.mp4\n",
            "48\n",
            "=------------------------------------------------------------------------------------------=\n",
            "adjective\n",
            "/content/gdrive/MyDrive/FYP/trainData/Samples/adjective/01069.mp4\n",
            "84\n",
            "=------------------------------------------------------------------------------------------=\n",
            "adjust\n",
            "/content/gdrive/MyDrive/FYP/trainData/Samples/adjust/01075.mp4\n",
            "35\n",
            "=------------------------------------------------------------------------------------------=\n",
            "adjust\n",
            "/content/gdrive/MyDrive/FYP/trainData/Samples/adjust/01078.mp4\n",
            "67\n",
            "=------------------------------------------------------------------------------------------=\n",
            "adjust\n",
            "/content/gdrive/MyDrive/FYP/trainData/Samples/adjust/01076.mp4\n",
            "50\n",
            "=------------------------------------------------------------------------------------------=\n",
            "adjust\n",
            "/content/gdrive/MyDrive/FYP/trainData/Samples/adjust/01077.mp4\n",
            "63\n",
            "=------------------------------------------------------------------------------------------=\n",
            "adjust\n",
            "/content/gdrive/MyDrive/FYP/trainData/Samples/adjust/01079.mp4\n",
            "102\n",
            "=------------------------------------------------------------------------------------------=\n",
            "admire\n",
            "/content/gdrive/MyDrive/FYP/trainData/Samples/admire/01101.mp4\n",
            "139\n",
            "=------------------------------------------------------------------------------------------=\n",
            "admire\n",
            "/content/gdrive/MyDrive/FYP/trainData/Samples/admire/01102.mp4\n",
            "34\n",
            "=------------------------------------------------------------------------------------------=\n",
            "admire\n",
            "/content/gdrive/MyDrive/FYP/trainData/Samples/admire/01107.mp4\n",
            "100\n",
            "=------------------------------------------------------------------------------------------=\n",
            "admire\n",
            "/content/gdrive/MyDrive/FYP/trainData/Samples/admire/01106.mp4\n",
            "89\n",
            "=------------------------------------------------------------------------------------------=\n",
            "admire\n",
            "/content/gdrive/MyDrive/FYP/trainData/Samples/admire/01103.mp4\n",
            "46\n",
            "=------------------------------------------------------------------------------------------=\n",
            "admit\n",
            "/content/gdrive/MyDrive/FYP/trainData/Samples/admit/01118.mp4\n",
            "33\n",
            "=------------------------------------------------------------------------------------------=\n",
            "admit\n",
            "/content/gdrive/MyDrive/FYP/trainData/Samples/admit/01120.mp4\n",
            "138\n",
            "=------------------------------------------------------------------------------------------=\n",
            "admit\n",
            "/content/gdrive/MyDrive/FYP/trainData/Samples/admit/01121.mp4\n",
            "67\n",
            "=------------------------------------------------------------------------------------------=\n",
            "admit\n",
            "/content/gdrive/MyDrive/FYP/trainData/Samples/admit/01122.mp4\n",
            "37\n",
            "=------------------------------------------------------------------------------------------=\n",
            "admit\n",
            "/content/gdrive/MyDrive/FYP/trainData/Samples/admit/01127.mp4\n",
            "89\n",
            "=------------------------------------------------------------------------------------------=\n",
            "adult\n",
            "/content/gdrive/MyDrive/FYP/trainData/Samples/adult/01206.mp4\n",
            "86\n",
            "=------------------------------------------------------------------------------------------=\n",
            "adult\n",
            "/content/gdrive/MyDrive/FYP/trainData/Samples/adult/01207.mp4\n",
            "84\n",
            "=------------------------------------------------------------------------------------------=\n",
            "adult\n",
            "/content/gdrive/MyDrive/FYP/trainData/Samples/adult/01209.mp4\n",
            "38\n",
            "=------------------------------------------------------------------------------------------=\n",
            "adult\n",
            "/content/gdrive/MyDrive/FYP/trainData/Samples/adult/01212.mp4\n",
            "35\n",
            "=------------------------------------------------------------------------------------------=\n",
            "adult\n",
            "/content/gdrive/MyDrive/FYP/trainData/Samples/adult/01214.mp4\n",
            "40\n",
            "=------------------------------------------------------------------------------------------=\n",
            "adult\n",
            "/content/gdrive/MyDrive/FYP/trainData/Samples/adult/01216.mp4\n",
            "74\n",
            "=------------------------------------------------------------------------------------------=\n",
            "adult\n",
            "/content/gdrive/MyDrive/FYP/trainData/Samples/adult/01217.mp4\n",
            "100\n",
            "=------------------------------------------------------------------------------------------=\n",
            "adult\n",
            "/content/gdrive/MyDrive/FYP/trainData/Samples/adult/01208.mp4\n",
            "102\n",
            "=------------------------------------------------------------------------------------------=\n",
            "adopt\n",
            "/content/gdrive/MyDrive/FYP/trainData/Samples/adopt/01157.mp4\n",
            "106\n",
            "=------------------------------------------------------------------------------------------=\n",
            "adopt\n",
            "/content/gdrive/MyDrive/FYP/trainData/Samples/adopt/01149.mp4\n",
            "42\n",
            "=------------------------------------------------------------------------------------------=\n",
            "adopt\n",
            "/content/gdrive/MyDrive/FYP/trainData/Samples/adopt/01160.mp4\n",
            "35\n",
            "=------------------------------------------------------------------------------------------=\n",
            "adopt\n",
            "/content/gdrive/MyDrive/FYP/trainData/Samples/adopt/01162.mp4\n",
            "90\n",
            "=------------------------------------------------------------------------------------------=\n",
            "adopt\n",
            "/content/gdrive/MyDrive/FYP/trainData/Samples/adopt/65022.mp4\n",
            "57\n",
            "=------------------------------------------------------------------------------------------=\n",
            "advanced\n",
            "/content/gdrive/MyDrive/FYP/trainData/Samples/advanced/01227.mp4\n",
            "56\n",
            "=------------------------------------------------------------------------------------------=\n",
            "advanced\n",
            "/content/gdrive/MyDrive/FYP/trainData/Samples/advanced/01228.mp4\n",
            "37\n",
            "=------------------------------------------------------------------------------------------=\n",
            "advanced\n",
            "/content/gdrive/MyDrive/FYP/trainData/Samples/advanced/01231.mp4\n",
            "95\n",
            "=------------------------------------------------------------------------------------------=\n",
            "advanced\n",
            "/content/gdrive/MyDrive/FYP/trainData/Samples/advanced/01230.mp4\n",
            "59\n",
            "=------------------------------------------------------------------------------------------=\n",
            "advanced\n",
            "/content/gdrive/MyDrive/FYP/trainData/Samples/advanced/01229.mp4\n",
            "67\n",
            "=------------------------------------------------------------------------------------------=\n",
            "advantage\n",
            "/content/gdrive/MyDrive/FYP/trainData/Samples/advantage/01242.mp4\n",
            "56\n",
            "=------------------------------------------------------------------------------------------=\n",
            "advantage\n",
            "/content/gdrive/MyDrive/FYP/trainData/Samples/advantage/01247.mp4\n",
            "55\n",
            "=------------------------------------------------------------------------------------------=\n",
            "advantage\n",
            "/content/gdrive/MyDrive/FYP/trainData/Samples/advantage/01249.mp4\n",
            "62\n",
            "=------------------------------------------------------------------------------------------=\n",
            "advantage\n",
            "/content/gdrive/MyDrive/FYP/trainData/Samples/advantage/01251.mp4\n",
            "67\n",
            "=------------------------------------------------------------------------------------------=\n",
            "advantage\n",
            "/content/gdrive/MyDrive/FYP/trainData/Samples/advantage/01252.mp4\n",
            "92\n",
            "=------------------------------------------------------------------------------------------=\n",
            "advantage\n",
            "/content/gdrive/MyDrive/FYP/trainData/Samples/advantage/65025.mp4\n",
            "43\n",
            "=------------------------------------------------------------------------------------------=\n",
            "with\n",
            "/content/gdrive/MyDrive/FYP/trainData/Samples/with/63587.mp4\n",
            "120\n",
            "=------------------------------------------------------------------------------------------=\n",
            "with\n",
            "/content/gdrive/MyDrive/FYP/trainData/Samples/with/63588.mp4\n",
            "80\n",
            "=------------------------------------------------------------------------------------------=\n",
            "with\n",
            "/content/gdrive/MyDrive/FYP/trainData/Samples/with/63589.mp4\n",
            "54\n",
            "=------------------------------------------------------------------------------------------=\n",
            "with\n",
            "/content/gdrive/MyDrive/FYP/trainData/Samples/with/63590.mp4\n",
            "77\n",
            "=------------------------------------------------------------------------------------------=\n",
            "with\n",
            "/content/gdrive/MyDrive/FYP/trainData/Samples/with/63591.mp4\n",
            "61\n",
            "=------------------------------------------------------------------------------------------=\n",
            "with\n",
            "/content/gdrive/MyDrive/FYP/trainData/Samples/with/63592.mp4\n",
            "51\n",
            "=------------------------------------------------------------------------------------------=\n",
            "with\n",
            "/content/gdrive/MyDrive/FYP/trainData/Samples/with/63593.mp4\n",
            "81\n",
            "=------------------------------------------------------------------------------------------=\n",
            "with\n",
            "/content/gdrive/MyDrive/FYP/trainData/Samples/with/63595.mp4\n",
            "57\n",
            "=------------------------------------------------------------------------------------------=\n",
            "with\n",
            "/content/gdrive/MyDrive/FYP/trainData/Samples/with/63596.mp4\n",
            "89\n",
            "=------------------------------------------------------------------------------------------=\n",
            "with\n",
            "/content/gdrive/MyDrive/FYP/trainData/Samples/with/66795.mp4\n",
            "52\n",
            "=------------------------------------------------------------------------------------------=\n",
            "will\n",
            "/content/gdrive/MyDrive/FYP/trainData/Samples/will/63358.mp4\n",
            "52\n",
            "=------------------------------------------------------------------------------------------=\n",
            "will\n",
            "/content/gdrive/MyDrive/FYP/trainData/Samples/will/63360.mp4\n",
            "81\n",
            "=------------------------------------------------------------------------------------------=\n",
            "will\n",
            "/content/gdrive/MyDrive/FYP/trainData/Samples/will/63363.mp4\n",
            "61\n",
            "=------------------------------------------------------------------------------------------=\n",
            "will\n",
            "/content/gdrive/MyDrive/FYP/trainData/Samples/will/63364.mp4\n",
            "23\n",
            "=------------------------------------------------------------------------------------------=\n",
            "will\n",
            "/content/gdrive/MyDrive/FYP/trainData/Samples/will/63370.mp4\n",
            "63\n",
            "=------------------------------------------------------------------------------------------=\n",
            "will\n",
            "/content/gdrive/MyDrive/FYP/trainData/Samples/will/69536.mp4\n",
            "85\n",
            "=------------------------------------------------------------------------------------------=\n",
            "will\n",
            "/content/gdrive/MyDrive/FYP/trainData/Samples/will/63369.mp4\n",
            "81\n",
            "=------------------------------------------------------------------------------------------=\n",
            "will\n",
            "/content/gdrive/MyDrive/FYP/trainData/Samples/will/70350.mp4\n",
            "108\n",
            "=------------------------------------------------------------------------------------------=\n",
            "woman\n",
            "/content/gdrive/MyDrive/FYP/trainData/Samples/woman/63666.mp4\n",
            "69\n",
            "=------------------------------------------------------------------------------------------=\n",
            "woman\n",
            "/content/gdrive/MyDrive/FYP/trainData/Samples/woman/63667.mp4\n",
            "25\n",
            "=------------------------------------------------------------------------------------------=\n",
            "woman\n",
            "/content/gdrive/MyDrive/FYP/trainData/Samples/woman/63665.mp4\n",
            "71\n",
            "=------------------------------------------------------------------------------------------=\n",
            "woman\n",
            "/content/gdrive/MyDrive/FYP/trainData/Samples/woman/63668.mp4\n",
            "31\n",
            "=------------------------------------------------------------------------------------------=\n",
            "woman\n",
            "/content/gdrive/MyDrive/FYP/trainData/Samples/woman/63672.mp4\n",
            "28\n",
            "=------------------------------------------------------------------------------------------=\n",
            "woman\n",
            "/content/gdrive/MyDrive/FYP/trainData/Samples/woman/63671.mp4\n",
            "61\n",
            "=------------------------------------------------------------------------------------------=\n",
            "woman\n",
            "/content/gdrive/MyDrive/FYP/trainData/Samples/woman/63670.mp4\n",
            "61\n",
            "=------------------------------------------------------------------------------------------=\n",
            "woman\n",
            "/content/gdrive/MyDrive/FYP/trainData/Samples/woman/63673.mp4\n",
            "41\n",
            "=------------------------------------------------------------------------------------------=\n",
            "woman\n",
            "/content/gdrive/MyDrive/FYP/trainData/Samples/woman/63676.mp4\n",
            "55\n",
            "=------------------------------------------------------------------------------------------=\n",
            "woman\n",
            "/content/gdrive/MyDrive/FYP/trainData/Samples/woman/63677.mp4\n",
            "76\n",
            "=------------------------------------------------------------------------------------------=\n",
            "woman\n",
            "/content/gdrive/MyDrive/FYP/trainData/Samples/woman/63678.mp4\n",
            "53\n",
            "=------------------------------------------------------------------------------------------=\n",
            "woman\n",
            "/content/gdrive/MyDrive/FYP/trainData/Samples/woman/63679.mp4\n",
            "68\n",
            "=------------------------------------------------------------------------------------------=\n",
            "woman\n",
            "/content/gdrive/MyDrive/FYP/trainData/Samples/woman/66798.mp4\n",
            "48\n",
            "=------------------------------------------------------------------------------------------=\n",
            "woman\n",
            "/content/gdrive/MyDrive/FYP/trainData/Samples/woman/67078.mp4\n",
            "48\n",
            "=------------------------------------------------------------------------------------------=\n",
            "woman\n",
            "/content/gdrive/MyDrive/FYP/trainData/Samples/woman/66799.mp4\n",
            "54\n",
            "=------------------------------------------------------------------------------------------=\n",
            "wow\n",
            "/content/gdrive/MyDrive/FYP/trainData/Samples/wow/63947.mp4\n",
            "46\n",
            "=------------------------------------------------------------------------------------------=\n",
            "wow\n",
            "/content/gdrive/MyDrive/FYP/trainData/Samples/wow/63948.mp4\n",
            "90\n",
            "=------------------------------------------------------------------------------------------=\n",
            "wow\n",
            "/content/gdrive/MyDrive/FYP/trainData/Samples/wow/63949.mp4\n",
            "56\n",
            "=------------------------------------------------------------------------------------------=\n",
            "wow\n",
            "/content/gdrive/MyDrive/FYP/trainData/Samples/wow/63951.mp4\n",
            "46\n",
            "=------------------------------------------------------------------------------------------=\n",
            "wow\n",
            "/content/gdrive/MyDrive/FYP/trainData/Samples/wow/63953.mp4\n",
            "39\n",
            "=------------------------------------------------------------------------------------------=\n",
            "wow\n",
            "/content/gdrive/MyDrive/FYP/trainData/Samples/wow/63955.mp4\n",
            "34\n",
            "=------------------------------------------------------------------------------------------=\n",
            "wow\n",
            "/content/gdrive/MyDrive/FYP/trainData/Samples/wow/63964.mp4\n",
            "60\n",
            "=------------------------------------------------------------------------------------------=\n",
            "yes\n",
            "/content/gdrive/MyDrive/FYP/trainData/Samples/yes/64280.mp4\n",
            "62\n",
            "=------------------------------------------------------------------------------------------=\n",
            "yes\n",
            "/content/gdrive/MyDrive/FYP/trainData/Samples/yes/64281.mp4\n",
            "70\n",
            "=------------------------------------------------------------------------------------------=\n",
            "yes\n",
            "/content/gdrive/MyDrive/FYP/trainData/Samples/yes/64283.mp4\n",
            "21\n",
            "=------------------------------------------------------------------------------------------=\n",
            "yes\n",
            "/content/gdrive/MyDrive/FYP/trainData/Samples/yes/64284.mp4\n",
            "55\n",
            "=------------------------------------------------------------------------------------------=\n",
            "yes\n",
            "/content/gdrive/MyDrive/FYP/trainData/Samples/yes/64288.mp4\n",
            "53\n",
            "=------------------------------------------------------------------------------------------=\n",
            "yes\n",
            "/content/gdrive/MyDrive/FYP/trainData/Samples/yes/64289.mp4\n",
            "63\n",
            "=------------------------------------------------------------------------------------------=\n",
            "yes\n",
            "/content/gdrive/MyDrive/FYP/trainData/Samples/yes/64290.mp4\n",
            "63\n",
            "=------------------------------------------------------------------------------------------=\n",
            "yes\n",
            "/content/gdrive/MyDrive/FYP/trainData/Samples/yes/64291.mp4\n",
            "54\n",
            "=------------------------------------------------------------------------------------------=\n",
            "yes\n",
            "/content/gdrive/MyDrive/FYP/trainData/Samples/yes/64294.mp4\n",
            "59\n",
            "=------------------------------------------------------------------------------------------=\n",
            "yes\n",
            "/content/gdrive/MyDrive/FYP/trainData/Samples/yes/64292.mp4\n",
            "46\n",
            "=------------------------------------------------------------------------------------------=\n",
            "yes\n",
            "/content/gdrive/MyDrive/FYP/trainData/Samples/yes/64295.mp4\n",
            "59\n",
            "=------------------------------------------------------------------------------------------=\n",
            "yes\n",
            "/content/gdrive/MyDrive/FYP/trainData/Samples/yes/64296.mp4\n",
            "119\n",
            "=------------------------------------------------------------------------------------------=\n",
            "yes\n",
            "/content/gdrive/MyDrive/FYP/trainData/Samples/yes/64300.mp4\n",
            "89\n",
            "=------------------------------------------------------------------------------------------=\n",
            "yes\n",
            "/content/gdrive/MyDrive/FYP/trainData/Samples/yes/66820.mp4\n",
            "46\n",
            "=------------------------------------------------------------------------------------------=\n",
            "yes\n",
            "/content/gdrive/MyDrive/FYP/trainData/Samples/yes/64299.mp4\n",
            "57\n",
            "=------------------------------------------------------------------------------------------=\n",
            "you\n",
            "/content/gdrive/MyDrive/FYP/trainData/Samples/you/64382.mp4\n",
            "60\n",
            "=------------------------------------------------------------------------------------------=\n",
            "you\n",
            "/content/gdrive/MyDrive/FYP/trainData/Samples/you/64383.mp4\n",
            "79\n",
            "=------------------------------------------------------------------------------------------=\n",
            "you\n",
            "/content/gdrive/MyDrive/FYP/trainData/Samples/you/64381.mp4\n",
            "62\n",
            "=------------------------------------------------------------------------------------------=\n",
            "you\n",
            "/content/gdrive/MyDrive/FYP/trainData/Samples/you/64384.mp4\n",
            "56\n",
            "=------------------------------------------------------------------------------------------=\n",
            "you\n",
            "/content/gdrive/MyDrive/FYP/trainData/Samples/you/64388.mp4\n",
            "68\n",
            "=------------------------------------------------------------------------------------------=\n",
            "you\n",
            "/content/gdrive/MyDrive/FYP/trainData/Samples/you/64386.mp4\n",
            "85\n",
            "=------------------------------------------------------------------------------------------=\n",
            "you\n",
            "/content/gdrive/MyDrive/FYP/trainData/Samples/you/64385.mp4\n",
            "50\n",
            "=------------------------------------------------------------------------------------------=\n",
            "you\n",
            "/content/gdrive/MyDrive/FYP/trainData/Samples/you/64389.mp4\n",
            "88\n",
            "=------------------------------------------------------------------------------------------=\n",
            "you\n",
            "/content/gdrive/MyDrive/FYP/trainData/Samples/you/64390.mp4\n",
            "50\n",
            "=------------------------------------------------------------------------------------------=\n",
            "you\n",
            "/content/gdrive/MyDrive/FYP/trainData/Samples/you/64391.mp4\n",
            "80\n",
            "=------------------------------------------------------------------------------------------=\n",
            "you\n",
            "/content/gdrive/MyDrive/FYP/trainData/Samples/you/67015.mp4\n",
            "51\n",
            "=------------------------------------------------------------------------------------------=\n",
            "your\n",
            "/content/gdrive/MyDrive/FYP/trainData/Samples/your/64427.mp4\n",
            "99\n",
            "=------------------------------------------------------------------------------------------=\n",
            "your\n",
            "/content/gdrive/MyDrive/FYP/trainData/Samples/your/64429.mp4\n",
            "37\n",
            "=------------------------------------------------------------------------------------------=\n",
            "your\n",
            "/content/gdrive/MyDrive/FYP/trainData/Samples/your/64430.mp4\n",
            "85\n",
            "=------------------------------------------------------------------------------------------=\n",
            "your\n",
            "/content/gdrive/MyDrive/FYP/trainData/Samples/your/64431.mp4\n",
            "17\n",
            "=------------------------------------------------------------------------------------------=\n",
            "your\n",
            "/content/gdrive/MyDrive/FYP/trainData/Samples/your/64432.mp4\n",
            "20\n",
            "=------------------------------------------------------------------------------------------=\n",
            "your\n",
            "/content/gdrive/MyDrive/FYP/trainData/Samples/your/64433.mp4\n",
            "30\n",
            "=------------------------------------------------------------------------------------------=\n",
            "your\n",
            "/content/gdrive/MyDrive/FYP/trainData/Samples/your/64435.mp4\n",
            "55\n",
            "=------------------------------------------------------------------------------------------=\n",
            "your\n",
            "/content/gdrive/MyDrive/FYP/trainData/Samples/your/64436.mp4\n",
            "104\n",
            "=------------------------------------------------------------------------------------------=\n",
            "your\n",
            "/content/gdrive/MyDrive/FYP/trainData/Samples/your/64437.mp4\n",
            "62\n",
            "=------------------------------------------------------------------------------------------=\n",
            "your\n",
            "/content/gdrive/MyDrive/FYP/trainData/Samples/your/64438.mp4\n",
            "71\n",
            "=------------------------------------------------------------------------------------------=\n",
            "zero\n",
            "/content/gdrive/MyDrive/FYP/trainData/Samples/zero/64546.mp4\n",
            "28\n",
            "=------------------------------------------------------------------------------------------=\n",
            "zero\n",
            "/content/gdrive/MyDrive/FYP/trainData/Samples/zero/64547.mp4\n",
            "27\n",
            "=------------------------------------------------------------------------------------------=\n",
            "zero\n",
            "/content/gdrive/MyDrive/FYP/trainData/Samples/zero/64544.mp4\n",
            "50\n",
            "=------------------------------------------------------------------------------------------=\n",
            "zero\n",
            "/content/gdrive/MyDrive/FYP/trainData/Samples/zero/64548.mp4\n",
            "76\n",
            "=------------------------------------------------------------------------------------------=\n",
            "zero\n",
            "/content/gdrive/MyDrive/FYP/trainData/Samples/zero/66825.mp4\n",
            "56\n",
            "=------------------------------------------------------------------------------------------=\n",
            "zero\n",
            "/content/gdrive/MyDrive/FYP/trainData/Samples/zero/68193.mp4\n",
            "82\n",
            "=------------------------------------------------------------------------------------------=\n",
            "adverb\n",
            "/content/gdrive/MyDrive/FYP/trainData/Samples/adverb/01265.mp4\n",
            "96\n",
            "=------------------------------------------------------------------------------------------=\n",
            "adverb\n",
            "/content/gdrive/MyDrive/FYP/trainData/Samples/adverb/01266.mp4\n",
            "151\n",
            "=------------------------------------------------------------------------------------------=\n",
            "adverb\n",
            "/content/gdrive/MyDrive/FYP/trainData/Samples/adverb/01267.mp4\n",
            "60\n",
            "=------------------------------------------------------------------------------------------=\n",
            "adverb\n",
            "/content/gdrive/MyDrive/FYP/trainData/Samples/adverb/01269.mp4\n",
            "82\n",
            "=------------------------------------------------------------------------------------------=\n",
            "adverb\n",
            "/content/gdrive/MyDrive/FYP/trainData/Samples/adverb/01268.mp4\n",
            "41\n",
            "=------------------------------------------------------------------------------------------=\n",
            "bath\n",
            "/content/gdrive/MyDrive/FYP/trainData/Samples/bath/05270.mp4\n",
            "56\n",
            "=------------------------------------------------------------------------------------------=\n",
            "bath\n",
            "/content/gdrive/MyDrive/FYP/trainData/Samples/bath/05275.mp4\n",
            "77\n",
            "=------------------------------------------------------------------------------------------=\n",
            "bath\n",
            "/content/gdrive/MyDrive/FYP/trainData/Samples/bath/05279.mp4\n",
            "61\n",
            "=------------------------------------------------------------------------------------------=\n",
            "bath\n",
            "/content/gdrive/MyDrive/FYP/trainData/Samples/bath/05280.mp4\n",
            "44\n",
            "=------------------------------------------------------------------------------------------=\n",
            "bath\n",
            "/content/gdrive/MyDrive/FYP/trainData/Samples/bath/05281.mp4\n",
            "148\n",
            "=------------------------------------------------------------------------------------------=\n",
            "bath\n",
            "/content/gdrive/MyDrive/FYP/trainData/Samples/bath/05282.mp4\n",
            "73\n",
            "=------------------------------------------------------------------------------------------=\n",
            "bath\n",
            "/content/gdrive/MyDrive/FYP/trainData/Samples/bath/05284.mp4\n",
            "76\n",
            "=------------------------------------------------------------------------------------------=\n",
            "bath\n",
            "/content/gdrive/MyDrive/FYP/trainData/Samples/bath/05285.mp4\n",
            "80\n",
            "=------------------------------------------------------------------------------------------=\n",
            "bath\n",
            "/content/gdrive/MyDrive/FYP/trainData/Samples/bath/65147.mp4\n",
            "53\n",
            "=------------------------------------------------------------------------------------------=\n",
            "bath\n",
            "/content/gdrive/MyDrive/FYP/trainData/Samples/bath/67393.mp4\n",
            "49\n",
            "=------------------------------------------------------------------------------------------=\n",
            "book\n",
            "/content/gdrive/MyDrive/FYP/trainData/Samples/book/07068.mp4\n",
            "67\n",
            "=------------------------------------------------------------------------------------------=\n",
            "book\n",
            "/content/gdrive/MyDrive/FYP/trainData/Samples/book/07070.mp4\n",
            "85\n",
            "=------------------------------------------------------------------------------------------=\n",
            "book\n",
            "/content/gdrive/MyDrive/FYP/trainData/Samples/book/07069.mp4\n",
            "29\n",
            "=------------------------------------------------------------------------------------------=\n",
            "book\n",
            "/content/gdrive/MyDrive/FYP/trainData/Samples/book/07071.mp4\n",
            "19\n",
            "=------------------------------------------------------------------------------------------=\n",
            "book\n",
            "/content/gdrive/MyDrive/FYP/trainData/Samples/book/07073.mp4\n",
            "31\n",
            "=------------------------------------------------------------------------------------------=\n",
            "book\n",
            "/content/gdrive/MyDrive/FYP/trainData/Samples/book/07075.mp4\n",
            "80\n",
            "=------------------------------------------------------------------------------------------=\n",
            "book\n",
            "/content/gdrive/MyDrive/FYP/trainData/Samples/book/07076.mp4\n",
            "105\n",
            "=------------------------------------------------------------------------------------------=\n",
            "book\n",
            "/content/gdrive/MyDrive/FYP/trainData/Samples/book/07074.mp4\n",
            "37\n",
            "=------------------------------------------------------------------------------------------=\n",
            "book\n",
            "/content/gdrive/MyDrive/FYP/trainData/Samples/book/07077.mp4\n",
            "116\n",
            "=------------------------------------------------------------------------------------------=\n"
          ],
          "name": "stdout"
        }
      ]
    },
    {
      "cell_type": "code",
      "metadata": {
        "id": "DQ9ysMnVhlWr"
      },
      "source": [
        "import numpy as np\n",
        "os.chdir(\"/content/gdrive/MyDrive/FYP\")\n",
        "tensorList = np.load('tensorslast.npy',allow_pickle=True)\n",
        "\n"
      ],
      "execution_count": null,
      "outputs": []
    },
    {
      "cell_type": "code",
      "metadata": {
        "colab": {
          "base_uri": "https://localhost:8080/"
        },
        "id": "jUz7wR7RFQOx",
        "outputId": "2ea4a746-7d69-42f3-c9c4-309d5e3e27d4"
      },
      "source": [
        "from sklearn import preprocessing\n",
        "labels = np.load('labelslast.npy',allow_pickle=True)\n",
        "le = preprocessing.LabelEncoder()\n",
        "le.fit(labels)\n",
        "labels = le.transform(labels)\n",
        "\n",
        "print(labels)\n"
      ],
      "execution_count": null,
      "outputs": [
        {
          "output_type": "stream",
          "text": [
            "[  0   0   0 ... 100 100 100]\n"
          ],
          "name": "stdout"
        }
      ]
    },
    {
      "cell_type": "code",
      "metadata": {
        "colab": {
          "base_uri": "https://localhost:8080/"
        },
        "id": "jQeLEZ98k4Ms",
        "outputId": "d7abf105-a575-4760-e2c1-4ff1347884b0"
      },
      "source": [
        "os.chdir(\"/content/gdrive/MyDrive/FYP\")\n",
        "label_Words = np.load('labels_word.npy',allow_pickle=True)\n",
        "print(label_Words)"
      ],
      "execution_count": null,
      "outputs": [
        {
          "output_type": "stream",
          "text": [
            "['accident' 'africa' 'all' 'apple' 'basketball' 'bed' 'before' 'bird'\n",
            " 'black' 'blue' 'book' 'bowling' 'brown' 'can' 'candy' 'cat' 'chair'\n",
            " 'change' 'cheat' 'city' 'clothes' 'color' 'computer' 'cook' 'cool' 'corn'\n",
            " 'cousin' 'cow' 'cry' 'dance' 'dark' 'deaf' 'decide' 'doctor' 'dog' 'door'\n",
            " 'drink' 'enjoy' 'family' 'fine' 'finish' 'fish' 'forget' 'full' 'give'\n",
            " 'go' 'graduate' 'hair' 'hat' 'hearing' 'help' 'hot' 'jacket' 'kiss'\n",
            " 'knife' 'language' 'last' 'later' 'learn' 'letter' 'like' 'man' 'many'\n",
            " 'medicine' 'meet' 'mother' 'no' 'now' 'orange' 'paint' 'paper' 'pink'\n",
            " 'pizza' 'play' 'pull' 'purple' 'read' 'secretary' 'shirt' 'short' 'son'\n",
            " 'study' 'table' 'tall' 'tell' 'thanksgiving' 'thin' 'thursday' 'time'\n",
            " 'visit' 'wait' 'walk' 'want' 'what' 'white' 'who' 'woman' 'work' 'wrong'\n",
            " 'year' 'yes']\n"
          ],
          "name": "stdout"
        }
      ]
    },
    {
      "cell_type": "code",
      "metadata": {
        "id": "poqx5Jk7HN4T"
      },
      "source": [
        "#os.chdir(\"/content/gdrive/MyDrive/FYP/trainData/Samples\")\n",
        "import torch.nn.utils.rnn as rnn\n",
        "#Custom Dataloader\n",
        "class signData(Dataset):\n",
        "    def __init__(self, X, Y, transform = None):\n",
        "        #X is TensorList as argument\n",
        "        self.X = X\n",
        "        #Y is LabelList as argument\n",
        "        self.Y = Y\n",
        "        \n",
        "        if transform == 1:\n",
        "            self.transform = transforms.Compose([transforms.ToTensor(),\n",
        "                                                 transforms.Resize((128,128))\n",
        "                                                 ,transforms.Normalize(mean=np.array([0.485, 0.456, 0.406]), std=np.array([0.229, 0.224, 0.225]))])\n",
        "        \n",
        "    def __len__(self):\n",
        "        return len(self.X)\n",
        "\n",
        "    def __getitem__(self,index):\n",
        "        #Accessing every instance of NpTensorArr\n",
        "        imageStack = self.X[index]\n",
        "        #Accesing every instance of NpLabelList\n",
        "        label = self.Y[index]\n",
        "        return torch.from_numpy(imageStack), len(imageStack), label \n",
        "\n",
        "\n",
        "#Use my_collate for Image Batching and normalizing image sizes\n",
        "def my_collate(batch):\n",
        "    inputs = rnn.pad_sequence([s[0] for s in batch], padding_value=0.0)\n",
        "    input_sizes = torch.LongTensor([s[1] for s in batch])\n",
        "    target = torch.LongTensor([s[2] for s in batch])\n",
        "    return inputs, input_sizes, target    \n",
        "\n",
        "\n",
        "\n",
        "#Transform Images\n",
        "trans = transforms.Compose([transforms.ToTensor(),transforms.Resize((128,128)),\n",
        "                                                 transforms.Normalize(mean=np.array([0.485, 0.456, 0.406]), std=np.array([0.229, 0.224, 0.225]))])\n",
        "\n"
      ],
      "execution_count": null,
      "outputs": []
    },
    {
      "cell_type": "code",
      "metadata": {
        "id": "wcnJg_fdDDnz"
      },
      "source": [
        "\n",
        "Data = signData(tensorList, labels, transform=1)\n",
        "\n",
        "train,val = torch.utils.data.random_split(Data, [1300, 297], generator=torch.Generator().manual_seed(42))\n",
        "\n",
        "train_arg = dict(batch_size=4, shuffle=True, collate_fn = my_collate) \n",
        "\n",
        "train_loader = DataLoader(train, **train_arg)\n",
        "\n",
        "val_loader = DataLoader(val, **train_arg)\n",
        "\n"
      ],
      "execution_count": null,
      "outputs": []
    },
    {
      "cell_type": "code",
      "metadata": {
        "colab": {
          "base_uri": "https://localhost:8080/",
          "height": 1000,
          "referenced_widgets": [
            "c666f0440ecf40899a40f28d7d67cf84",
            "bc844bc0b87f426787822541ee147615",
            "4053f08c09d74779929b9f66979cfc41",
            "0e55477db7164aa58df9a01253fb2ddf",
            "a559e21a58cc49f6956135f70d717f3b",
            "0c631a680cdc47ec85d2d34479bfc463",
            "8e5323db04024469b2ff6b80102fb9fc",
            "a05da6fde83744d4bb37b040d9b51072"
          ]
        },
        "id": "sM9IIzImDDPa",
        "outputId": "35d295fc-9200-46db-8b0f-25fb06efbd8d"
      },
      "source": [
        "#Model Intializing\n",
        "model = torchvision.models.video.r3d_18(pretrained=True)\n",
        "\n",
        "\n",
        "#Parameter for Model Optimizer\n",
        "criterion = nn.CrossEntropyLoss()\n",
        "lr=0.0001\n",
        "weight_decay=0.0001\n",
        "factor=0.316\n",
        "\n",
        "#To transfer Model and Training from cpu to available gpu\n",
        "device = \"cuda\" if torch.cuda.is_available() else \"cpu\"\n",
        "import torch\n",
        "torch.cuda.empty_cache()\n",
        "import gc \n",
        "model.to(device)\n",
        "criterion.to(device)\n",
        "\n",
        "# Your code with pytorch using GPU \n",
        "optimizer = torch.optim.Adam(model.parameters(),lr=lr, weight_decay=weight_decay)\n",
        "torch.cuda.memory_summary(device=device, abbreviated=False)\n",
        "\n",
        "\n",
        "def train(n_epochs, model, optimizer, criterion):\n",
        "    \"\"\"returns trained model\"\"\"\n",
        "    # initialize tracker for minimum validation loss\n",
        "    valid_loss_min = np.Inf\n",
        "    train_loss = 0.0\n",
        "    valid_loss = 0.0  \n",
        "    for epoch in range(1, n_epochs+1):\n",
        "        # initialize variables to monitor training and validation loss\n",
        "        \n",
        "        ###################\n",
        "        # train the model #\n",
        "        ###################\n",
        "\n",
        "        model.train()\n",
        "        for batch_idx, (data, dsize, target) in enumerate(train_loader):\n",
        "          device = torch.device(\"cuda:0\" if torch.cuda.is_available() else \"cpu\")\n",
        "          data, target = data.to(device), target.to(device)\n",
        "          # initialize weights to zero\n",
        "          \n",
        "          data = data.permute(1,2,0,3,4)  #Changing Shape to make it suitable for Resnet Input\n",
        "          optimizer.zero_grad()\n",
        "          output = model(data)\n",
        "            # calculate loss\n",
        "          loss = criterion(output, target)\n",
        "          train_loss += loss.item() \n",
        "            # back prop\n",
        "          loss.backward()\n",
        "            \n",
        "            # grad\n",
        "          optimizer.step()\n",
        "            \n",
        "        train_loss /= len(train_loader)\n",
        "            \n",
        "        print('Training loss: %.3f' %(train_loss))\n",
        "        with torch.no_grad():\n",
        "          model.eval()\n",
        "          val_loss = 0\n",
        "          batch_id=0\n",
        "          num_correct = 0\n",
        "          num_samples = 0\n",
        "          for X, X_lens, Y in val_loader:\n",
        "            batch_id+=1\n",
        "            X = X.permute(1,2,0,3,4)\n",
        "            X = X.to(device)\n",
        "            Y = Y.to(device)\n",
        "            out = model(X)\n",
        "            pre, predictions = torch.topk(out,1)\n",
        "            i = 0\n",
        "            for q in predictions:\n",
        "              if Y[i] in predictions[i]:\n",
        "                num_correct += 1\n",
        "              i+=1\n",
        "\n",
        "            num_samples += predictions.size(0)\n",
        "            loss = criterion(out, Y)\n",
        "            val_loss+=loss.item()\n",
        "        val_lpw = val_loss / len(val_loader)\n",
        "        print('Validation Loss: ', val_lpw)\n",
        "        print(\"---------------------------------------------------------------------------\")\n",
        "        print(f'Got {num_correct} / {num_samples} with accuracy {float(num_correct)/float(num_samples)*100:.2f}')\n",
        "        print(\"----------------------------------------------------------------------------\")\n",
        "        ape = float(num_correct)/float(num_samples)*100\n",
        "    return train_loss, val_lpw, ape\n",
        "\n",
        "gc.collect()   \n"
      ],
      "execution_count": null,
      "outputs": [
        {
          "output_type": "stream",
          "text": [
            "Downloading: \"https://download.pytorch.org/models/r3d_18-b3b3357e.pth\" to /root/.cache/torch/hub/checkpoints/r3d_18-b3b3357e.pth\n"
          ],
          "name": "stderr"
        },
        {
          "output_type": "display_data",
          "data": {
            "application/vnd.jupyter.widget-view+json": {
              "model_id": "c666f0440ecf40899a40f28d7d67cf84",
              "version_minor": 0,
              "version_major": 2
            },
            "text/plain": [
              "HBox(children=(FloatProgress(value=0.0, max=133546016.0), HTML(value='')))"
            ]
          },
          "metadata": {
            "tags": []
          }
        },
        {
          "output_type": "stream",
          "text": [
            "\n",
            "VideoResNet(\n",
            "  (stem): BasicStem(\n",
            "    (0): Conv3d(3, 64, kernel_size=(3, 7, 7), stride=(1, 2, 2), padding=(1, 3, 3), bias=False)\n",
            "    (1): BatchNorm3d(64, eps=1e-05, momentum=0.1, affine=True, track_running_stats=True)\n",
            "    (2): ReLU(inplace=True)\n",
            "  )\n",
            "  (layer1): Sequential(\n",
            "    (0): BasicBlock(\n",
            "      (conv1): Sequential(\n",
            "        (0): Conv3DSimple(64, 64, kernel_size=(3, 3, 3), stride=(1, 1, 1), padding=(1, 1, 1), bias=False)\n",
            "        (1): BatchNorm3d(64, eps=1e-05, momentum=0.1, affine=True, track_running_stats=True)\n",
            "        (2): ReLU(inplace=True)\n",
            "      )\n",
            "      (conv2): Sequential(\n",
            "        (0): Conv3DSimple(64, 64, kernel_size=(3, 3, 3), stride=(1, 1, 1), padding=(1, 1, 1), bias=False)\n",
            "        (1): BatchNorm3d(64, eps=1e-05, momentum=0.1, affine=True, track_running_stats=True)\n",
            "      )\n",
            "      (relu): ReLU(inplace=True)\n",
            "    )\n",
            "    (1): BasicBlock(\n",
            "      (conv1): Sequential(\n",
            "        (0): Conv3DSimple(64, 64, kernel_size=(3, 3, 3), stride=(1, 1, 1), padding=(1, 1, 1), bias=False)\n",
            "        (1): BatchNorm3d(64, eps=1e-05, momentum=0.1, affine=True, track_running_stats=True)\n",
            "        (2): ReLU(inplace=True)\n",
            "      )\n",
            "      (conv2): Sequential(\n",
            "        (0): Conv3DSimple(64, 64, kernel_size=(3, 3, 3), stride=(1, 1, 1), padding=(1, 1, 1), bias=False)\n",
            "        (1): BatchNorm3d(64, eps=1e-05, momentum=0.1, affine=True, track_running_stats=True)\n",
            "      )\n",
            "      (relu): ReLU(inplace=True)\n",
            "    )\n",
            "  )\n",
            "  (layer2): Sequential(\n",
            "    (0): BasicBlock(\n",
            "      (conv1): Sequential(\n",
            "        (0): Conv3DSimple(64, 128, kernel_size=(3, 3, 3), stride=(2, 2, 2), padding=(1, 1, 1), bias=False)\n",
            "        (1): BatchNorm3d(128, eps=1e-05, momentum=0.1, affine=True, track_running_stats=True)\n",
            "        (2): ReLU(inplace=True)\n",
            "      )\n",
            "      (conv2): Sequential(\n",
            "        (0): Conv3DSimple(128, 128, kernel_size=(3, 3, 3), stride=(1, 1, 1), padding=(1, 1, 1), bias=False)\n",
            "        (1): BatchNorm3d(128, eps=1e-05, momentum=0.1, affine=True, track_running_stats=True)\n",
            "      )\n",
            "      (relu): ReLU(inplace=True)\n",
            "      (downsample): Sequential(\n",
            "        (0): Conv3d(64, 128, kernel_size=(1, 1, 1), stride=(2, 2, 2), bias=False)\n",
            "        (1): BatchNorm3d(128, eps=1e-05, momentum=0.1, affine=True, track_running_stats=True)\n",
            "      )\n",
            "    )\n",
            "    (1): BasicBlock(\n",
            "      (conv1): Sequential(\n",
            "        (0): Conv3DSimple(128, 128, kernel_size=(3, 3, 3), stride=(1, 1, 1), padding=(1, 1, 1), bias=False)\n",
            "        (1): BatchNorm3d(128, eps=1e-05, momentum=0.1, affine=True, track_running_stats=True)\n",
            "        (2): ReLU(inplace=True)\n",
            "      )\n",
            "      (conv2): Sequential(\n",
            "        (0): Conv3DSimple(128, 128, kernel_size=(3, 3, 3), stride=(1, 1, 1), padding=(1, 1, 1), bias=False)\n",
            "        (1): BatchNorm3d(128, eps=1e-05, momentum=0.1, affine=True, track_running_stats=True)\n",
            "      )\n",
            "      (relu): ReLU(inplace=True)\n",
            "    )\n",
            "  )\n",
            "  (layer3): Sequential(\n",
            "    (0): BasicBlock(\n",
            "      (conv1): Sequential(\n",
            "        (0): Conv3DSimple(128, 256, kernel_size=(3, 3, 3), stride=(2, 2, 2), padding=(1, 1, 1), bias=False)\n",
            "        (1): BatchNorm3d(256, eps=1e-05, momentum=0.1, affine=True, track_running_stats=True)\n",
            "        (2): ReLU(inplace=True)\n",
            "      )\n",
            "      (conv2): Sequential(\n",
            "        (0): Conv3DSimple(256, 256, kernel_size=(3, 3, 3), stride=(1, 1, 1), padding=(1, 1, 1), bias=False)\n",
            "        (1): BatchNorm3d(256, eps=1e-05, momentum=0.1, affine=True, track_running_stats=True)\n",
            "      )\n",
            "      (relu): ReLU(inplace=True)\n",
            "      (downsample): Sequential(\n",
            "        (0): Conv3d(128, 256, kernel_size=(1, 1, 1), stride=(2, 2, 2), bias=False)\n",
            "        (1): BatchNorm3d(256, eps=1e-05, momentum=0.1, affine=True, track_running_stats=True)\n",
            "      )\n",
            "    )\n",
            "    (1): BasicBlock(\n",
            "      (conv1): Sequential(\n",
            "        (0): Conv3DSimple(256, 256, kernel_size=(3, 3, 3), stride=(1, 1, 1), padding=(1, 1, 1), bias=False)\n",
            "        (1): BatchNorm3d(256, eps=1e-05, momentum=0.1, affine=True, track_running_stats=True)\n",
            "        (2): ReLU(inplace=True)\n",
            "      )\n",
            "      (conv2): Sequential(\n",
            "        (0): Conv3DSimple(256, 256, kernel_size=(3, 3, 3), stride=(1, 1, 1), padding=(1, 1, 1), bias=False)\n",
            "        (1): BatchNorm3d(256, eps=1e-05, momentum=0.1, affine=True, track_running_stats=True)\n",
            "      )\n",
            "      (relu): ReLU(inplace=True)\n",
            "    )\n",
            "  )\n",
            "  (layer4): Sequential(\n",
            "    (0): BasicBlock(\n",
            "      (conv1): Sequential(\n",
            "        (0): Conv3DSimple(256, 512, kernel_size=(3, 3, 3), stride=(2, 2, 2), padding=(1, 1, 1), bias=False)\n",
            "        (1): BatchNorm3d(512, eps=1e-05, momentum=0.1, affine=True, track_running_stats=True)\n",
            "        (2): ReLU(inplace=True)\n",
            "      )\n",
            "      (conv2): Sequential(\n",
            "        (0): Conv3DSimple(512, 512, kernel_size=(3, 3, 3), stride=(1, 1, 1), padding=(1, 1, 1), bias=False)\n",
            "        (1): BatchNorm3d(512, eps=1e-05, momentum=0.1, affine=True, track_running_stats=True)\n",
            "      )\n",
            "      (relu): ReLU(inplace=True)\n",
            "      (downsample): Sequential(\n",
            "        (0): Conv3d(256, 512, kernel_size=(1, 1, 1), stride=(2, 2, 2), bias=False)\n",
            "        (1): BatchNorm3d(512, eps=1e-05, momentum=0.1, affine=True, track_running_stats=True)\n",
            "      )\n",
            "    )\n",
            "    (1): BasicBlock(\n",
            "      (conv1): Sequential(\n",
            "        (0): Conv3DSimple(512, 512, kernel_size=(3, 3, 3), stride=(1, 1, 1), padding=(1, 1, 1), bias=False)\n",
            "        (1): BatchNorm3d(512, eps=1e-05, momentum=0.1, affine=True, track_running_stats=True)\n",
            "        (2): ReLU(inplace=True)\n",
            "      )\n",
            "      (conv2): Sequential(\n",
            "        (0): Conv3DSimple(512, 512, kernel_size=(3, 3, 3), stride=(1, 1, 1), padding=(1, 1, 1), bias=False)\n",
            "        (1): BatchNorm3d(512, eps=1e-05, momentum=0.1, affine=True, track_running_stats=True)\n",
            "      )\n",
            "      (relu): ReLU(inplace=True)\n",
            "    )\n",
            "  )\n",
            "  (avgpool): AdaptiveAvgPool3d(output_size=(1, 1, 1))\n",
            "  (fc): Linear(in_features=512, out_features=400, bias=True)\n",
            ")\n"
          ],
          "name": "stdout"
        },
        {
          "output_type": "execute_result",
          "data": {
            "text/plain": [
              "117"
            ]
          },
          "metadata": {
            "tags": []
          },
          "execution_count": 8
        }
      ]
    },
    {
      "cell_type": "code",
      "metadata": {
        "id": "tI_7RpdFcPq1",
        "colab": {
          "base_uri": "https://localhost:8080/"
        },
        "outputId": "c16a897d-120c-40cb-e64d-df10ea386bcb"
      },
      "source": [
        "from tqdm import tqdm\n",
        "acc = [] \n",
        "Train_loss = []\n",
        "Test_loss = []\n",
        "scheduler = torch.optim.lr_scheduler.ReduceLROnPlateau(optimizer, patience=patience, factor=factor, verbose=True)\n",
        "for i in tqdm(range(30)):\n",
        "    train_loss, val_loss, ape = train(1,model,  optimizer, criterion)\n",
        "    scheduler.step(val_loss)\n",
        "    Train_loss.append(train_loss)\n",
        "    Test_loss.append(val_loss)\n",
        "    acc.append(ape)"
      ],
      "execution_count": null,
      "outputs": [
        {
          "output_type": "stream",
          "text": [
            "\r  0%|          | 0/30 [00:00<?, ?it/s]"
          ],
          "name": "stderr"
        },
        {
          "output_type": "stream",
          "text": [
            "Training loss: 4.913\n"
          ],
          "name": "stdout"
        },
        {
          "output_type": "stream",
          "text": [
            "\r  3%|▎         | 1/30 [05:21<2:35:15, 321.23s/it]"
          ],
          "name": "stderr"
        },
        {
          "output_type": "stream",
          "text": [
            "Validation Loss:  4.282994316174434\n",
            "---------------------------------------------------------------------------\n",
            "Got 15 / 101 with accuracy 14.85\n",
            "----------------------------------------------------------------------------\n",
            "Training loss: 2.847\n"
          ],
          "name": "stdout"
        },
        {
          "output_type": "stream",
          "text": [
            "\r  7%|▋         | 2/30 [10:46<2:30:28, 322.44s/it]"
          ],
          "name": "stderr"
        },
        {
          "output_type": "stream",
          "text": [
            "Validation Loss:  3.6634969986402073\n",
            "---------------------------------------------------------------------------\n",
            "Got 28 / 101 with accuracy 27.72\n",
            "----------------------------------------------------------------------------\n",
            "Training loss: 1.694\n"
          ],
          "name": "stdout"
        },
        {
          "output_type": "stream",
          "text": [
            "\r 10%|█         | 3/30 [16:12<2:25:34, 323.49s/it]"
          ],
          "name": "stderr"
        },
        {
          "output_type": "stream",
          "text": [
            "Validation Loss:  3.266739171428176\n",
            "---------------------------------------------------------------------------\n",
            "Got 36 / 101 with accuracy 35.64\n",
            "----------------------------------------------------------------------------\n",
            "Training loss: 0.897\n"
          ],
          "name": "stdout"
        },
        {
          "output_type": "stream",
          "text": [
            "\r 13%|█▎        | 4/30 [21:41<2:20:54, 325.17s/it]"
          ],
          "name": "stderr"
        },
        {
          "output_type": "stream",
          "text": [
            "Validation Loss:  3.438067527917715\n",
            "---------------------------------------------------------------------------\n",
            "Got 40 / 101 with accuracy 39.60\n",
            "----------------------------------------------------------------------------\n",
            "Training loss: 0.373\n"
          ],
          "name": "stdout"
        },
        {
          "output_type": "stream",
          "text": [
            "\r 17%|█▋        | 5/30 [27:06<2:15:29, 325.19s/it]"
          ],
          "name": "stderr"
        },
        {
          "output_type": "stream",
          "text": [
            "Validation Loss:  3.6326481699943542\n",
            "---------------------------------------------------------------------------\n",
            "Got 43 / 101 with accuracy 42.57\n",
            "----------------------------------------------------------------------------\n",
            "Training loss: 0.207\n"
          ],
          "name": "stdout"
        },
        {
          "output_type": "stream",
          "text": [
            "\r 20%|██        | 6/30 [32:33<2:10:17, 325.73s/it]"
          ],
          "name": "stderr"
        },
        {
          "output_type": "stream",
          "text": [
            "Validation Loss:  3.3130152248419247\n",
            "---------------------------------------------------------------------------\n",
            "Got 36 / 101 with accuracy 35.64\n",
            "----------------------------------------------------------------------------\n",
            "Training loss: 0.176\n"
          ],
          "name": "stdout"
        },
        {
          "output_type": "stream",
          "text": [
            "\r 23%|██▎       | 7/30 [37:57<2:04:36, 325.09s/it]"
          ],
          "name": "stderr"
        },
        {
          "output_type": "stream",
          "text": [
            "Validation Loss:  3.4781729716521044\n",
            "---------------------------------------------------------------------------\n",
            "Got 43 / 101 with accuracy 42.57\n",
            "----------------------------------------------------------------------------\n",
            "Training loss: 0.198\n"
          ],
          "name": "stdout"
        },
        {
          "output_type": "stream",
          "text": [
            "\r 27%|██▋       | 8/30 [43:24<1:59:22, 325.57s/it]"
          ],
          "name": "stderr"
        },
        {
          "output_type": "stream",
          "text": [
            "Validation Loss:  4.125327135507877\n",
            "---------------------------------------------------------------------------\n",
            "Got 40 / 101 with accuracy 39.60\n",
            "----------------------------------------------------------------------------\n",
            "Training loss: 0.306\n"
          ],
          "name": "stdout"
        },
        {
          "output_type": "stream",
          "text": [
            "\r 30%|███       | 9/30 [48:48<1:53:48, 325.18s/it]"
          ],
          "name": "stderr"
        },
        {
          "output_type": "stream",
          "text": [
            "Validation Loss:  3.512879043280219\n",
            "---------------------------------------------------------------------------\n",
            "Got 36 / 101 with accuracy 35.64\n",
            "----------------------------------------------------------------------------\n",
            "Epoch     9: reducing learning rate of group 0 to 3.1600e-05.\n",
            "Training loss: 0.123\n"
          ],
          "name": "stdout"
        },
        {
          "output_type": "stream",
          "text": [
            "\r 33%|███▎      | 10/30 [54:14<1:48:28, 325.43s/it]"
          ],
          "name": "stderr"
        },
        {
          "output_type": "stream",
          "text": [
            "Validation Loss:  2.835127715880617\n",
            "---------------------------------------------------------------------------\n",
            "Got 44 / 101 with accuracy 43.56\n",
            "----------------------------------------------------------------------------\n",
            "Training loss: 0.045\n"
          ],
          "name": "stdout"
        },
        {
          "output_type": "stream",
          "text": [
            "\r 37%|███▋      | 11/30 [59:41<1:43:12, 325.94s/it]"
          ],
          "name": "stderr"
        },
        {
          "output_type": "stream",
          "text": [
            "Validation Loss:  3.0222328075995812\n",
            "---------------------------------------------------------------------------\n",
            "Got 47 / 101 with accuracy 46.53\n",
            "----------------------------------------------------------------------------\n",
            "Training loss: 0.043\n"
          ],
          "name": "stdout"
        },
        {
          "output_type": "stream",
          "text": [
            "\r 40%|████      | 12/30 [1:05:06<1:37:44, 325.81s/it]"
          ],
          "name": "stderr"
        },
        {
          "output_type": "stream",
          "text": [
            "Validation Loss:  2.792414853779169\n",
            "---------------------------------------------------------------------------\n",
            "Got 47 / 101 with accuracy 46.53\n",
            "----------------------------------------------------------------------------\n",
            "Training loss: 0.038\n"
          ],
          "name": "stdout"
        },
        {
          "output_type": "stream",
          "text": [
            "\r 43%|████▎     | 13/30 [1:10:33<1:32:25, 326.18s/it]"
          ],
          "name": "stderr"
        },
        {
          "output_type": "stream",
          "text": [
            "Validation Loss:  2.825473044927304\n",
            "---------------------------------------------------------------------------\n",
            "Got 46 / 101 with accuracy 45.54\n",
            "----------------------------------------------------------------------------\n",
            "Training loss: 0.039\n"
          ],
          "name": "stdout"
        },
        {
          "output_type": "stream",
          "text": [
            "\r 47%|████▋     | 14/30 [1:16:00<1:27:02, 326.40s/it]"
          ],
          "name": "stderr"
        },
        {
          "output_type": "stream",
          "text": [
            "Validation Loss:  2.994335488631175\n",
            "---------------------------------------------------------------------------\n",
            "Got 46 / 101 with accuracy 45.54\n",
            "----------------------------------------------------------------------------\n",
            "Training loss: 0.035\n"
          ],
          "name": "stdout"
        },
        {
          "output_type": "stream",
          "text": [
            "\r 50%|█████     | 15/30 [1:21:27<1:21:37, 326.49s/it]"
          ],
          "name": "stderr"
        },
        {
          "output_type": "stream",
          "text": [
            "Validation Loss:  2.754933680479343\n",
            "---------------------------------------------------------------------------\n",
            "Got 48 / 101 with accuracy 47.52\n",
            "----------------------------------------------------------------------------\n",
            "Training loss: 0.034\n"
          ],
          "name": "stdout"
        },
        {
          "output_type": "stream",
          "text": [
            "\r 53%|█████▎    | 16/30 [1:26:52<1:16:05, 326.08s/it]"
          ],
          "name": "stderr"
        },
        {
          "output_type": "stream",
          "text": [
            "Validation Loss:  3.0772180328002343\n",
            "---------------------------------------------------------------------------\n",
            "Got 48 / 101 with accuracy 47.52\n",
            "----------------------------------------------------------------------------\n",
            "Training loss: 0.034\n"
          ],
          "name": "stdout"
        },
        {
          "output_type": "stream",
          "text": [
            "\r 57%|█████▋    | 17/30 [1:32:16<1:10:31, 325.53s/it]"
          ],
          "name": "stderr"
        },
        {
          "output_type": "stream",
          "text": [
            "Validation Loss:  2.772214834793256\n",
            "---------------------------------------------------------------------------\n",
            "Got 51 / 101 with accuracy 50.50\n",
            "----------------------------------------------------------------------------\n",
            "Training loss: 0.038\n"
          ],
          "name": "stdout"
        },
        {
          "output_type": "stream",
          "text": [
            "\r 60%|██████    | 18/30 [1:37:43<1:05:10, 325.85s/it]"
          ],
          "name": "stderr"
        },
        {
          "output_type": "stream",
          "text": [
            "Validation Loss:  2.9489701204001904\n",
            "---------------------------------------------------------------------------\n",
            "Got 49 / 101 with accuracy 48.51\n",
            "----------------------------------------------------------------------------\n",
            "Training loss: 0.041\n"
          ],
          "name": "stdout"
        },
        {
          "output_type": "stream",
          "text": [
            "\r 63%|██████▎   | 19/30 [1:43:10<59:48, 326.26s/it]  "
          ],
          "name": "stderr"
        },
        {
          "output_type": "stream",
          "text": [
            "Validation Loss:  3.8159331312546363\n",
            "---------------------------------------------------------------------------\n",
            "Got 40 / 101 with accuracy 39.60\n",
            "----------------------------------------------------------------------------\n",
            "Training loss: 0.055\n"
          ],
          "name": "stdout"
        },
        {
          "output_type": "stream",
          "text": [
            "\r 67%|██████▋   | 20/30 [1:48:38<54:27, 326.76s/it]"
          ],
          "name": "stderr"
        },
        {
          "output_type": "stream",
          "text": [
            "Validation Loss:  3.266842721746518\n",
            "---------------------------------------------------------------------------\n",
            "Got 46 / 101 with accuracy 45.54\n",
            "----------------------------------------------------------------------------\n",
            "Training loss: 0.053\n"
          ],
          "name": "stdout"
        },
        {
          "output_type": "stream",
          "text": [
            "\r 70%|███████   | 21/30 [1:54:05<49:02, 326.91s/it]"
          ],
          "name": "stderr"
        },
        {
          "output_type": "stream",
          "text": [
            "Validation Loss:  2.8758178654198465\n",
            "---------------------------------------------------------------------------\n",
            "Got 46 / 101 with accuracy 45.54\n",
            "----------------------------------------------------------------------------\n",
            "Epoch    21: reducing learning rate of group 0 to 9.9856e-06.\n",
            "Training loss: 0.030\n"
          ],
          "name": "stdout"
        },
        {
          "output_type": "stream",
          "text": [
            "\r 73%|███████▎  | 22/30 [1:59:31<43:31, 326.49s/it]"
          ],
          "name": "stderr"
        },
        {
          "output_type": "stream",
          "text": [
            "Validation Loss:  2.650278370970717\n",
            "---------------------------------------------------------------------------\n",
            "Got 50 / 101 with accuracy 49.50\n",
            "----------------------------------------------------------------------------\n",
            "Training loss: 0.021\n"
          ],
          "name": "stdout"
        },
        {
          "output_type": "stream",
          "text": [
            "\r 77%|███████▋  | 23/30 [2:04:58<38:07, 326.75s/it]"
          ],
          "name": "stderr"
        },
        {
          "output_type": "stream",
          "text": [
            "Validation Loss:  2.7809740408108774\n",
            "---------------------------------------------------------------------------\n",
            "Got 46 / 101 with accuracy 45.54\n",
            "----------------------------------------------------------------------------\n",
            "Training loss: 0.023\n"
          ],
          "name": "stdout"
        },
        {
          "output_type": "stream",
          "text": [
            "\r 80%|████████  | 24/30 [2:10:23<32:37, 326.20s/it]"
          ],
          "name": "stderr"
        },
        {
          "output_type": "stream",
          "text": [
            "Validation Loss:  2.716257269709156\n",
            "---------------------------------------------------------------------------\n",
            "Got 44 / 101 with accuracy 43.56\n",
            "----------------------------------------------------------------------------\n",
            "Training loss: 0.021\n"
          ],
          "name": "stdout"
        },
        {
          "output_type": "stream",
          "text": [
            "\r 83%|████████▎ | 25/30 [2:15:50<27:11, 326.35s/it]"
          ],
          "name": "stderr"
        },
        {
          "output_type": "stream",
          "text": [
            "Validation Loss:  2.74047227927412\n",
            "---------------------------------------------------------------------------\n",
            "Got 48 / 101 with accuracy 47.52\n",
            "----------------------------------------------------------------------------\n",
            "Training loss: 0.020\n"
          ],
          "name": "stdout"
        },
        {
          "output_type": "stream",
          "text": [
            "\r 87%|████████▋ | 26/30 [2:21:17<21:46, 326.56s/it]"
          ],
          "name": "stderr"
        },
        {
          "output_type": "stream",
          "text": [
            "Validation Loss:  2.6920941449128666\n",
            "---------------------------------------------------------------------------\n",
            "Got 46 / 101 with accuracy 45.54\n",
            "----------------------------------------------------------------------------\n",
            "Training loss: 0.019\n"
          ],
          "name": "stdout"
        },
        {
          "output_type": "stream",
          "text": [
            "\r 90%|█████████ | 27/30 [2:26:43<16:18, 326.26s/it]"
          ],
          "name": "stderr"
        },
        {
          "output_type": "stream",
          "text": [
            "Validation Loss:  3.475253771130855\n",
            "---------------------------------------------------------------------------\n",
            "Got 48 / 101 with accuracy 47.52\n",
            "----------------------------------------------------------------------------\n",
            "Training loss: 0.014\n"
          ],
          "name": "stdout"
        },
        {
          "output_type": "stream",
          "text": [
            "\r 93%|█████████▎| 28/30 [2:32:07<10:51, 325.57s/it]"
          ],
          "name": "stderr"
        },
        {
          "output_type": "stream",
          "text": [
            "Validation Loss:  2.648325061568847\n",
            "---------------------------------------------------------------------------\n",
            "Got 47 / 101 with accuracy 46.53\n",
            "----------------------------------------------------------------------------\n",
            "Training loss: 0.026\n"
          ],
          "name": "stdout"
        },
        {
          "output_type": "stream",
          "text": [
            "\r 97%|█████████▋| 29/30 [2:37:34<05:26, 326.02s/it]"
          ],
          "name": "stderr"
        },
        {
          "output_type": "stream",
          "text": [
            "Validation Loss:  2.7212477830740123\n",
            "---------------------------------------------------------------------------\n",
            "Got 45 / 101 with accuracy 44.55\n",
            "----------------------------------------------------------------------------\n",
            "Training loss: 0.024\n"
          ],
          "name": "stdout"
        },
        {
          "output_type": "stream",
          "text": [
            "100%|██████████| 30/30 [2:42:57<00:00, 325.91s/it]"
          ],
          "name": "stderr"
        },
        {
          "output_type": "stream",
          "text": [
            "Validation Loss:  2.867851936759857\n",
            "---------------------------------------------------------------------------\n",
            "Got 45 / 101 with accuracy 44.55\n",
            "----------------------------------------------------------------------------\n"
          ],
          "name": "stdout"
        },
        {
          "output_type": "stream",
          "text": [
            "\n"
          ],
          "name": "stderr"
        }
      ]
    },
    {
      "cell_type": "code",
      "metadata": {
        "id": "zlPBfLozX6vy"
      },
      "source": [
        "torch.save(model,\"ff2\")"
      ],
      "execution_count": null,
      "outputs": []
    },
    {
      "cell_type": "code",
      "metadata": {
        "colab": {
          "base_uri": "https://localhost:8080/",
          "height": 312
        },
        "id": "t0W41v-3eA3O",
        "outputId": "c06fce68-8156-4396-a372-c75ffa78aa93"
      },
      "source": [
        "plt.title('Training Loss')\n",
        "plt.xlabel('Epoch Number')\n",
        "plt.ylabel('Loss')\n",
        "plt.plot(Train_loss)"
      ],
      "execution_count": null,
      "outputs": [
        {
          "output_type": "execute_result",
          "data": {
            "text/plain": [
              "[<matplotlib.lines.Line2D at 0x7fddc7a6d250>]"
            ]
          },
          "metadata": {
            "tags": []
          },
          "execution_count": 9
        },
        {
          "output_type": "display_data",
          "data": {
            "image/png": "[encoded data removed]",
            "text/plain": [
              "<Figure size 432x288 with 1 Axes>"
            ]
          },
          "metadata": {
            "tags": [],
            "needs_background": "light"
          }
        }
      ]
    },
    {
      "cell_type": "code",
      "metadata": {
        "colab": {
          "base_uri": "https://localhost:8080/",
          "height": 312
        },
        "id": "T9tuwUDueFWA",
        "outputId": "a68f86c9-364d-44fd-b8aa-3868b45bf1d2"
      },
      "source": [
        "plt.title('Test Loss')\n",
        "plt.xlabel('Epoch Number')\n",
        "plt.ylabel('Loss')\n",
        "plt.plot(Test_loss)"
      ],
      "execution_count": null,
      "outputs": [
        {
          "output_type": "execute_result",
          "data": {
            "text/plain": [
              "[<matplotlib.lines.Line2D at 0x7fcc9a4f97d0>]"
            ]
          },
          "metadata": {
            "tags": []
          },
          "execution_count": 11
        },
        {
          "output_type": "display_data",
          "data": {
            "image/png": "[encoded data removed]",
            "text/plain": [
              "<Figure size 432x288 with 1 Axes>"
            ]
          },
          "metadata": {
            "tags": [],
            "needs_background": "light"
          }
        }
      ]
    },
    {
      "cell_type": "code",
      "metadata": {
        "colab": {
          "base_uri": "https://localhost:8080/",
          "height": 312
        },
        "id": "dG_0dYQ5gta7",
        "outputId": "1927c08c-f196-4e3f-d280-32e659801534"
      },
      "source": [
        "plt.title('Accuracy')\n",
        "plt.xlabel('Epoch Number')\n",
        "plt.ylabel('Acc')\n",
        "plt.plot(acc)"
      ],
      "execution_count": null,
      "outputs": [
        {
          "output_type": "execute_result",
          "data": {
            "text/plain": [
              "[<matplotlib.lines.Line2D at 0x7fcc9a462f10>]"
            ]
          },
          "metadata": {
            "tags": []
          },
          "execution_count": 12
        },
        {
          "output_type": "display_data",
          "data": {
            "image/png": "[encoded data removed]",
            "text/plain": [
              "<Figure size 432x288 with 1 Axes>"
            ]
          },
          "metadata": {
            "tags": [],
            "needs_background": "light"
          }
        }
      ]
    },
    {
      "cell_type": "code",
      "metadata": {
        "colab": {
          "base_uri": "https://localhost:8080/"
        },
        "id": "N4Ga6JYoLkGU",
        "outputId": "532da1f6-0c6b-4b11-bf87-6d0eb01eb9c0"
      },
      "source": [
        "import json\n",
        "import numpy as np\n",
        "import cv2\n",
        "import os\n",
        "import torchvision\n",
        "import torch\n",
        "torch.cuda.empty_cache()\n",
        "import gc \n",
        "\n",
        "os.chdir(\"/content/gdrive/MyDrive/FYP\")\n",
        "label_Words = np.load('labels_word.npy',allow_pickle=True)\n",
        "\n",
        "model = torchvision.models.video.r3d_18(pretrained=False)\n",
        "\n",
        "model = torch.load(\"/content/gdrive/MyDrive/FYP/resnetmodel\")\n",
        "\n",
        "device = \"cuda\" if torch.cuda.is_available() else \"cpu\"\n",
        "model.to(device)\n",
        "\n",
        "trans = transforms.Compose([transforms.ToTensor(),transforms.Resize((128,128)),\n",
        "                                                 transforms.Normalize(mean=np.array([0.485, 0.456, 0.406]), std=np.array([0.229, 0.224, 0.225]))])\n",
        "\n",
        "def vid_loader(video):\n",
        "        tensorArr=[]\n",
        "        frames = []\n",
        "        imgDir = os.chdir(\"/content/gdrive/MyDrive/FYP/trainData\")\n",
        "        \n",
        "        imgFrames = cv2.VideoCapture(video)\n",
        "        success,image = imgFrames.read()\n",
        "        while success:\n",
        "          frames.append(image)\n",
        "          success,image = imgFrames.read()\n",
        "        for image in frames:\n",
        "            new_image2 = trans(image)\n",
        "            tensorArr.append(new_image2)\n",
        "        \n",
        "        return tensorArr\n",
        "\n",
        "#Image output and labels from loader will be stacked into a tensor\n",
        "video = ['cousin.mp4','hair.mp4','color.mp4','black.mp4']\n",
        "\n",
        "#Function call to loader\n",
        "\n",
        "tensorList= []\n",
        "\n",
        "label = [] #dummy labels\n",
        "\n",
        "for i in video:\n",
        "  tensorArr= vid_loader(i)\n",
        "  stackTensor = torch.stack(tensorArr)\n",
        "  label.append(0)\n",
        "  #Numpy Array of the TensorList\n",
        "  tensorList.append(stackTensor)\n",
        "\n",
        "tensors = []\n",
        "tensors = [t.numpy() for t in tensorList] #changing List into a numpy Array\n",
        "\n",
        "\n",
        "import torch.nn.utils.rnn as rnn\n",
        "#Custom Dataloader\n",
        "class signData(Dataset):\n",
        "    def __init__(self, X, Y, transform = None):\n",
        "        #X is TensorList as argument\n",
        "        self.X = X\n",
        "        #Y is LabelList as argument\n",
        "        self.Y = Y\n",
        "        \n",
        "        if transform == 1:\n",
        "            self.transform = transforms.Compose([transforms.ToTensor(),\n",
        "                                                 transforms.Resize((128,128))\n",
        "                                                 ,transforms.Normalize(mean=np.array([0.485, 0.456, 0.406]), std=np.array([0.229, 0.224, 0.225]))])\n",
        "        \n",
        "    def __len__(self):\n",
        "        return len(self.X)\n",
        "\n",
        "    def __getitem__(self,index):\n",
        "        #Accessing every instance of NpTensorArr\n",
        "        imageStack = self.X[index]\n",
        "        #Accesing every instance of NpLabelList\n",
        "        label = self.Y[index]\n",
        "        return torch.from_numpy(imageStack), len(imageStack), label \n",
        "\n",
        "#Use my_collate for Image Batching and normalizing image sizes\n",
        "def my_collate(batch):\n",
        "    inputs = rnn.pad_sequence([s[0] for s in batch], padding_value=0.0)\n",
        "    input_sizes = torch.LongTensor([s[1] for s in batch])\n",
        "    target = torch.LongTensor([s[2] for s in batch])\n",
        "\n",
        "    return inputs, input_sizes, target    \n",
        "\n",
        "\n",
        "\n",
        "#Transform Images\n",
        "trans = transforms.Compose([transforms.ToTensor(),transforms.Resize((128,128)),\n",
        "                                                 transforms.Normalize(mean=np.array([0.485, 0.456, 0.406]), std=np.array([0.229, 0.224, 0.225]))])\n",
        "\n",
        "\n",
        "\n",
        "\n",
        "\n",
        "x = signData(tensors,label)\n",
        "\n",
        "    #Numpy Array of the TensorList\n",
        "train_arg = dict(batch_size=len(x), shuffle=False, collate_fn = my_collate)\n",
        "val_loader = DataLoader(x, **train_arg)\n",
        "cnn_results= ''\n",
        "model.eval()\n",
        "for X, X_lens, Y in val_loader:\n",
        "  X = X.permute(1,2,0,3,4)\n",
        "  X = X.to(device)\n",
        "  Y = Y.to(device)\n",
        "\n",
        "  out = model(X)\n",
        "\n",
        "  pre, predictions = torch.topk(out,1)\n",
        "  for i in predictions:\n",
        "    for x in i:\n",
        "      cnn_results = cnn_results + label_Words[x]+' '\n",
        "cnn_results = cnn_results[0:(len(cnn_results)-1)]\n",
        "print(cnn_results)"
      ],
      "execution_count": null,
      "outputs": [
        {
          "output_type": "stream",
          "text": [
            "cousin hair color black\n"
          ],
          "name": "stdout"
        }
      ]
    },
    {
      "cell_type": "markdown",
      "metadata": {
        "id": "74c35FjDDmke"
      },
      "source": [
        "## Module 2 of \"Sign Language With Deep Learning\"\n",
        "## Seq2Seq Nueral Network\n",
        "#### This module will convert the CNN output of English Keywords from Module 1 into English Language Sentences with proper use of grammar."
      ]
    },
    {
      "cell_type": "markdown",
      "metadata": {
        "id": "eJPsqkeYDmkf"
      },
      "source": [
        "## Libraries & Dependencies"
      ]
    },
    {
      "cell_type": "code",
      "metadata": {
        "id": "U2NKRNPiy8yG"
      },
      "source": [
        "import string\n",
        "import re\n",
        "from pickle import dump\n",
        "from unicodedata import normalize\n",
        "from numpy import array\n",
        "from google.colab import drive\n",
        "import os\n",
        "import matplotlib.pyplot as plt\n",
        "from keras.models import load_model"
      ],
      "execution_count": null,
      "outputs": []
    },
    {
      "cell_type": "markdown",
      "metadata": {
        "id": "Xqg_5i3yDmkg"
      },
      "source": [
        "#### Google Drive Mount"
      ]
    },
    {
      "cell_type": "code",
      "metadata": {
        "colab": {
          "base_uri": "https://localhost:8080/"
        },
        "id": "SWzVP35VzLoM",
        "outputId": "4421b431-7fb1-45b0-bda4-3c5914a0ddff"
      },
      "source": [
        "drive.mount(\"/content/gdrive\", force_remount=True)\n",
        "os.chdir(\"/content/gdrive/MyDrive/FYP\")"
      ],
      "execution_count": null,
      "outputs": [
        {
          "output_type": "stream",
          "text": [
            "Mounted at /content/gdrive\n"
          ],
          "name": "stdout"
        }
      ]
    },
    {
      "cell_type": "markdown",
      "metadata": {
        "id": "eHgmUNX_Dmkh"
      },
      "source": [
        "### Data Cleaning & Preprocessing"
      ]
    },
    {
      "cell_type": "code",
      "metadata": {
        "colab": {
          "base_uri": "https://localhost:8080/"
        },
        "id": "N_KSB5qwy-sm",
        "outputId": "75041244-ca81-45ab-e11f-b24748d1292c"
      },
      "source": [
        "# load doc into memory\n",
        "def load_doc(filename):\n",
        "    # open the file as read only\n",
        "    file = open(filename, mode='rt', encoding='utf-8')\n",
        "    # read all text\n",
        "    text = file.read()\n",
        "    # close the file\n",
        "    file.close()\n",
        "    return text\n",
        "\n",
        "# split a loaded document into pairs\n",
        "def to_pairs(doc):\n",
        "    lines = doc.strip().split('\\n')\n",
        "    pairs = [line.split('\\t') for line in  lines]\n",
        "    return pairs\n",
        "\n",
        "# clean a list of lines\n",
        "def clean_pairs(lines):\n",
        "    lc = lines\n",
        "    #print(lc[:1],\" lc\")\n",
        "    cleaned = list()\n",
        "    # prepare regex for char filtering\n",
        "    re_print = re.compile('[^%s]' % re.escape(string.printable))\n",
        "    # prepare translation table for removing punctuation\n",
        "    table = str.maketrans('', '', string.punctuation)\n",
        "    for pair in lines:\n",
        "        #print(pair)\n",
        "        clean_pair = list()\n",
        "        for line in pair:\n",
        "            #print(line, \"oldline\")\n",
        "            # normalize unicode characters\n",
        "            line = normalize('NFD', line).encode('ascii', 'ignore')\n",
        "            line = line.decode('UTF-8')\n",
        "            # tokenize on white space\n",
        "            line = line.split()\n",
        "            # convert to lowercase\n",
        "            line = [word.lower() for word in line]\n",
        "            # remove punctuation from each token\n",
        "            line = [word.translate(table) for word in line]\n",
        "            # remove non-printable chars form each token\n",
        "            line = [re_print.sub('', w) for w in line]\n",
        "      \n",
        "      # remove tokens with numbers in them\n",
        "            line = [word for word in line if word.isalpha()]\n",
        "            #print(line,\" up line\")\n",
        "            # store as string\n",
        "            clean_pair.append(' '.join(line))\n",
        "        cleaned.append(clean_pair)\n",
        "    return array(cleaned)\n",
        "\n",
        "# save a list of clean sentences to file\n",
        "def save_clean_data(sentences, filename):\n",
        "    dump(sentences, open(filename, 'wb'))\n",
        "    print('Saved: %s' % filename)\n",
        "\n",
        "\n",
        "\n",
        "def load_dataset(filename, arrSize, newFileName):\n",
        "    # load dataset\n",
        "    #filename = 'Input-OutputFinal.txt'\n",
        "    doc = load_doc(filename)\n",
        "    # split into sentence-word pairs\n",
        "    pairs = to_pairs(doc)\n",
        "    #print(pairs)\n",
        "    # clean sentences\n",
        "    clean_pairsS = clean_pairs(pairs)\n",
        "    # save clean pairs to file\n",
        "    save_clean_data(clean_pairsS, newFileName)\n",
        "    # spot check\n",
        "    \n",
        "    if filename == \"Dataset/Input-OutputFinal.txt\":\n",
        "      for i in range(arrSize):\n",
        "              print('[%s] <= [%s]' % (clean_pairsS[i,0], clean_pairsS[i,1])) \n",
        "    else:\n",
        "      for i in range(arrSize):\n",
        "              print('[%s]' % (clean_pairsS[i,1]))\n",
        "    \n",
        "\n",
        "\n",
        "load_dataset(\"Input-OutputFinal.txt\", 10, 'words-sents.pkl')"
      ],
      "execution_count": null,
      "outputs": [
        {
          "output_type": "stream",
          "text": [
            "Saved: words-sents.pkl\n",
            "[go]\n",
            "[go]\n",
            "[go]\n",
            "[go]\n",
            "[hi]\n",
            "[run]\n",
            "[run]\n",
            "[who]\n",
            "[fire]\n",
            "[fire]\n"
          ],
          "name": "stdout"
        }
      ]
    },
    {
      "cell_type": "markdown",
      "metadata": {
        "id": "ArelrUnADmki"
      },
      "source": [
        "### Preprocessed Data Loading"
      ]
    },
    {
      "cell_type": "code",
      "metadata": {
        "colab": {
          "base_uri": "https://localhost:8080/"
        },
        "id": "Vu8-94R6yxbP",
        "outputId": "fb67e6cb-e9e5-4e82-afab-60eaa83577c0"
      },
      "source": [
        "from pickle import dump\n",
        "from pickle import load\n",
        "from numpy.random import rand\n",
        "from numpy.random import shuffle\n",
        "#import load\n",
        " \n",
        "# load a clean dataset\n",
        "def load_clean_sentences(filename):\n",
        "    return load(open(filename, 'rb'))\n",
        " \n",
        "# save a list of clean sentences to file\n",
        "def save_clean_data(sentences, filename):\n",
        "    dump(sentences, open(filename, 'wb'))\n",
        "    print('Saved: %s' % filename)\n",
        " \n",
        "# load dataset\n",
        "raw_dataset = load_clean_sentences('words-sents.pkl')\n",
        " \n",
        "# reduce dataset size\n",
        "n_sentences = 25000\n",
        "dataset = raw_dataset[:n_sentences, :]\n",
        "# random shuffle\n",
        "shuffle(dataset)\n",
        "# split into train/test\n",
        "train, test = dataset[:23000], dataset[23000:]\n",
        "print(len(train))\n",
        "print(len(test))\n",
        "# save\n",
        "save_clean_data(dataset, 'words-sents-both.pkl')\n",
        "save_clean_data(train, 'words-sents-train.pkl')\n",
        "save_clean_data(test, 'words-sents-test.pkl')"
      ],
      "execution_count": null,
      "outputs": [
        {
          "output_type": "stream",
          "text": [
            "23000\n",
            "2000\n",
            "Saved: words-sents-both.pkl\n",
            "Saved: words-sents-train.pkl\n",
            "Saved: words-sents-test.pkl\n"
          ],
          "name": "stdout"
        }
      ]
    },
    {
      "cell_type": "markdown",
      "metadata": {
        "id": "B9KlTvg-Dmkj"
      },
      "source": [
        "### Seq2Seq Model"
      ]
    },
    {
      "cell_type": "code",
      "metadata": {
        "colab": {
          "base_uri": "https://localhost:8080/"
        },
        "id": "FHpZ_UJD2i6o",
        "outputId": "916b881e-7ab0-491b-87d1-d7cfedb63df1"
      },
      "source": [
        "from pickle import load\n",
        "from numpy import array\n",
        "from keras.preprocessing.text import Tokenizer\n",
        "from keras.preprocessing.sequence import pad_sequences\n",
        "from keras.utils.np_utils import to_categorical\n",
        "from keras.utils.vis_utils import plot_model\n",
        "from keras.models import Sequential\n",
        "from keras.layers import LSTM\n",
        "from keras.layers import Dense\n",
        "from keras.layers import Embedding\n",
        "from keras.layers import RepeatVector\n",
        "from keras.layers import TimeDistributed\n",
        "from keras.layers import Dropout\n",
        "from keras.callbacks import ModelCheckpoint\n",
        " \n",
        "# load a clean dataset\n",
        "def load_clean_sentences(filename):\n",
        "    return load(open(filename, 'rb'))\n",
        " \n",
        "# fit a tokenizer\n",
        "def create_tokenizer(lines):\n",
        "    tokenizer = Tokenizer()\n",
        "    tokenizer.fit_on_texts(lines)\n",
        "    return tokenizer\n",
        " \n",
        "# max sentence length\n",
        "def max_length(lines):\n",
        "    return max(len(line.split()) for line in lines)\n",
        " \n",
        "# encode and pad sequences\n",
        "def encode_sequences(tokenizer, length, lines):\n",
        "    # integer encode sequences\n",
        "    X = tokenizer.texts_to_sequences(lines)\n",
        "    # pad sequences with 0 values\n",
        "    X = pad_sequences(X, maxlen=length, padding='post')\n",
        "    return X\n",
        " \n",
        "# one hot encode target sequence\n",
        "def encode_output(sequences, vocab_size):\n",
        "    ylist = list()\n",
        "    for sequence in sequences:\n",
        "        encoded = to_categorical(sequence, num_classes=vocab_size)\n",
        "        ylist.append(encoded)\n",
        "    y = array(ylist)\n",
        "    y = y.reshape(sequences.shape[0], sequences.shape[1], vocab_size)\n",
        "    return y\n",
        " \n",
        "# define NMT model\n",
        "def define_model(src_vocab, tar_vocab, src_timesteps, tar_timesteps, n_units):\n",
        "  model = Sequential()\n",
        "  model.add(Embedding(src_vocab, n_units, input_length=src_timesteps, mask_zero=True))\n",
        "  model.add(LSTM(n_units))\n",
        "  #model.add(Dropout(0.5))\n",
        "  model.add(RepeatVector(tar_timesteps))\n",
        "  model.add(LSTM(n_units, return_sequences=True))\n",
        "  #model.add(Dropout(0.5))\n",
        "  model.add(TimeDistributed(Dense(tar_vocab, activation='softmax')))\n",
        "  return model\n",
        " \n",
        "# load datasets\n",
        "dataset = load_clean_sentences('words-sents-both.pkl')\n",
        "train = load_clean_sentences('words-sents-train.pkl')\n",
        "test = load_clean_sentences('words-sents-test.pkl')\n",
        " \n",
        "# prepare words tokenizer\n",
        "word_tokenizer = create_tokenizer(dataset[:, 0])\n",
        "word_vocab_size = len(word_tokenizer.word_index) + 1\n",
        "word_length = max_length(dataset[:, 0])\n",
        "print('Words Vocabulary Size: %d' % word_vocab_size)\n",
        "print('Words Max Length: %d' % (word_length))\n",
        "# prepare sentences tokenizer\n",
        "sent_tokenizer = create_tokenizer(dataset[:, 1])\n",
        "sent_vocab_size = len(sent_tokenizer.word_index) + 1\n",
        "sent_length = max_length(dataset[:, 1])\n",
        "print('Sentences Vocabulary Size: %d' % sent_vocab_size)\n",
        "print('Sentences Max Length: %d' % (sent_length))\n",
        " \n",
        "# prepare training data\n",
        "trainX = encode_sequences(sent_tokenizer, word_length, train[:, 1])\n",
        "trainY = encode_sequences(word_tokenizer, word_length, train[:, 0])\n",
        "trainY = encode_output(trainY, word_vocab_size)\n",
        "# prepare validation data\n",
        "testX = encode_sequences(sent_tokenizer, sent_length, test[:, 1])\n",
        "testY = encode_sequences(word_tokenizer, word_length, test[:, 0])\n",
        "testY = encode_output(testY, word_vocab_size)"
      ],
      "execution_count": null,
      "outputs": [
        {
          "output_type": "stream",
          "text": [
            "Words Vocabulary Size: 4403\n",
            "Words Max Length: 7\n",
            "Sentences Vocabulary Size: 4382\n",
            "Sentences Max Length: 5\n"
          ],
          "name": "stdout"
        }
      ]
    },
    {
      "cell_type": "code",
      "metadata": {
        "colab": {
          "base_uri": "https://localhost:8080/",
          "height": 717
        },
        "id": "IwbUuhk7Dmkk",
        "outputId": "d70fe70b-22fd-4d9d-f801-4a5adf34d06c"
      },
      "source": [
        "# define model\n",
        "model = define_model(sent_vocab_size, word_vocab_size, sent_length, word_length, 256)\n",
        "model.compile(optimizer='adam', loss='categorical_crossentropy')\n",
        "# summarize defined model\n",
        "print(model.summary())\n",
        "plot_model(model, to_file='model.png', show_shapes=True)\n",
        "# fit model\n",
        "filename = 'model.h5'\n",
        "checkpoint = ModelCheckpoint(filename, monitor='val_loss', verbose=1, save_best_only=True, mode='min')\n",
        "history = model.fit(trainX, trainY, epochs=30, batch_size=64, validation_data=(testX, testY), callbacks=[checkpoint], verbose=2)"
      ],
      "execution_count": null,
      "outputs": [
        {
          "output_type": "stream",
          "text": [
            "Model: \"sequential\"\n",
            "_________________________________________________________________\n",
            "Layer (type)                 Output Shape              Param #   \n",
            "=================================================================\n",
            "embedding (Embedding)        (None, 5, 256)            1121792   \n",
            "_________________________________________________________________\n",
            "lstm (LSTM)                  (None, 256)               525312    \n",
            "_________________________________________________________________\n",
            "repeat_vector (RepeatVector) (None, 7, 256)            0         \n",
            "_________________________________________________________________\n",
            "lstm_1 (LSTM)                (None, 7, 256)            525312    \n",
            "_________________________________________________________________\n",
            "time_distributed (TimeDistri (None, 7, 4403)           1131571   \n",
            "=================================================================\n",
            "Total params: 3,303,987\n",
            "Trainable params: 3,303,987\n",
            "Non-trainable params: 0\n",
            "_________________________________________________________________\n",
            "None\n",
            "Epoch 1/30\n",
            "WARNING:tensorflow:Model was constructed with shape (None, 5) for input KerasTensor(type_spec=TensorSpec(shape=(None, 5), dtype=tf.float32, name='embedding_input'), name='embedding_input', description=\"created by layer 'embedding_input'\"), but it was called on an input with incompatible shape (None, 7).\n"
          ],
          "name": "stdout"
        },
        {
          "output_type": "error",
          "ename": "KeyboardInterrupt",
          "evalue": "ignored",
          "traceback": [
            "\u001b[0;31m---------------------------------------------------------------------------\u001b[0m",
            "\u001b[0;31mKeyboardInterrupt\u001b[0m                         Traceback (most recent call last)",
            "\u001b[0;32m<ipython-input-30-6ef570d73dbd>\u001b[0m in \u001b[0;36m<module>\u001b[0;34m()\u001b[0m\n\u001b[1;32m      8\u001b[0m \u001b[0mfilename\u001b[0m \u001b[0;34m=\u001b[0m \u001b[0;34m'model.h5'\u001b[0m\u001b[0;34m\u001b[0m\u001b[0;34m\u001b[0m\u001b[0m\n\u001b[1;32m      9\u001b[0m \u001b[0mcheckpoint\u001b[0m \u001b[0;34m=\u001b[0m \u001b[0mModelCheckpoint\u001b[0m\u001b[0;34m(\u001b[0m\u001b[0mfilename\u001b[0m\u001b[0;34m,\u001b[0m \u001b[0mmonitor\u001b[0m\u001b[0;34m=\u001b[0m\u001b[0;34m'val_loss'\u001b[0m\u001b[0;34m,\u001b[0m \u001b[0mverbose\u001b[0m\u001b[0;34m=\u001b[0m\u001b[0;36m1\u001b[0m\u001b[0;34m,\u001b[0m \u001b[0msave_best_only\u001b[0m\u001b[0;34m=\u001b[0m\u001b[0;32mTrue\u001b[0m\u001b[0;34m,\u001b[0m \u001b[0mmode\u001b[0m\u001b[0;34m=\u001b[0m\u001b[0;34m'min'\u001b[0m\u001b[0;34m)\u001b[0m\u001b[0;34m\u001b[0m\u001b[0;34m\u001b[0m\u001b[0m\n\u001b[0;32m---> 10\u001b[0;31m \u001b[0mhistory\u001b[0m \u001b[0;34m=\u001b[0m \u001b[0mmodel\u001b[0m\u001b[0;34m.\u001b[0m\u001b[0mfit\u001b[0m\u001b[0;34m(\u001b[0m\u001b[0mtrainX\u001b[0m\u001b[0;34m,\u001b[0m \u001b[0mtrainY\u001b[0m\u001b[0;34m,\u001b[0m \u001b[0mepochs\u001b[0m\u001b[0;34m=\u001b[0m\u001b[0;36m30\u001b[0m\u001b[0;34m,\u001b[0m \u001b[0mbatch_size\u001b[0m\u001b[0;34m=\u001b[0m\u001b[0;36m64\u001b[0m\u001b[0;34m,\u001b[0m \u001b[0mvalidation_data\u001b[0m\u001b[0;34m=\u001b[0m\u001b[0;34m(\u001b[0m\u001b[0mtestX\u001b[0m\u001b[0;34m,\u001b[0m \u001b[0mtestY\u001b[0m\u001b[0;34m)\u001b[0m\u001b[0;34m,\u001b[0m \u001b[0mcallbacks\u001b[0m\u001b[0;34m=\u001b[0m\u001b[0;34m[\u001b[0m\u001b[0mcheckpoint\u001b[0m\u001b[0;34m]\u001b[0m\u001b[0;34m,\u001b[0m \u001b[0mverbose\u001b[0m\u001b[0;34m=\u001b[0m\u001b[0;36m2\u001b[0m\u001b[0;34m)\u001b[0m\u001b[0;34m\u001b[0m\u001b[0;34m\u001b[0m\u001b[0m\n\u001b[0m",
            "\u001b[0;32m/usr/local/lib/python3.7/dist-packages/keras/engine/training.py\u001b[0m in \u001b[0;36mfit\u001b[0;34m(self, x, y, batch_size, epochs, verbose, callbacks, validation_split, validation_data, shuffle, class_weight, sample_weight, initial_epoch, steps_per_epoch, validation_steps, validation_batch_size, validation_freq, max_queue_size, workers, use_multiprocessing)\u001b[0m\n\u001b[1;32m   1156\u001b[0m                 _r=1):\n\u001b[1;32m   1157\u001b[0m               \u001b[0mcallbacks\u001b[0m\u001b[0;34m.\u001b[0m\u001b[0mon_train_batch_begin\u001b[0m\u001b[0;34m(\u001b[0m\u001b[0mstep\u001b[0m\u001b[0;34m)\u001b[0m\u001b[0;34m\u001b[0m\u001b[0;34m\u001b[0m\u001b[0m\n\u001b[0;32m-> 1158\u001b[0;31m               \u001b[0mtmp_logs\u001b[0m \u001b[0;34m=\u001b[0m \u001b[0mself\u001b[0m\u001b[0;34m.\u001b[0m\u001b[0mtrain_function\u001b[0m\u001b[0;34m(\u001b[0m\u001b[0miterator\u001b[0m\u001b[0;34m)\u001b[0m\u001b[0;34m\u001b[0m\u001b[0;34m\u001b[0m\u001b[0m\n\u001b[0m\u001b[1;32m   1159\u001b[0m               \u001b[0;32mif\u001b[0m \u001b[0mdata_handler\u001b[0m\u001b[0;34m.\u001b[0m\u001b[0mshould_sync\u001b[0m\u001b[0;34m:\u001b[0m\u001b[0;34m\u001b[0m\u001b[0;34m\u001b[0m\u001b[0m\n\u001b[1;32m   1160\u001b[0m                 \u001b[0mcontext\u001b[0m\u001b[0;34m.\u001b[0m\u001b[0masync_wait\u001b[0m\u001b[0;34m(\u001b[0m\u001b[0;34m)\u001b[0m\u001b[0;34m\u001b[0m\u001b[0;34m\u001b[0m\u001b[0m\n",
            "\u001b[0;32m/usr/local/lib/python3.7/dist-packages/tensorflow/python/eager/def_function.py\u001b[0m in \u001b[0;36m__call__\u001b[0;34m(self, *args, **kwds)\u001b[0m\n\u001b[1;32m    887\u001b[0m \u001b[0;34m\u001b[0m\u001b[0m\n\u001b[1;32m    888\u001b[0m       \u001b[0;32mwith\u001b[0m \u001b[0mOptionalXlaContext\u001b[0m\u001b[0;34m(\u001b[0m\u001b[0mself\u001b[0m\u001b[0;34m.\u001b[0m\u001b[0m_jit_compile\u001b[0m\u001b[0;34m)\u001b[0m\u001b[0;34m:\u001b[0m\u001b[0;34m\u001b[0m\u001b[0;34m\u001b[0m\u001b[0m\n\u001b[0;32m--> 889\u001b[0;31m         \u001b[0mresult\u001b[0m \u001b[0;34m=\u001b[0m \u001b[0mself\u001b[0m\u001b[0;34m.\u001b[0m\u001b[0m_call\u001b[0m\u001b[0;34m(\u001b[0m\u001b[0;34m*\u001b[0m\u001b[0margs\u001b[0m\u001b[0;34m,\u001b[0m \u001b[0;34m**\u001b[0m\u001b[0mkwds\u001b[0m\u001b[0;34m)\u001b[0m\u001b[0;34m\u001b[0m\u001b[0;34m\u001b[0m\u001b[0m\n\u001b[0m\u001b[1;32m    890\u001b[0m \u001b[0;34m\u001b[0m\u001b[0m\n\u001b[1;32m    891\u001b[0m       \u001b[0mnew_tracing_count\u001b[0m \u001b[0;34m=\u001b[0m \u001b[0mself\u001b[0m\u001b[0;34m.\u001b[0m\u001b[0mexperimental_get_tracing_count\u001b[0m\u001b[0;34m(\u001b[0m\u001b[0;34m)\u001b[0m\u001b[0;34m\u001b[0m\u001b[0;34m\u001b[0m\u001b[0m\n",
            "\u001b[0;32m/usr/local/lib/python3.7/dist-packages/tensorflow/python/eager/def_function.py\u001b[0m in \u001b[0;36m_call\u001b[0;34m(self, *args, **kwds)\u001b[0m\n\u001b[1;32m    931\u001b[0m       \u001b[0;31m# This is the first call of __call__, so we have to initialize.\u001b[0m\u001b[0;34m\u001b[0m\u001b[0;34m\u001b[0m\u001b[0;34m\u001b[0m\u001b[0m\n\u001b[1;32m    932\u001b[0m       \u001b[0minitializers\u001b[0m \u001b[0;34m=\u001b[0m \u001b[0;34m[\u001b[0m\u001b[0;34m]\u001b[0m\u001b[0;34m\u001b[0m\u001b[0;34m\u001b[0m\u001b[0m\n\u001b[0;32m--> 933\u001b[0;31m       \u001b[0mself\u001b[0m\u001b[0;34m.\u001b[0m\u001b[0m_initialize\u001b[0m\u001b[0;34m(\u001b[0m\u001b[0margs\u001b[0m\u001b[0;34m,\u001b[0m \u001b[0mkwds\u001b[0m\u001b[0;34m,\u001b[0m \u001b[0madd_initializers_to\u001b[0m\u001b[0;34m=\u001b[0m\u001b[0minitializers\u001b[0m\u001b[0;34m)\u001b[0m\u001b[0;34m\u001b[0m\u001b[0;34m\u001b[0m\u001b[0m\n\u001b[0m\u001b[1;32m    934\u001b[0m     \u001b[0;32mfinally\u001b[0m\u001b[0;34m:\u001b[0m\u001b[0;34m\u001b[0m\u001b[0;34m\u001b[0m\u001b[0m\n\u001b[1;32m    935\u001b[0m       \u001b[0;31m# At this point we know that the initialization is complete (or less\u001b[0m\u001b[0;34m\u001b[0m\u001b[0;34m\u001b[0m\u001b[0;34m\u001b[0m\u001b[0m\n",
            "\u001b[0;32m/usr/local/lib/python3.7/dist-packages/tensorflow/python/eager/def_function.py\u001b[0m in \u001b[0;36m_initialize\u001b[0;34m(self, args, kwds, add_initializers_to)\u001b[0m\n\u001b[1;32m    762\u001b[0m     self._concrete_stateful_fn = (\n\u001b[1;32m    763\u001b[0m         self._stateful_fn._get_concrete_function_internal_garbage_collected(  # pylint: disable=protected-access\n\u001b[0;32m--> 764\u001b[0;31m             *args, **kwds))\n\u001b[0m\u001b[1;32m    765\u001b[0m \u001b[0;34m\u001b[0m\u001b[0m\n\u001b[1;32m    766\u001b[0m     \u001b[0;32mdef\u001b[0m \u001b[0minvalid_creator_scope\u001b[0m\u001b[0;34m(\u001b[0m\u001b[0;34m*\u001b[0m\u001b[0munused_args\u001b[0m\u001b[0;34m,\u001b[0m \u001b[0;34m**\u001b[0m\u001b[0munused_kwds\u001b[0m\u001b[0;34m)\u001b[0m\u001b[0;34m:\u001b[0m\u001b[0;34m\u001b[0m\u001b[0;34m\u001b[0m\u001b[0m\n",
            "\u001b[0;32m/usr/local/lib/python3.7/dist-packages/tensorflow/python/eager/function.py\u001b[0m in \u001b[0;36m_get_concrete_function_internal_garbage_collected\u001b[0;34m(self, *args, **kwargs)\u001b[0m\n\u001b[1;32m   3048\u001b[0m       \u001b[0margs\u001b[0m\u001b[0;34m,\u001b[0m \u001b[0mkwargs\u001b[0m \u001b[0;34m=\u001b[0m \u001b[0;32mNone\u001b[0m\u001b[0;34m,\u001b[0m \u001b[0;32mNone\u001b[0m\u001b[0;34m\u001b[0m\u001b[0;34m\u001b[0m\u001b[0m\n\u001b[1;32m   3049\u001b[0m     \u001b[0;32mwith\u001b[0m \u001b[0mself\u001b[0m\u001b[0;34m.\u001b[0m\u001b[0m_lock\u001b[0m\u001b[0;34m:\u001b[0m\u001b[0;34m\u001b[0m\u001b[0;34m\u001b[0m\u001b[0m\n\u001b[0;32m-> 3050\u001b[0;31m       \u001b[0mgraph_function\u001b[0m\u001b[0;34m,\u001b[0m \u001b[0m_\u001b[0m \u001b[0;34m=\u001b[0m \u001b[0mself\u001b[0m\u001b[0;34m.\u001b[0m\u001b[0m_maybe_define_function\u001b[0m\u001b[0;34m(\u001b[0m\u001b[0margs\u001b[0m\u001b[0;34m,\u001b[0m \u001b[0mkwargs\u001b[0m\u001b[0;34m)\u001b[0m\u001b[0;34m\u001b[0m\u001b[0;34m\u001b[0m\u001b[0m\n\u001b[0m\u001b[1;32m   3051\u001b[0m     \u001b[0;32mreturn\u001b[0m \u001b[0mgraph_function\u001b[0m\u001b[0;34m\u001b[0m\u001b[0;34m\u001b[0m\u001b[0m\n\u001b[1;32m   3052\u001b[0m \u001b[0;34m\u001b[0m\u001b[0m\n",
            "\u001b[0;32m/usr/local/lib/python3.7/dist-packages/tensorflow/python/eager/function.py\u001b[0m in \u001b[0;36m_maybe_define_function\u001b[0;34m(self, args, kwargs)\u001b[0m\n\u001b[1;32m   3442\u001b[0m \u001b[0;34m\u001b[0m\u001b[0m\n\u001b[1;32m   3443\u001b[0m           \u001b[0mself\u001b[0m\u001b[0;34m.\u001b[0m\u001b[0m_function_cache\u001b[0m\u001b[0;34m.\u001b[0m\u001b[0mmissed\u001b[0m\u001b[0;34m.\u001b[0m\u001b[0madd\u001b[0m\u001b[0;34m(\u001b[0m\u001b[0mcall_context_key\u001b[0m\u001b[0;34m)\u001b[0m\u001b[0;34m\u001b[0m\u001b[0;34m\u001b[0m\u001b[0m\n\u001b[0;32m-> 3444\u001b[0;31m           \u001b[0mgraph_function\u001b[0m \u001b[0;34m=\u001b[0m \u001b[0mself\u001b[0m\u001b[0;34m.\u001b[0m\u001b[0m_create_graph_function\u001b[0m\u001b[0;34m(\u001b[0m\u001b[0margs\u001b[0m\u001b[0;34m,\u001b[0m \u001b[0mkwargs\u001b[0m\u001b[0;34m)\u001b[0m\u001b[0;34m\u001b[0m\u001b[0;34m\u001b[0m\u001b[0m\n\u001b[0m\u001b[1;32m   3445\u001b[0m           \u001b[0mself\u001b[0m\u001b[0;34m.\u001b[0m\u001b[0m_function_cache\u001b[0m\u001b[0;34m.\u001b[0m\u001b[0mprimary\u001b[0m\u001b[0;34m[\u001b[0m\u001b[0mcache_key\u001b[0m\u001b[0;34m]\u001b[0m \u001b[0;34m=\u001b[0m \u001b[0mgraph_function\u001b[0m\u001b[0;34m\u001b[0m\u001b[0;34m\u001b[0m\u001b[0m\n\u001b[1;32m   3446\u001b[0m \u001b[0;34m\u001b[0m\u001b[0m\n",
            "\u001b[0;32m/usr/local/lib/python3.7/dist-packages/tensorflow/python/eager/function.py\u001b[0m in \u001b[0;36m_create_graph_function\u001b[0;34m(self, args, kwargs, override_flat_arg_shapes)\u001b[0m\n\u001b[1;32m   3287\u001b[0m             \u001b[0marg_names\u001b[0m\u001b[0;34m=\u001b[0m\u001b[0marg_names\u001b[0m\u001b[0;34m,\u001b[0m\u001b[0;34m\u001b[0m\u001b[0;34m\u001b[0m\u001b[0m\n\u001b[1;32m   3288\u001b[0m             \u001b[0moverride_flat_arg_shapes\u001b[0m\u001b[0;34m=\u001b[0m\u001b[0moverride_flat_arg_shapes\u001b[0m\u001b[0;34m,\u001b[0m\u001b[0;34m\u001b[0m\u001b[0;34m\u001b[0m\u001b[0m\n\u001b[0;32m-> 3289\u001b[0;31m             capture_by_value=self._capture_by_value),\n\u001b[0m\u001b[1;32m   3290\u001b[0m         \u001b[0mself\u001b[0m\u001b[0;34m.\u001b[0m\u001b[0m_function_attributes\u001b[0m\u001b[0;34m,\u001b[0m\u001b[0;34m\u001b[0m\u001b[0;34m\u001b[0m\u001b[0m\n\u001b[1;32m   3291\u001b[0m         \u001b[0mfunction_spec\u001b[0m\u001b[0;34m=\u001b[0m\u001b[0mself\u001b[0m\u001b[0;34m.\u001b[0m\u001b[0mfunction_spec\u001b[0m\u001b[0;34m,\u001b[0m\u001b[0;34m\u001b[0m\u001b[0;34m\u001b[0m\u001b[0m\n",
            "\u001b[0;32m/usr/local/lib/python3.7/dist-packages/tensorflow/python/framework/func_graph.py\u001b[0m in \u001b[0;36mfunc_graph_from_py_func\u001b[0;34m(name, python_func, args, kwargs, signature, func_graph, autograph, autograph_options, add_control_dependencies, arg_names, op_return_value, collections, capture_by_value, override_flat_arg_shapes)\u001b[0m\n\u001b[1;32m    997\u001b[0m         \u001b[0m_\u001b[0m\u001b[0;34m,\u001b[0m \u001b[0moriginal_func\u001b[0m \u001b[0;34m=\u001b[0m \u001b[0mtf_decorator\u001b[0m\u001b[0;34m.\u001b[0m\u001b[0munwrap\u001b[0m\u001b[0;34m(\u001b[0m\u001b[0mpython_func\u001b[0m\u001b[0;34m)\u001b[0m\u001b[0;34m\u001b[0m\u001b[0;34m\u001b[0m\u001b[0m\n\u001b[1;32m    998\u001b[0m \u001b[0;34m\u001b[0m\u001b[0m\n\u001b[0;32m--> 999\u001b[0;31m       \u001b[0mfunc_outputs\u001b[0m \u001b[0;34m=\u001b[0m \u001b[0mpython_func\u001b[0m\u001b[0;34m(\u001b[0m\u001b[0;34m*\u001b[0m\u001b[0mfunc_args\u001b[0m\u001b[0;34m,\u001b[0m \u001b[0;34m**\u001b[0m\u001b[0mfunc_kwargs\u001b[0m\u001b[0;34m)\u001b[0m\u001b[0;34m\u001b[0m\u001b[0;34m\u001b[0m\u001b[0m\n\u001b[0m\u001b[1;32m   1000\u001b[0m \u001b[0;34m\u001b[0m\u001b[0m\n\u001b[1;32m   1001\u001b[0m       \u001b[0;31m# invariant: `func_outputs` contains only Tensors, CompositeTensors,\u001b[0m\u001b[0;34m\u001b[0m\u001b[0;34m\u001b[0m\u001b[0;34m\u001b[0m\u001b[0m\n",
            "\u001b[0;32m/usr/local/lib/python3.7/dist-packages/tensorflow/python/eager/def_function.py\u001b[0m in \u001b[0;36mwrapped_fn\u001b[0;34m(*args, **kwds)\u001b[0m\n\u001b[1;32m    670\u001b[0m         \u001b[0;31m# the function a weak reference to itself to avoid a reference cycle.\u001b[0m\u001b[0;34m\u001b[0m\u001b[0;34m\u001b[0m\u001b[0;34m\u001b[0m\u001b[0m\n\u001b[1;32m    671\u001b[0m         \u001b[0;32mwith\u001b[0m \u001b[0mOptionalXlaContext\u001b[0m\u001b[0;34m(\u001b[0m\u001b[0mcompile_with_xla\u001b[0m\u001b[0;34m)\u001b[0m\u001b[0;34m:\u001b[0m\u001b[0;34m\u001b[0m\u001b[0;34m\u001b[0m\u001b[0m\n\u001b[0;32m--> 672\u001b[0;31m           \u001b[0mout\u001b[0m \u001b[0;34m=\u001b[0m \u001b[0mweak_wrapped_fn\u001b[0m\u001b[0;34m(\u001b[0m\u001b[0;34m)\u001b[0m\u001b[0;34m.\u001b[0m\u001b[0m__wrapped__\u001b[0m\u001b[0;34m(\u001b[0m\u001b[0;34m*\u001b[0m\u001b[0margs\u001b[0m\u001b[0;34m,\u001b[0m \u001b[0;34m**\u001b[0m\u001b[0mkwds\u001b[0m\u001b[0;34m)\u001b[0m\u001b[0;34m\u001b[0m\u001b[0;34m\u001b[0m\u001b[0m\n\u001b[0m\u001b[1;32m    673\u001b[0m         \u001b[0;32mreturn\u001b[0m \u001b[0mout\u001b[0m\u001b[0;34m\u001b[0m\u001b[0;34m\u001b[0m\u001b[0m\n\u001b[1;32m    674\u001b[0m \u001b[0;34m\u001b[0m\u001b[0m\n",
            "\u001b[0;32m/usr/local/lib/python3.7/dist-packages/tensorflow/python/framework/func_graph.py\u001b[0m in \u001b[0;36mwrapper\u001b[0;34m(*args, **kwargs)\u001b[0m\n\u001b[1;32m    980\u001b[0m                     \u001b[0mrecursive\u001b[0m\u001b[0;34m=\u001b[0m\u001b[0;32mTrue\u001b[0m\u001b[0;34m,\u001b[0m\u001b[0;34m\u001b[0m\u001b[0;34m\u001b[0m\u001b[0m\n\u001b[1;32m    981\u001b[0m                     \u001b[0moptional_features\u001b[0m\u001b[0;34m=\u001b[0m\u001b[0mautograph_options\u001b[0m\u001b[0;34m,\u001b[0m\u001b[0;34m\u001b[0m\u001b[0;34m\u001b[0m\u001b[0m\n\u001b[0;32m--> 982\u001b[0;31m                     \u001b[0muser_requested\u001b[0m\u001b[0;34m=\u001b[0m\u001b[0;32mTrue\u001b[0m\u001b[0;34m,\u001b[0m\u001b[0;34m\u001b[0m\u001b[0;34m\u001b[0m\u001b[0m\n\u001b[0m\u001b[1;32m    983\u001b[0m                 ))\n\u001b[1;32m    984\u001b[0m           \u001b[0;32mexcept\u001b[0m \u001b[0mException\u001b[0m \u001b[0;32mas\u001b[0m \u001b[0me\u001b[0m\u001b[0;34m:\u001b[0m  \u001b[0;31m# pylint:disable=broad-except\u001b[0m\u001b[0;34m\u001b[0m\u001b[0;34m\u001b[0m\u001b[0m\n",
            "\u001b[0;32m/usr/local/lib/python3.7/dist-packages/tensorflow/python/autograph/impl/api.py\u001b[0m in \u001b[0;36mconverted_call\u001b[0;34m(f, args, kwargs, caller_fn_scope, options)\u001b[0m\n\u001b[1;32m    442\u001b[0m     \u001b[0;32mtry\u001b[0m\u001b[0;34m:\u001b[0m\u001b[0;34m\u001b[0m\u001b[0;34m\u001b[0m\u001b[0m\n\u001b[1;32m    443\u001b[0m       \u001b[0;32mif\u001b[0m \u001b[0mkwargs\u001b[0m \u001b[0;32mis\u001b[0m \u001b[0;32mnot\u001b[0m \u001b[0;32mNone\u001b[0m\u001b[0;34m:\u001b[0m\u001b[0;34m\u001b[0m\u001b[0;34m\u001b[0m\u001b[0m\n\u001b[0;32m--> 444\u001b[0;31m         \u001b[0mresult\u001b[0m \u001b[0;34m=\u001b[0m \u001b[0mconverted_f\u001b[0m\u001b[0;34m(\u001b[0m\u001b[0;34m*\u001b[0m\u001b[0meffective_args\u001b[0m\u001b[0;34m,\u001b[0m \u001b[0;34m**\u001b[0m\u001b[0mkwargs\u001b[0m\u001b[0;34m)\u001b[0m\u001b[0;34m\u001b[0m\u001b[0;34m\u001b[0m\u001b[0m\n\u001b[0m\u001b[1;32m    445\u001b[0m       \u001b[0;32melse\u001b[0m\u001b[0;34m:\u001b[0m\u001b[0;34m\u001b[0m\u001b[0;34m\u001b[0m\u001b[0m\n\u001b[1;32m    446\u001b[0m         \u001b[0mresult\u001b[0m \u001b[0;34m=\u001b[0m \u001b[0mconverted_f\u001b[0m\u001b[0;34m(\u001b[0m\u001b[0;34m*\u001b[0m\u001b[0meffective_args\u001b[0m\u001b[0;34m)\u001b[0m\u001b[0;34m\u001b[0m\u001b[0;34m\u001b[0m\u001b[0m\n",
            "\u001b[0;32m/usr/local/lib/python3.7/dist-packages/keras/engine/training.py\u001b[0m in \u001b[0;36mtf__train_function\u001b[0;34m(iterator)\u001b[0m\n\u001b[1;32m     13\u001b[0m                 \u001b[0;32mtry\u001b[0m\u001b[0;34m:\u001b[0m\u001b[0;34m\u001b[0m\u001b[0;34m\u001b[0m\u001b[0m\n\u001b[1;32m     14\u001b[0m                     \u001b[0mdo_return\u001b[0m \u001b[0;34m=\u001b[0m \u001b[0;32mTrue\u001b[0m\u001b[0;34m\u001b[0m\u001b[0;34m\u001b[0m\u001b[0m\n\u001b[0;32m---> 15\u001b[0;31m                     \u001b[0mretval_\u001b[0m \u001b[0;34m=\u001b[0m \u001b[0mag__\u001b[0m\u001b[0;34m.\u001b[0m\u001b[0mconverted_call\u001b[0m\u001b[0;34m(\u001b[0m\u001b[0mag__\u001b[0m\u001b[0;34m.\u001b[0m\u001b[0mld\u001b[0m\u001b[0;34m(\u001b[0m\u001b[0mstep_function\u001b[0m\u001b[0;34m)\u001b[0m\u001b[0;34m,\u001b[0m \u001b[0;34m(\u001b[0m\u001b[0mag__\u001b[0m\u001b[0;34m.\u001b[0m\u001b[0mld\u001b[0m\u001b[0;34m(\u001b[0m\u001b[0mself\u001b[0m\u001b[0;34m)\u001b[0m\u001b[0;34m,\u001b[0m \u001b[0mag__\u001b[0m\u001b[0;34m.\u001b[0m\u001b[0mld\u001b[0m\u001b[0;34m(\u001b[0m\u001b[0miterator\u001b[0m\u001b[0;34m)\u001b[0m\u001b[0;34m)\u001b[0m\u001b[0;34m,\u001b[0m \u001b[0;32mNone\u001b[0m\u001b[0;34m,\u001b[0m \u001b[0mfscope\u001b[0m\u001b[0;34m)\u001b[0m\u001b[0;34m\u001b[0m\u001b[0;34m\u001b[0m\u001b[0m\n\u001b[0m\u001b[1;32m     16\u001b[0m                 \u001b[0;32mexcept\u001b[0m\u001b[0;34m:\u001b[0m\u001b[0;34m\u001b[0m\u001b[0;34m\u001b[0m\u001b[0m\n\u001b[1;32m     17\u001b[0m                     \u001b[0mdo_return\u001b[0m \u001b[0;34m=\u001b[0m \u001b[0;32mFalse\u001b[0m\u001b[0;34m\u001b[0m\u001b[0;34m\u001b[0m\u001b[0m\n",
            "\u001b[0;32m/usr/local/lib/python3.7/dist-packages/tensorflow/python/autograph/impl/api.py\u001b[0m in \u001b[0;36mconverted_call\u001b[0;34m(f, args, kwargs, caller_fn_scope, options)\u001b[0m\n\u001b[1;32m    444\u001b[0m         \u001b[0mresult\u001b[0m \u001b[0;34m=\u001b[0m \u001b[0mconverted_f\u001b[0m\u001b[0;34m(\u001b[0m\u001b[0;34m*\u001b[0m\u001b[0meffective_args\u001b[0m\u001b[0;34m,\u001b[0m \u001b[0;34m**\u001b[0m\u001b[0mkwargs\u001b[0m\u001b[0;34m)\u001b[0m\u001b[0;34m\u001b[0m\u001b[0;34m\u001b[0m\u001b[0m\n\u001b[1;32m    445\u001b[0m       \u001b[0;32melse\u001b[0m\u001b[0;34m:\u001b[0m\u001b[0;34m\u001b[0m\u001b[0;34m\u001b[0m\u001b[0m\n\u001b[0;32m--> 446\u001b[0;31m         \u001b[0mresult\u001b[0m \u001b[0;34m=\u001b[0m \u001b[0mconverted_f\u001b[0m\u001b[0;34m(\u001b[0m\u001b[0;34m*\u001b[0m\u001b[0meffective_args\u001b[0m\u001b[0;34m)\u001b[0m\u001b[0;34m\u001b[0m\u001b[0;34m\u001b[0m\u001b[0m\n\u001b[0m\u001b[1;32m    447\u001b[0m     \u001b[0;32mexcept\u001b[0m \u001b[0mException\u001b[0m \u001b[0;32mas\u001b[0m \u001b[0me\u001b[0m\u001b[0;34m:\u001b[0m\u001b[0;34m\u001b[0m\u001b[0;34m\u001b[0m\u001b[0m\n\u001b[1;32m    448\u001b[0m       \u001b[0m_attach_error_metadata\u001b[0m\u001b[0;34m(\u001b[0m\u001b[0me\u001b[0m\u001b[0;34m,\u001b[0m \u001b[0mconverted_f\u001b[0m\u001b[0;34m)\u001b[0m\u001b[0;34m\u001b[0m\u001b[0;34m\u001b[0m\u001b[0m\n",
            "\u001b[0;32m/usr/local/lib/python3.7/dist-packages/keras/engine/training.py\u001b[0m in \u001b[0;36mtf__step_function\u001b[0;34m(model, iterator)\u001b[0m\n\u001b[1;32m     29\u001b[0m                 \u001b[0moutputs\u001b[0m \u001b[0;34m=\u001b[0m \u001b[0mag__\u001b[0m\u001b[0;34m.\u001b[0m\u001b[0mconverted_call\u001b[0m\u001b[0;34m(\u001b[0m\u001b[0mag__\u001b[0m\u001b[0;34m.\u001b[0m\u001b[0mld\u001b[0m\u001b[0;34m(\u001b[0m\u001b[0mmodel\u001b[0m\u001b[0;34m)\u001b[0m\u001b[0;34m.\u001b[0m\u001b[0mdistribute_strategy\u001b[0m\u001b[0;34m.\u001b[0m\u001b[0mrun\u001b[0m\u001b[0;34m,\u001b[0m \u001b[0;34m(\u001b[0m\u001b[0mag__\u001b[0m\u001b[0;34m.\u001b[0m\u001b[0mld\u001b[0m\u001b[0;34m(\u001b[0m\u001b[0mrun_step\u001b[0m\u001b[0;34m)\u001b[0m\u001b[0;34m,\u001b[0m\u001b[0;34m)\u001b[0m\u001b[0;34m,\u001b[0m \u001b[0mdict\u001b[0m\u001b[0;34m(\u001b[0m\u001b[0margs\u001b[0m\u001b[0;34m=\u001b[0m\u001b[0;34m(\u001b[0m\u001b[0mag__\u001b[0m\u001b[0;34m.\u001b[0m\u001b[0mld\u001b[0m\u001b[0;34m(\u001b[0m\u001b[0mdata\u001b[0m\u001b[0;34m)\u001b[0m\u001b[0;34m,\u001b[0m\u001b[0;34m)\u001b[0m\u001b[0;34m)\u001b[0m\u001b[0;34m,\u001b[0m \u001b[0mfscope\u001b[0m\u001b[0;34m)\u001b[0m\u001b[0;34m\u001b[0m\u001b[0;34m\u001b[0m\u001b[0m\n\u001b[1;32m     30\u001b[0m                 \u001b[0moutputs\u001b[0m \u001b[0;34m=\u001b[0m \u001b[0mag__\u001b[0m\u001b[0;34m.\u001b[0m\u001b[0mconverted_call\u001b[0m\u001b[0;34m(\u001b[0m\u001b[0mag__\u001b[0m\u001b[0;34m.\u001b[0m\u001b[0mld\u001b[0m\u001b[0;34m(\u001b[0m\u001b[0mreduce_per_replica\u001b[0m\u001b[0;34m)\u001b[0m\u001b[0;34m,\u001b[0m \u001b[0;34m(\u001b[0m\u001b[0mag__\u001b[0m\u001b[0;34m.\u001b[0m\u001b[0mld\u001b[0m\u001b[0;34m(\u001b[0m\u001b[0moutputs\u001b[0m\u001b[0;34m)\u001b[0m\u001b[0;34m,\u001b[0m \u001b[0mag__\u001b[0m\u001b[0;34m.\u001b[0m\u001b[0mld\u001b[0m\u001b[0;34m(\u001b[0m\u001b[0mself\u001b[0m\u001b[0;34m)\u001b[0m\u001b[0;34m.\u001b[0m\u001b[0mdistribute_strategy\u001b[0m\u001b[0;34m)\u001b[0m\u001b[0;34m,\u001b[0m \u001b[0mdict\u001b[0m\u001b[0;34m(\u001b[0m\u001b[0mreduction\u001b[0m\u001b[0;34m=\u001b[0m\u001b[0;34m'first'\u001b[0m\u001b[0;34m)\u001b[0m\u001b[0;34m,\u001b[0m \u001b[0mfscope\u001b[0m\u001b[0;34m)\u001b[0m\u001b[0;34m\u001b[0m\u001b[0;34m\u001b[0m\u001b[0m\n\u001b[0;32m---> 31\u001b[0;31m                 \u001b[0mag__\u001b[0m\u001b[0;34m.\u001b[0m\u001b[0mconverted_call\u001b[0m\u001b[0;34m(\u001b[0m\u001b[0mag__\u001b[0m\u001b[0;34m.\u001b[0m\u001b[0mld\u001b[0m\u001b[0;34m(\u001b[0m\u001b[0mwrite_scalar_summaries\u001b[0m\u001b[0;34m)\u001b[0m\u001b[0;34m,\u001b[0m \u001b[0;34m(\u001b[0m\u001b[0mag__\u001b[0m\u001b[0;34m.\u001b[0m\u001b[0mld\u001b[0m\u001b[0;34m(\u001b[0m\u001b[0moutputs\u001b[0m\u001b[0;34m)\u001b[0m\u001b[0;34m,\u001b[0m\u001b[0;34m)\u001b[0m\u001b[0;34m,\u001b[0m \u001b[0mdict\u001b[0m\u001b[0;34m(\u001b[0m\u001b[0mstep\u001b[0m\u001b[0;34m=\u001b[0m\u001b[0mag__\u001b[0m\u001b[0;34m.\u001b[0m\u001b[0mld\u001b[0m\u001b[0;34m(\u001b[0m\u001b[0mmodel\u001b[0m\u001b[0;34m)\u001b[0m\u001b[0;34m.\u001b[0m\u001b[0m_train_counter\u001b[0m\u001b[0;34m)\u001b[0m\u001b[0;34m,\u001b[0m \u001b[0mfscope\u001b[0m\u001b[0;34m)\u001b[0m\u001b[0;34m\u001b[0m\u001b[0;34m\u001b[0m\u001b[0m\n\u001b[0m\u001b[1;32m     32\u001b[0m                 \u001b[0;32mtry\u001b[0m\u001b[0;34m:\u001b[0m\u001b[0;34m\u001b[0m\u001b[0;34m\u001b[0m\u001b[0m\n\u001b[1;32m     33\u001b[0m                     \u001b[0mdo_return\u001b[0m \u001b[0;34m=\u001b[0m \u001b[0;32mTrue\u001b[0m\u001b[0;34m\u001b[0m\u001b[0;34m\u001b[0m\u001b[0m\n",
            "\u001b[0;32m/usr/local/lib/python3.7/dist-packages/tensorflow/python/autograph/impl/api.py\u001b[0m in \u001b[0;36mconverted_call\u001b[0;34m(f, args, kwargs, caller_fn_scope, options)\u001b[0m\n\u001b[1;32m    430\u001b[0m   \u001b[0;32mtry\u001b[0m\u001b[0;34m:\u001b[0m\u001b[0;34m\u001b[0m\u001b[0;34m\u001b[0m\u001b[0m\n\u001b[1;32m    431\u001b[0m     \u001b[0mprogram_ctx\u001b[0m \u001b[0;34m=\u001b[0m \u001b[0mconverter\u001b[0m\u001b[0;34m.\u001b[0m\u001b[0mProgramContext\u001b[0m\u001b[0;34m(\u001b[0m\u001b[0moptions\u001b[0m\u001b[0;34m=\u001b[0m\u001b[0moptions\u001b[0m\u001b[0;34m)\u001b[0m\u001b[0;34m\u001b[0m\u001b[0;34m\u001b[0m\u001b[0m\n\u001b[0;32m--> 432\u001b[0;31m     \u001b[0mconverted_f\u001b[0m \u001b[0;34m=\u001b[0m \u001b[0m_convert_actual\u001b[0m\u001b[0;34m(\u001b[0m\u001b[0mtarget_entity\u001b[0m\u001b[0;34m,\u001b[0m \u001b[0mprogram_ctx\u001b[0m\u001b[0;34m)\u001b[0m\u001b[0;34m\u001b[0m\u001b[0;34m\u001b[0m\u001b[0m\n\u001b[0m\u001b[1;32m    433\u001b[0m     \u001b[0;32mif\u001b[0m \u001b[0mlogging\u001b[0m\u001b[0;34m.\u001b[0m\u001b[0mhas_verbosity\u001b[0m\u001b[0;34m(\u001b[0m\u001b[0;36m2\u001b[0m\u001b[0;34m)\u001b[0m\u001b[0;34m:\u001b[0m\u001b[0;34m\u001b[0m\u001b[0;34m\u001b[0m\u001b[0m\n\u001b[1;32m    434\u001b[0m       \u001b[0m_log_callargs\u001b[0m\u001b[0;34m(\u001b[0m\u001b[0mconverted_f\u001b[0m\u001b[0;34m,\u001b[0m \u001b[0meffective_args\u001b[0m\u001b[0;34m,\u001b[0m \u001b[0mkwargs\u001b[0m\u001b[0;34m)\u001b[0m\u001b[0;34m\u001b[0m\u001b[0;34m\u001b[0m\u001b[0m\n",
            "\u001b[0;32m/usr/local/lib/python3.7/dist-packages/tensorflow/python/autograph/impl/api.py\u001b[0m in \u001b[0;36m_convert_actual\u001b[0;34m(entity, program_ctx)\u001b[0m\n\u001b[1;32m    272\u001b[0m                      ' try passing f.python_function instead.')\n\u001b[1;32m    273\u001b[0m \u001b[0;34m\u001b[0m\u001b[0m\n\u001b[0;32m--> 274\u001b[0;31m   \u001b[0mtransformed\u001b[0m\u001b[0;34m,\u001b[0m \u001b[0mmodule\u001b[0m\u001b[0;34m,\u001b[0m \u001b[0msource_map\u001b[0m \u001b[0;34m=\u001b[0m \u001b[0m_TRANSPILER\u001b[0m\u001b[0;34m.\u001b[0m\u001b[0mtransform\u001b[0m\u001b[0;34m(\u001b[0m\u001b[0mentity\u001b[0m\u001b[0;34m,\u001b[0m \u001b[0mprogram_ctx\u001b[0m\u001b[0;34m)\u001b[0m\u001b[0;34m\u001b[0m\u001b[0;34m\u001b[0m\u001b[0m\n\u001b[0m\u001b[1;32m    275\u001b[0m \u001b[0;34m\u001b[0m\u001b[0m\n\u001b[1;32m    276\u001b[0m   \u001b[0;32massert\u001b[0m \u001b[0;32mnot\u001b[0m \u001b[0mhasattr\u001b[0m\u001b[0;34m(\u001b[0m\u001b[0mtransformed\u001b[0m\u001b[0;34m,\u001b[0m \u001b[0;34m'ag_module'\u001b[0m\u001b[0;34m)\u001b[0m\u001b[0;34m\u001b[0m\u001b[0;34m\u001b[0m\u001b[0m\n",
            "\u001b[0;32m/usr/local/lib/python3.7/dist-packages/tensorflow/python/autograph/pyct/transpiler.py\u001b[0m in \u001b[0;36mtransform\u001b[0;34m(self, obj, user_context)\u001b[0m\n\u001b[1;32m    284\u001b[0m     \"\"\"\n\u001b[1;32m    285\u001b[0m     \u001b[0;32mif\u001b[0m \u001b[0minspect\u001b[0m\u001b[0;34m.\u001b[0m\u001b[0misfunction\u001b[0m\u001b[0;34m(\u001b[0m\u001b[0mobj\u001b[0m\u001b[0;34m)\u001b[0m \u001b[0;32mor\u001b[0m \u001b[0minspect\u001b[0m\u001b[0;34m.\u001b[0m\u001b[0mismethod\u001b[0m\u001b[0;34m(\u001b[0m\u001b[0mobj\u001b[0m\u001b[0;34m)\u001b[0m\u001b[0;34m:\u001b[0m\u001b[0;34m\u001b[0m\u001b[0;34m\u001b[0m\u001b[0m\n\u001b[0;32m--> 286\u001b[0;31m       \u001b[0;32mreturn\u001b[0m \u001b[0mself\u001b[0m\u001b[0;34m.\u001b[0m\u001b[0mtransform_function\u001b[0m\u001b[0;34m(\u001b[0m\u001b[0mobj\u001b[0m\u001b[0;34m,\u001b[0m \u001b[0muser_context\u001b[0m\u001b[0;34m)\u001b[0m\u001b[0;34m\u001b[0m\u001b[0;34m\u001b[0m\u001b[0m\n\u001b[0m\u001b[1;32m    287\u001b[0m \u001b[0;34m\u001b[0m\u001b[0m\n\u001b[1;32m    288\u001b[0m     \u001b[0;32mraise\u001b[0m \u001b[0mNotImplementedError\u001b[0m\u001b[0;34m(\u001b[0m\u001b[0;34m'Non-function: {}'\u001b[0m\u001b[0;34m.\u001b[0m\u001b[0mformat\u001b[0m\u001b[0;34m(\u001b[0m\u001b[0mtype\u001b[0m\u001b[0;34m(\u001b[0m\u001b[0mobj\u001b[0m\u001b[0;34m)\u001b[0m\u001b[0;34m)\u001b[0m\u001b[0;34m)\u001b[0m\u001b[0;34m\u001b[0m\u001b[0;34m\u001b[0m\u001b[0m\n",
            "\u001b[0;32m/usr/local/lib/python3.7/dist-packages/tensorflow/python/autograph/pyct/transpiler.py\u001b[0m in \u001b[0;36mtransform_function\u001b[0;34m(self, fn, user_context)\u001b[0m\n\u001b[1;32m    468\u001b[0m           \u001b[0mlogging\u001b[0m\u001b[0;34m.\u001b[0m\u001b[0mlog\u001b[0m\u001b[0;34m(\u001b[0m\u001b[0;36m1\u001b[0m\u001b[0;34m,\u001b[0m \u001b[0;34m'%s is not cached for subkey %s'\u001b[0m\u001b[0;34m,\u001b[0m \u001b[0mfn\u001b[0m\u001b[0;34m,\u001b[0m \u001b[0mcache_subkey\u001b[0m\u001b[0;34m)\u001b[0m\u001b[0;34m\u001b[0m\u001b[0;34m\u001b[0m\u001b[0m\n\u001b[1;32m    469\u001b[0m           \u001b[0;31m# TODO(mdan): Confusing overloading pattern. Fix.\u001b[0m\u001b[0;34m\u001b[0m\u001b[0;34m\u001b[0m\u001b[0;34m\u001b[0m\u001b[0m\n\u001b[0;32m--> 470\u001b[0;31m           \u001b[0mnodes\u001b[0m\u001b[0;34m,\u001b[0m \u001b[0mctx\u001b[0m \u001b[0;34m=\u001b[0m \u001b[0msuper\u001b[0m\u001b[0;34m(\u001b[0m\u001b[0mPyToPy\u001b[0m\u001b[0;34m,\u001b[0m \u001b[0mself\u001b[0m\u001b[0;34m)\u001b[0m\u001b[0;34m.\u001b[0m\u001b[0mtransform_function\u001b[0m\u001b[0;34m(\u001b[0m\u001b[0mfn\u001b[0m\u001b[0;34m,\u001b[0m \u001b[0muser_context\u001b[0m\u001b[0;34m)\u001b[0m\u001b[0;34m\u001b[0m\u001b[0;34m\u001b[0m\u001b[0m\n\u001b[0m\u001b[1;32m    471\u001b[0m \u001b[0;34m\u001b[0m\u001b[0m\n\u001b[1;32m    472\u001b[0m           \u001b[0;32mif\u001b[0m \u001b[0misinstance\u001b[0m\u001b[0;34m(\u001b[0m\u001b[0mnodes\u001b[0m\u001b[0;34m,\u001b[0m \u001b[0mgast\u001b[0m\u001b[0;34m.\u001b[0m\u001b[0mLambda\u001b[0m\u001b[0;34m)\u001b[0m\u001b[0;34m:\u001b[0m\u001b[0;34m\u001b[0m\u001b[0;34m\u001b[0m\u001b[0m\n",
            "\u001b[0;32m/usr/local/lib/python3.7/dist-packages/tensorflow/python/autograph/pyct/transpiler.py\u001b[0m in \u001b[0;36mtransform_function\u001b[0;34m(self, fn, user_context)\u001b[0m\n\u001b[1;32m    361\u001b[0m \u001b[0;34m\u001b[0m\u001b[0m\n\u001b[1;32m    362\u001b[0m     \u001b[0mnode\u001b[0m \u001b[0;34m=\u001b[0m \u001b[0mself\u001b[0m\u001b[0;34m.\u001b[0m\u001b[0m_erase_arg_defaults\u001b[0m\u001b[0;34m(\u001b[0m\u001b[0mnode\u001b[0m\u001b[0;34m)\u001b[0m\u001b[0;34m\u001b[0m\u001b[0;34m\u001b[0m\u001b[0m\n\u001b[0;32m--> 363\u001b[0;31m     \u001b[0mresult\u001b[0m \u001b[0;34m=\u001b[0m \u001b[0mself\u001b[0m\u001b[0;34m.\u001b[0m\u001b[0mtransform_ast\u001b[0m\u001b[0;34m(\u001b[0m\u001b[0mnode\u001b[0m\u001b[0;34m,\u001b[0m \u001b[0mcontext\u001b[0m\u001b[0;34m)\u001b[0m\u001b[0;34m\u001b[0m\u001b[0;34m\u001b[0m\u001b[0m\n\u001b[0m\u001b[1;32m    364\u001b[0m \u001b[0;34m\u001b[0m\u001b[0m\n\u001b[1;32m    365\u001b[0m     \u001b[0;32mreturn\u001b[0m \u001b[0mresult\u001b[0m\u001b[0;34m,\u001b[0m \u001b[0mcontext\u001b[0m\u001b[0;34m\u001b[0m\u001b[0;34m\u001b[0m\u001b[0m\n",
            "\u001b[0;32m/usr/local/lib/python3.7/dist-packages/tensorflow/python/autograph/impl/api.py\u001b[0m in \u001b[0;36mtransform_ast\u001b[0;34m(self, node, ctx)\u001b[0m\n\u001b[1;32m    251\u001b[0m     \u001b[0;31m# canonicalization creates.\u001b[0m\u001b[0;34m\u001b[0m\u001b[0;34m\u001b[0m\u001b[0;34m\u001b[0m\u001b[0m\n\u001b[1;32m    252\u001b[0m     \u001b[0mnode\u001b[0m \u001b[0;34m=\u001b[0m \u001b[0mcontinue_statements\u001b[0m\u001b[0;34m.\u001b[0m\u001b[0mtransform\u001b[0m\u001b[0;34m(\u001b[0m\u001b[0mnode\u001b[0m\u001b[0;34m,\u001b[0m \u001b[0mctx\u001b[0m\u001b[0;34m)\u001b[0m\u001b[0;34m\u001b[0m\u001b[0;34m\u001b[0m\u001b[0m\n\u001b[0;32m--> 253\u001b[0;31m     \u001b[0mnode\u001b[0m \u001b[0;34m=\u001b[0m \u001b[0mreturn_statements\u001b[0m\u001b[0;34m.\u001b[0m\u001b[0mtransform\u001b[0m\u001b[0;34m(\u001b[0m\u001b[0mnode\u001b[0m\u001b[0;34m,\u001b[0m \u001b[0mctx\u001b[0m\u001b[0;34m)\u001b[0m\u001b[0;34m\u001b[0m\u001b[0;34m\u001b[0m\u001b[0m\n\u001b[0m\u001b[1;32m    254\u001b[0m     \u001b[0;32mif\u001b[0m \u001b[0mctx\u001b[0m\u001b[0;34m.\u001b[0m\u001b[0muser\u001b[0m\u001b[0;34m.\u001b[0m\u001b[0moptions\u001b[0m\u001b[0;34m.\u001b[0m\u001b[0muses\u001b[0m\u001b[0;34m(\u001b[0m\u001b[0mconverter\u001b[0m\u001b[0;34m.\u001b[0m\u001b[0mFeature\u001b[0m\u001b[0;34m.\u001b[0m\u001b[0mLISTS\u001b[0m\u001b[0;34m)\u001b[0m\u001b[0;34m:\u001b[0m\u001b[0;34m\u001b[0m\u001b[0;34m\u001b[0m\u001b[0m\n\u001b[1;32m    255\u001b[0m       \u001b[0mnode\u001b[0m \u001b[0;34m=\u001b[0m \u001b[0mlists\u001b[0m\u001b[0;34m.\u001b[0m\u001b[0mtransform\u001b[0m\u001b[0;34m(\u001b[0m\u001b[0mnode\u001b[0m\u001b[0;34m,\u001b[0m \u001b[0mctx\u001b[0m\u001b[0;34m)\u001b[0m\u001b[0;34m\u001b[0m\u001b[0;34m\u001b[0m\u001b[0m\n",
            "\u001b[0;32m/usr/local/lib/python3.7/dist-packages/tensorflow/python/autograph/converters/return_statements.py\u001b[0m in \u001b[0;36mtransform\u001b[0;34m(node, ctx, default_to_null_return)\u001b[0m\n\u001b[1;32m    393\u001b[0m   \u001b[0;34m\"\"\"Ensure a function has only a single return, at the end.\"\"\"\u001b[0m\u001b[0;34m\u001b[0m\u001b[0;34m\u001b[0m\u001b[0m\n\u001b[1;32m    394\u001b[0m   \u001b[0mnode\u001b[0m \u001b[0;34m=\u001b[0m \u001b[0mqual_names\u001b[0m\u001b[0;34m.\u001b[0m\u001b[0mresolve\u001b[0m\u001b[0;34m(\u001b[0m\u001b[0mnode\u001b[0m\u001b[0;34m)\u001b[0m\u001b[0;34m\u001b[0m\u001b[0;34m\u001b[0m\u001b[0m\n\u001b[0;32m--> 395\u001b[0;31m   \u001b[0mnode\u001b[0m \u001b[0;34m=\u001b[0m \u001b[0mactivity\u001b[0m\u001b[0;34m.\u001b[0m\u001b[0mresolve\u001b[0m\u001b[0;34m(\u001b[0m\u001b[0mnode\u001b[0m\u001b[0;34m,\u001b[0m \u001b[0mctx\u001b[0m\u001b[0;34m,\u001b[0m \u001b[0;32mNone\u001b[0m\u001b[0;34m)\u001b[0m\u001b[0;34m\u001b[0m\u001b[0;34m\u001b[0m\u001b[0m\n\u001b[0m\u001b[1;32m    396\u001b[0m \u001b[0;34m\u001b[0m\u001b[0m\n\u001b[1;32m    397\u001b[0m   \u001b[0;31m# Note: Technically, these two could be merged into a single walk, but\u001b[0m\u001b[0;34m\u001b[0m\u001b[0;34m\u001b[0m\u001b[0;34m\u001b[0m\u001b[0m\n",
            "\u001b[0;32m/usr/local/lib/python3.7/dist-packages/tensorflow/python/autograph/pyct/static_analysis/activity.py\u001b[0m in \u001b[0;36mresolve\u001b[0;34m(node, context, parent_scope)\u001b[0m\n\u001b[1;32m    707\u001b[0m \u001b[0;34m\u001b[0m\u001b[0m\n\u001b[1;32m    708\u001b[0m \u001b[0;32mdef\u001b[0m \u001b[0mresolve\u001b[0m\u001b[0;34m(\u001b[0m\u001b[0mnode\u001b[0m\u001b[0;34m,\u001b[0m \u001b[0mcontext\u001b[0m\u001b[0;34m,\u001b[0m \u001b[0mparent_scope\u001b[0m\u001b[0;34m=\u001b[0m\u001b[0;32mNone\u001b[0m\u001b[0;34m)\u001b[0m\u001b[0;34m:\u001b[0m\u001b[0;34m\u001b[0m\u001b[0;34m\u001b[0m\u001b[0m\n\u001b[0;32m--> 709\u001b[0;31m   \u001b[0;32mreturn\u001b[0m \u001b[0mActivityAnalyzer\u001b[0m\u001b[0;34m(\u001b[0m\u001b[0mcontext\u001b[0m\u001b[0;34m,\u001b[0m \u001b[0mparent_scope\u001b[0m\u001b[0;34m)\u001b[0m\u001b[0;34m.\u001b[0m\u001b[0mvisit\u001b[0m\u001b[0;34m(\u001b[0m\u001b[0mnode\u001b[0m\u001b[0;34m)\u001b[0m\u001b[0;34m\u001b[0m\u001b[0;34m\u001b[0m\u001b[0m\n\u001b[0m",
            "\u001b[0;32m/usr/local/lib/python3.7/dist-packages/tensorflow/python/autograph/pyct/transformer.py\u001b[0m in \u001b[0;36mvisit\u001b[0;34m(self, node)\u001b[0m\n\u001b[1;32m    443\u001b[0m         \u001b[0mentry_expr_value\u001b[0m \u001b[0;34m=\u001b[0m \u001b[0mnode\u001b[0m\u001b[0;34m.\u001b[0m\u001b[0mvalue\u001b[0m\u001b[0;34m\u001b[0m\u001b[0;34m\u001b[0m\u001b[0m\n\u001b[1;32m    444\u001b[0m \u001b[0;34m\u001b[0m\u001b[0m\n\u001b[0;32m--> 445\u001b[0;31m       \u001b[0mresult\u001b[0m \u001b[0;34m=\u001b[0m \u001b[0msuper\u001b[0m\u001b[0;34m(\u001b[0m\u001b[0mBase\u001b[0m\u001b[0;34m,\u001b[0m \u001b[0mself\u001b[0m\u001b[0;34m)\u001b[0m\u001b[0;34m.\u001b[0m\u001b[0mvisit\u001b[0m\u001b[0;34m(\u001b[0m\u001b[0mnode\u001b[0m\u001b[0;34m)\u001b[0m\u001b[0;34m\u001b[0m\u001b[0;34m\u001b[0m\u001b[0m\n\u001b[0m\u001b[1;32m    446\u001b[0m \u001b[0;34m\u001b[0m\u001b[0m\n\u001b[1;32m    447\u001b[0m       \u001b[0;31m# Adjust for consistency: replacing the value of an Expr with\u001b[0m\u001b[0;34m\u001b[0m\u001b[0;34m\u001b[0m\u001b[0;34m\u001b[0m\u001b[0m\n",
            "\u001b[0;32m/usr/lib/python3.7/ast.py\u001b[0m in \u001b[0;36mvisit\u001b[0;34m(self, node)\u001b[0m\n\u001b[1;32m    269\u001b[0m         \u001b[0mmethod\u001b[0m \u001b[0;34m=\u001b[0m \u001b[0;34m'visit_'\u001b[0m \u001b[0;34m+\u001b[0m \u001b[0mnode\u001b[0m\u001b[0;34m.\u001b[0m\u001b[0m__class__\u001b[0m\u001b[0;34m.\u001b[0m\u001b[0m__name__\u001b[0m\u001b[0;34m\u001b[0m\u001b[0;34m\u001b[0m\u001b[0m\n\u001b[1;32m    270\u001b[0m         \u001b[0mvisitor\u001b[0m \u001b[0;34m=\u001b[0m \u001b[0mgetattr\u001b[0m\u001b[0;34m(\u001b[0m\u001b[0mself\u001b[0m\u001b[0;34m,\u001b[0m \u001b[0mmethod\u001b[0m\u001b[0;34m,\u001b[0m \u001b[0mself\u001b[0m\u001b[0;34m.\u001b[0m\u001b[0mgeneric_visit\u001b[0m\u001b[0;34m)\u001b[0m\u001b[0;34m\u001b[0m\u001b[0;34m\u001b[0m\u001b[0m\n\u001b[0;32m--> 271\u001b[0;31m         \u001b[0;32mreturn\u001b[0m \u001b[0mvisitor\u001b[0m\u001b[0;34m(\u001b[0m\u001b[0mnode\u001b[0m\u001b[0;34m)\u001b[0m\u001b[0;34m\u001b[0m\u001b[0;34m\u001b[0m\u001b[0m\n\u001b[0m\u001b[1;32m    272\u001b[0m \u001b[0;34m\u001b[0m\u001b[0m\n\u001b[1;32m    273\u001b[0m     \u001b[0;32mdef\u001b[0m \u001b[0mgeneric_visit\u001b[0m\u001b[0;34m(\u001b[0m\u001b[0mself\u001b[0m\u001b[0;34m,\u001b[0m \u001b[0mnode\u001b[0m\u001b[0;34m)\u001b[0m\u001b[0;34m:\u001b[0m\u001b[0;34m\u001b[0m\u001b[0;34m\u001b[0m\u001b[0m\n",
            "\u001b[0;32m/usr/local/lib/python3.7/dist-packages/tensorflow/python/autograph/pyct/static_analysis/activity.py\u001b[0m in \u001b[0;36mvisit_FunctionDef\u001b[0;34m(self, node)\u001b[0m\n\u001b[1;32m    599\u001b[0m       \u001b[0;31m# be strictly needed.\u001b[0m\u001b[0;34m\u001b[0m\u001b[0;34m\u001b[0m\u001b[0;34m\u001b[0m\u001b[0m\n\u001b[1;32m    600\u001b[0m       \u001b[0mself\u001b[0m\u001b[0;34m.\u001b[0m\u001b[0m_enter_scope\u001b[0m\u001b[0;34m(\u001b[0m\u001b[0;32mFalse\u001b[0m\u001b[0;34m,\u001b[0m \u001b[0mnode\u001b[0m\u001b[0;34m.\u001b[0m\u001b[0mname\u001b[0m\u001b[0;34m)\u001b[0m\u001b[0;34m\u001b[0m\u001b[0;34m\u001b[0m\u001b[0m\n\u001b[0;32m--> 601\u001b[0;31m       \u001b[0mnode\u001b[0m\u001b[0;34m.\u001b[0m\u001b[0mbody\u001b[0m \u001b[0;34m=\u001b[0m \u001b[0mself\u001b[0m\u001b[0;34m.\u001b[0m\u001b[0mvisit_block\u001b[0m\u001b[0;34m(\u001b[0m\u001b[0mnode\u001b[0m\u001b[0;34m.\u001b[0m\u001b[0mbody\u001b[0m\u001b[0;34m)\u001b[0m\u001b[0;34m\u001b[0m\u001b[0;34m\u001b[0m\u001b[0m\n\u001b[0m\u001b[1;32m    602\u001b[0m       \u001b[0mself\u001b[0m\u001b[0;34m.\u001b[0m\u001b[0m_exit_and_record_scope\u001b[0m\u001b[0;34m(\u001b[0m\u001b[0mnode\u001b[0m\u001b[0;34m,\u001b[0m \u001b[0mNodeAnno\u001b[0m\u001b[0;34m.\u001b[0m\u001b[0mBODY_SCOPE\u001b[0m\u001b[0;34m)\u001b[0m\u001b[0;34m\u001b[0m\u001b[0;34m\u001b[0m\u001b[0m\n\u001b[1;32m    603\u001b[0m \u001b[0;34m\u001b[0m\u001b[0m\n",
            "\u001b[0;32m/usr/local/lib/python3.7/dist-packages/tensorflow/python/autograph/pyct/transformer.py\u001b[0m in \u001b[0;36mvisit_block\u001b[0;34m(self, nodes, before_visit, after_visit)\u001b[0m\n\u001b[1;32m    338\u001b[0m         \u001b[0mbefore_visit\u001b[0m\u001b[0;34m(\u001b[0m\u001b[0;34m)\u001b[0m\u001b[0;34m\u001b[0m\u001b[0;34m\u001b[0m\u001b[0m\n\u001b[1;32m    339\u001b[0m \u001b[0;34m\u001b[0m\u001b[0m\n\u001b[0;32m--> 340\u001b[0;31m       \u001b[0mreplacement\u001b[0m \u001b[0;34m=\u001b[0m \u001b[0mself\u001b[0m\u001b[0;34m.\u001b[0m\u001b[0mvisit\u001b[0m\u001b[0;34m(\u001b[0m\u001b[0mnode\u001b[0m\u001b[0;34m)\u001b[0m\u001b[0;34m\u001b[0m\u001b[0;34m\u001b[0m\u001b[0m\n\u001b[0m\u001b[1;32m    341\u001b[0m \u001b[0;34m\u001b[0m\u001b[0m\n\u001b[1;32m    342\u001b[0m       \u001b[0;32mif\u001b[0m \u001b[0mafter_visit\u001b[0m \u001b[0;32mand\u001b[0m \u001b[0mreplacement\u001b[0m\u001b[0;34m:\u001b[0m\u001b[0;34m\u001b[0m\u001b[0;34m\u001b[0m\u001b[0m\n",
            "\u001b[0;32m/usr/local/lib/python3.7/dist-packages/tensorflow/python/autograph/pyct/transformer.py\u001b[0m in \u001b[0;36mvisit\u001b[0;34m(self, node)\u001b[0m\n\u001b[1;32m    443\u001b[0m         \u001b[0mentry_expr_value\u001b[0m \u001b[0;34m=\u001b[0m \u001b[0mnode\u001b[0m\u001b[0;34m.\u001b[0m\u001b[0mvalue\u001b[0m\u001b[0;34m\u001b[0m\u001b[0;34m\u001b[0m\u001b[0m\n\u001b[1;32m    444\u001b[0m \u001b[0;34m\u001b[0m\u001b[0m\n\u001b[0;32m--> 445\u001b[0;31m       \u001b[0mresult\u001b[0m \u001b[0;34m=\u001b[0m \u001b[0msuper\u001b[0m\u001b[0;34m(\u001b[0m\u001b[0mBase\u001b[0m\u001b[0;34m,\u001b[0m \u001b[0mself\u001b[0m\u001b[0;34m)\u001b[0m\u001b[0;34m.\u001b[0m\u001b[0mvisit\u001b[0m\u001b[0;34m(\u001b[0m\u001b[0mnode\u001b[0m\u001b[0;34m)\u001b[0m\u001b[0;34m\u001b[0m\u001b[0;34m\u001b[0m\u001b[0m\n\u001b[0m\u001b[1;32m    446\u001b[0m \u001b[0;34m\u001b[0m\u001b[0m\n\u001b[1;32m    447\u001b[0m       \u001b[0;31m# Adjust for consistency: replacing the value of an Expr with\u001b[0m\u001b[0;34m\u001b[0m\u001b[0;34m\u001b[0m\u001b[0;34m\u001b[0m\u001b[0m\n",
            "\u001b[0;32m/usr/lib/python3.7/ast.py\u001b[0m in \u001b[0;36mvisit\u001b[0;34m(self, node)\u001b[0m\n\u001b[1;32m    269\u001b[0m         \u001b[0mmethod\u001b[0m \u001b[0;34m=\u001b[0m \u001b[0;34m'visit_'\u001b[0m \u001b[0;34m+\u001b[0m \u001b[0mnode\u001b[0m\u001b[0;34m.\u001b[0m\u001b[0m__class__\u001b[0m\u001b[0;34m.\u001b[0m\u001b[0m__name__\u001b[0m\u001b[0;34m\u001b[0m\u001b[0;34m\u001b[0m\u001b[0m\n\u001b[1;32m    270\u001b[0m         \u001b[0mvisitor\u001b[0m \u001b[0;34m=\u001b[0m \u001b[0mgetattr\u001b[0m\u001b[0;34m(\u001b[0m\u001b[0mself\u001b[0m\u001b[0;34m,\u001b[0m \u001b[0mmethod\u001b[0m\u001b[0;34m,\u001b[0m \u001b[0mself\u001b[0m\u001b[0;34m.\u001b[0m\u001b[0mgeneric_visit\u001b[0m\u001b[0;34m)\u001b[0m\u001b[0;34m\u001b[0m\u001b[0;34m\u001b[0m\u001b[0m\n\u001b[0;32m--> 271\u001b[0;31m         \u001b[0;32mreturn\u001b[0m \u001b[0mvisitor\u001b[0m\u001b[0;34m(\u001b[0m\u001b[0mnode\u001b[0m\u001b[0;34m)\u001b[0m\u001b[0;34m\u001b[0m\u001b[0;34m\u001b[0m\u001b[0m\n\u001b[0m\u001b[1;32m    272\u001b[0m \u001b[0;34m\u001b[0m\u001b[0m\n\u001b[1;32m    273\u001b[0m     \u001b[0;32mdef\u001b[0m \u001b[0mgeneric_visit\u001b[0m\u001b[0;34m(\u001b[0m\u001b[0mself\u001b[0m\u001b[0;34m,\u001b[0m \u001b[0mnode\u001b[0m\u001b[0;34m)\u001b[0m\u001b[0;34m:\u001b[0m\u001b[0;34m\u001b[0m\u001b[0;34m\u001b[0m\u001b[0m\n",
            "\u001b[0;32m/usr/local/lib/python3.7/dist-packages/tensorflow/python/autograph/pyct/static_analysis/activity.py\u001b[0m in \u001b[0;36mvisit_With\u001b[0;34m(self, node)\u001b[0m\n\u001b[1;32m    649\u001b[0m   \u001b[0;32mdef\u001b[0m \u001b[0mvisit_With\u001b[0m\u001b[0;34m(\u001b[0m\u001b[0mself\u001b[0m\u001b[0;34m,\u001b[0m \u001b[0mnode\u001b[0m\u001b[0;34m)\u001b[0m\u001b[0;34m:\u001b[0m\u001b[0;34m\u001b[0m\u001b[0;34m\u001b[0m\u001b[0m\n\u001b[1;32m    650\u001b[0m     \u001b[0mself\u001b[0m\u001b[0;34m.\u001b[0m\u001b[0m_enter_scope\u001b[0m\u001b[0;34m(\u001b[0m\u001b[0;32mFalse\u001b[0m\u001b[0;34m)\u001b[0m\u001b[0;34m\u001b[0m\u001b[0;34m\u001b[0m\u001b[0m\n\u001b[0;32m--> 651\u001b[0;31m     \u001b[0mnode\u001b[0m \u001b[0;34m=\u001b[0m \u001b[0mself\u001b[0m\u001b[0;34m.\u001b[0m\u001b[0mgeneric_visit\u001b[0m\u001b[0;34m(\u001b[0m\u001b[0mnode\u001b[0m\u001b[0;34m)\u001b[0m\u001b[0;34m\u001b[0m\u001b[0;34m\u001b[0m\u001b[0m\n\u001b[0m\u001b[1;32m    652\u001b[0m     \u001b[0mself\u001b[0m\u001b[0;34m.\u001b[0m\u001b[0m_exit_and_record_scope\u001b[0m\u001b[0;34m(\u001b[0m\u001b[0mnode\u001b[0m\u001b[0;34m,\u001b[0m \u001b[0mNodeAnno\u001b[0m\u001b[0;34m.\u001b[0m\u001b[0mBODY_SCOPE\u001b[0m\u001b[0;34m)\u001b[0m\u001b[0;34m\u001b[0m\u001b[0;34m\u001b[0m\u001b[0m\n\u001b[1;32m    653\u001b[0m     \u001b[0;32mreturn\u001b[0m \u001b[0mnode\u001b[0m\u001b[0;34m\u001b[0m\u001b[0;34m\u001b[0m\u001b[0m\n",
            "\u001b[0;32m/usr/lib/python3.7/ast.py\u001b[0m in \u001b[0;36mgeneric_visit\u001b[0;34m(self, node)\u001b[0m\n\u001b[1;32m    324\u001b[0m                 \u001b[0;32mfor\u001b[0m \u001b[0mvalue\u001b[0m \u001b[0;32min\u001b[0m \u001b[0mold_value\u001b[0m\u001b[0;34m:\u001b[0m\u001b[0;34m\u001b[0m\u001b[0;34m\u001b[0m\u001b[0m\n\u001b[1;32m    325\u001b[0m                     \u001b[0;32mif\u001b[0m \u001b[0misinstance\u001b[0m\u001b[0;34m(\u001b[0m\u001b[0mvalue\u001b[0m\u001b[0;34m,\u001b[0m \u001b[0mAST\u001b[0m\u001b[0;34m)\u001b[0m\u001b[0;34m:\u001b[0m\u001b[0;34m\u001b[0m\u001b[0;34m\u001b[0m\u001b[0m\n\u001b[0;32m--> 326\u001b[0;31m                         \u001b[0mvalue\u001b[0m \u001b[0;34m=\u001b[0m \u001b[0mself\u001b[0m\u001b[0;34m.\u001b[0m\u001b[0mvisit\u001b[0m\u001b[0;34m(\u001b[0m\u001b[0mvalue\u001b[0m\u001b[0;34m)\u001b[0m\u001b[0;34m\u001b[0m\u001b[0;34m\u001b[0m\u001b[0m\n\u001b[0m\u001b[1;32m    327\u001b[0m                         \u001b[0;32mif\u001b[0m \u001b[0mvalue\u001b[0m \u001b[0;32mis\u001b[0m \u001b[0;32mNone\u001b[0m\u001b[0;34m:\u001b[0m\u001b[0;34m\u001b[0m\u001b[0;34m\u001b[0m\u001b[0m\n\u001b[1;32m    328\u001b[0m                             \u001b[0;32mcontinue\u001b[0m\u001b[0;34m\u001b[0m\u001b[0;34m\u001b[0m\u001b[0m\n",
            "\u001b[0;32m/usr/local/lib/python3.7/dist-packages/tensorflow/python/autograph/pyct/transformer.py\u001b[0m in \u001b[0;36mvisit\u001b[0;34m(self, node)\u001b[0m\n\u001b[1;32m    443\u001b[0m         \u001b[0mentry_expr_value\u001b[0m \u001b[0;34m=\u001b[0m \u001b[0mnode\u001b[0m\u001b[0;34m.\u001b[0m\u001b[0mvalue\u001b[0m\u001b[0;34m\u001b[0m\u001b[0;34m\u001b[0m\u001b[0m\n\u001b[1;32m    444\u001b[0m \u001b[0;34m\u001b[0m\u001b[0m\n\u001b[0;32m--> 445\u001b[0;31m       \u001b[0mresult\u001b[0m \u001b[0;34m=\u001b[0m \u001b[0msuper\u001b[0m\u001b[0;34m(\u001b[0m\u001b[0mBase\u001b[0m\u001b[0;34m,\u001b[0m \u001b[0mself\u001b[0m\u001b[0;34m)\u001b[0m\u001b[0;34m.\u001b[0m\u001b[0mvisit\u001b[0m\u001b[0;34m(\u001b[0m\u001b[0mnode\u001b[0m\u001b[0;34m)\u001b[0m\u001b[0;34m\u001b[0m\u001b[0;34m\u001b[0m\u001b[0m\n\u001b[0m\u001b[1;32m    446\u001b[0m \u001b[0;34m\u001b[0m\u001b[0m\n\u001b[1;32m    447\u001b[0m       \u001b[0;31m# Adjust for consistency: replacing the value of an Expr with\u001b[0m\u001b[0;34m\u001b[0m\u001b[0;34m\u001b[0m\u001b[0;34m\u001b[0m\u001b[0m\n",
            "\u001b[0;32m/usr/lib/python3.7/ast.py\u001b[0m in \u001b[0;36mvisit\u001b[0;34m(self, node)\u001b[0m\n\u001b[1;32m    269\u001b[0m         \u001b[0mmethod\u001b[0m \u001b[0;34m=\u001b[0m \u001b[0;34m'visit_'\u001b[0m \u001b[0;34m+\u001b[0m \u001b[0mnode\u001b[0m\u001b[0;34m.\u001b[0m\u001b[0m__class__\u001b[0m\u001b[0;34m.\u001b[0m\u001b[0m__name__\u001b[0m\u001b[0;34m\u001b[0m\u001b[0;34m\u001b[0m\u001b[0m\n\u001b[1;32m    270\u001b[0m         \u001b[0mvisitor\u001b[0m \u001b[0;34m=\u001b[0m \u001b[0mgetattr\u001b[0m\u001b[0;34m(\u001b[0m\u001b[0mself\u001b[0m\u001b[0;34m,\u001b[0m \u001b[0mmethod\u001b[0m\u001b[0;34m,\u001b[0m \u001b[0mself\u001b[0m\u001b[0;34m.\u001b[0m\u001b[0mgeneric_visit\u001b[0m\u001b[0;34m)\u001b[0m\u001b[0;34m\u001b[0m\u001b[0;34m\u001b[0m\u001b[0m\n\u001b[0;32m--> 271\u001b[0;31m         \u001b[0;32mreturn\u001b[0m \u001b[0mvisitor\u001b[0m\u001b[0;34m(\u001b[0m\u001b[0mnode\u001b[0m\u001b[0;34m)\u001b[0m\u001b[0;34m\u001b[0m\u001b[0;34m\u001b[0m\u001b[0m\n\u001b[0m\u001b[1;32m    272\u001b[0m \u001b[0;34m\u001b[0m\u001b[0m\n\u001b[1;32m    273\u001b[0m     \u001b[0;32mdef\u001b[0m \u001b[0mgeneric_visit\u001b[0m\u001b[0;34m(\u001b[0m\u001b[0mself\u001b[0m\u001b[0;34m,\u001b[0m \u001b[0mnode\u001b[0m\u001b[0;34m)\u001b[0m\u001b[0;34m:\u001b[0m\u001b[0;34m\u001b[0m\u001b[0;34m\u001b[0m\u001b[0m\n",
            "\u001b[0;32m/usr/local/lib/python3.7/dist-packages/tensorflow/python/autograph/pyct/static_analysis/activity.py\u001b[0m in \u001b[0;36mvisit_For\u001b[0;34m(self, node)\u001b[0m\n\u001b[1;32m    674\u001b[0m \u001b[0;34m\u001b[0m\u001b[0m\n\u001b[1;32m    675\u001b[0m     \u001b[0mself\u001b[0m\u001b[0;34m.\u001b[0m\u001b[0m_enter_scope\u001b[0m\u001b[0;34m(\u001b[0m\u001b[0;32mFalse\u001b[0m\u001b[0;34m)\u001b[0m\u001b[0;34m\u001b[0m\u001b[0;34m\u001b[0m\u001b[0m\n\u001b[0;32m--> 676\u001b[0;31m     \u001b[0mself\u001b[0m\u001b[0;34m.\u001b[0m\u001b[0mvisit\u001b[0m\u001b[0;34m(\u001b[0m\u001b[0mnode\u001b[0m\u001b[0;34m.\u001b[0m\u001b[0mtarget\u001b[0m\u001b[0;34m)\u001b[0m\u001b[0;34m\u001b[0m\u001b[0;34m\u001b[0m\u001b[0m\n\u001b[0m\u001b[1;32m    677\u001b[0m     \u001b[0;32mif\u001b[0m \u001b[0manno\u001b[0m\u001b[0;34m.\u001b[0m\u001b[0mhasanno\u001b[0m\u001b[0;34m(\u001b[0m\u001b[0mnode\u001b[0m\u001b[0;34m,\u001b[0m \u001b[0manno\u001b[0m\u001b[0;34m.\u001b[0m\u001b[0mBasic\u001b[0m\u001b[0;34m.\u001b[0m\u001b[0mEXTRA_LOOP_TEST\u001b[0m\u001b[0;34m)\u001b[0m\u001b[0;34m:\u001b[0m\u001b[0;34m\u001b[0m\u001b[0;34m\u001b[0m\u001b[0m\n\u001b[1;32m    678\u001b[0m       \u001b[0mself\u001b[0m\u001b[0;34m.\u001b[0m\u001b[0m_process_statement\u001b[0m\u001b[0;34m(\u001b[0m\u001b[0manno\u001b[0m\u001b[0;34m.\u001b[0m\u001b[0mgetanno\u001b[0m\u001b[0;34m(\u001b[0m\u001b[0mnode\u001b[0m\u001b[0;34m,\u001b[0m \u001b[0manno\u001b[0m\u001b[0;34m.\u001b[0m\u001b[0mBasic\u001b[0m\u001b[0;34m.\u001b[0m\u001b[0mEXTRA_LOOP_TEST\u001b[0m\u001b[0;34m)\u001b[0m\u001b[0;34m)\u001b[0m\u001b[0;34m\u001b[0m\u001b[0;34m\u001b[0m\u001b[0m\n",
            "\u001b[0;32m/usr/local/lib/python3.7/dist-packages/tensorflow/python/autograph/pyct/transformer.py\u001b[0m in \u001b[0;36mvisit\u001b[0;34m(self, node)\u001b[0m\n\u001b[1;32m    443\u001b[0m         \u001b[0mentry_expr_value\u001b[0m \u001b[0;34m=\u001b[0m \u001b[0mnode\u001b[0m\u001b[0;34m.\u001b[0m\u001b[0mvalue\u001b[0m\u001b[0;34m\u001b[0m\u001b[0;34m\u001b[0m\u001b[0m\n\u001b[1;32m    444\u001b[0m \u001b[0;34m\u001b[0m\u001b[0m\n\u001b[0;32m--> 445\u001b[0;31m       \u001b[0mresult\u001b[0m \u001b[0;34m=\u001b[0m \u001b[0msuper\u001b[0m\u001b[0;34m(\u001b[0m\u001b[0mBase\u001b[0m\u001b[0;34m,\u001b[0m \u001b[0mself\u001b[0m\u001b[0;34m)\u001b[0m\u001b[0;34m.\u001b[0m\u001b[0mvisit\u001b[0m\u001b[0;34m(\u001b[0m\u001b[0mnode\u001b[0m\u001b[0;34m)\u001b[0m\u001b[0;34m\u001b[0m\u001b[0;34m\u001b[0m\u001b[0m\n\u001b[0m\u001b[1;32m    446\u001b[0m \u001b[0;34m\u001b[0m\u001b[0m\n\u001b[1;32m    447\u001b[0m       \u001b[0;31m# Adjust for consistency: replacing the value of an Expr with\u001b[0m\u001b[0;34m\u001b[0m\u001b[0;34m\u001b[0m\u001b[0;34m\u001b[0m\u001b[0m\n",
            "\u001b[0;32m/usr/lib/python3.7/ast.py\u001b[0m in \u001b[0;36mvisit\u001b[0;34m(self, node)\u001b[0m\n\u001b[1;32m    269\u001b[0m         \u001b[0mmethod\u001b[0m \u001b[0;34m=\u001b[0m \u001b[0;34m'visit_'\u001b[0m \u001b[0;34m+\u001b[0m \u001b[0mnode\u001b[0m\u001b[0;34m.\u001b[0m\u001b[0m__class__\u001b[0m\u001b[0;34m.\u001b[0m\u001b[0m__name__\u001b[0m\u001b[0;34m\u001b[0m\u001b[0;34m\u001b[0m\u001b[0m\n\u001b[1;32m    270\u001b[0m         \u001b[0mvisitor\u001b[0m \u001b[0;34m=\u001b[0m \u001b[0mgetattr\u001b[0m\u001b[0;34m(\u001b[0m\u001b[0mself\u001b[0m\u001b[0;34m,\u001b[0m \u001b[0mmethod\u001b[0m\u001b[0;34m,\u001b[0m \u001b[0mself\u001b[0m\u001b[0;34m.\u001b[0m\u001b[0mgeneric_visit\u001b[0m\u001b[0;34m)\u001b[0m\u001b[0;34m\u001b[0m\u001b[0;34m\u001b[0m\u001b[0m\n\u001b[0;32m--> 271\u001b[0;31m         \u001b[0;32mreturn\u001b[0m \u001b[0mvisitor\u001b[0m\u001b[0;34m(\u001b[0m\u001b[0mnode\u001b[0m\u001b[0;34m)\u001b[0m\u001b[0;34m\u001b[0m\u001b[0;34m\u001b[0m\u001b[0m\n\u001b[0m\u001b[1;32m    272\u001b[0m \u001b[0;34m\u001b[0m\u001b[0m\n\u001b[1;32m    273\u001b[0m     \u001b[0;32mdef\u001b[0m \u001b[0mgeneric_visit\u001b[0m\u001b[0;34m(\u001b[0m\u001b[0mself\u001b[0m\u001b[0;34m,\u001b[0m \u001b[0mnode\u001b[0m\u001b[0;34m)\u001b[0m\u001b[0;34m:\u001b[0m\u001b[0;34m\u001b[0m\u001b[0;34m\u001b[0m\u001b[0m\n",
            "\u001b[0;32m/usr/lib/python3.7/ast.py\u001b[0m in \u001b[0;36mgeneric_visit\u001b[0;34m(self, node)\u001b[0m\n\u001b[1;32m    324\u001b[0m                 \u001b[0;32mfor\u001b[0m \u001b[0mvalue\u001b[0m \u001b[0;32min\u001b[0m \u001b[0mold_value\u001b[0m\u001b[0;34m:\u001b[0m\u001b[0;34m\u001b[0m\u001b[0;34m\u001b[0m\u001b[0m\n\u001b[1;32m    325\u001b[0m                     \u001b[0;32mif\u001b[0m \u001b[0misinstance\u001b[0m\u001b[0;34m(\u001b[0m\u001b[0mvalue\u001b[0m\u001b[0;34m,\u001b[0m \u001b[0mAST\u001b[0m\u001b[0;34m)\u001b[0m\u001b[0;34m:\u001b[0m\u001b[0;34m\u001b[0m\u001b[0;34m\u001b[0m\u001b[0m\n\u001b[0;32m--> 326\u001b[0;31m                         \u001b[0mvalue\u001b[0m \u001b[0;34m=\u001b[0m \u001b[0mself\u001b[0m\u001b[0;34m.\u001b[0m\u001b[0mvisit\u001b[0m\u001b[0;34m(\u001b[0m\u001b[0mvalue\u001b[0m\u001b[0;34m)\u001b[0m\u001b[0;34m\u001b[0m\u001b[0;34m\u001b[0m\u001b[0m\n\u001b[0m\u001b[1;32m    327\u001b[0m                         \u001b[0;32mif\u001b[0m \u001b[0mvalue\u001b[0m \u001b[0;32mis\u001b[0m \u001b[0;32mNone\u001b[0m\u001b[0;34m:\u001b[0m\u001b[0;34m\u001b[0m\u001b[0;34m\u001b[0m\u001b[0m\n\u001b[1;32m    328\u001b[0m                             \u001b[0;32mcontinue\u001b[0m\u001b[0;34m\u001b[0m\u001b[0;34m\u001b[0m\u001b[0m\n",
            "\u001b[0;32m/usr/local/lib/python3.7/dist-packages/tensorflow/python/autograph/pyct/transformer.py\u001b[0m in \u001b[0;36mvisit\u001b[0;34m(self, node)\u001b[0m\n\u001b[1;32m    434\u001b[0m       \u001b[0;32mreturn\u001b[0m \u001b[0mnode\u001b[0m\u001b[0;34m\u001b[0m\u001b[0;34m\u001b[0m\u001b[0m\n\u001b[1;32m    435\u001b[0m \u001b[0;34m\u001b[0m\u001b[0m\n\u001b[0;32m--> 436\u001b[0;31m     \u001b[0mparent_origin\u001b[0m \u001b[0;34m=\u001b[0m \u001b[0mself\u001b[0m\u001b[0;34m.\u001b[0m\u001b[0mctx\u001b[0m\u001b[0;34m.\u001b[0m\u001b[0mcurrent_origin\u001b[0m\u001b[0;34m\u001b[0m\u001b[0;34m\u001b[0m\u001b[0m\n\u001b[0m\u001b[1;32m    437\u001b[0m     \u001b[0;32mif\u001b[0m \u001b[0manno\u001b[0m\u001b[0;34m.\u001b[0m\u001b[0mhasanno\u001b[0m\u001b[0;34m(\u001b[0m\u001b[0mnode\u001b[0m\u001b[0;34m,\u001b[0m \u001b[0manno\u001b[0m\u001b[0;34m.\u001b[0m\u001b[0mBasic\u001b[0m\u001b[0;34m.\u001b[0m\u001b[0mORIGIN\u001b[0m\u001b[0;34m)\u001b[0m\u001b[0;34m:\u001b[0m\u001b[0;34m\u001b[0m\u001b[0;34m\u001b[0m\u001b[0m\n\u001b[1;32m    438\u001b[0m       \u001b[0mself\u001b[0m\u001b[0;34m.\u001b[0m\u001b[0mctx\u001b[0m\u001b[0;34m.\u001b[0m\u001b[0mcurrent_origin\u001b[0m \u001b[0;34m=\u001b[0m \u001b[0manno\u001b[0m\u001b[0;34m.\u001b[0m\u001b[0mgetanno\u001b[0m\u001b[0;34m(\u001b[0m\u001b[0mnode\u001b[0m\u001b[0;34m,\u001b[0m \u001b[0manno\u001b[0m\u001b[0;34m.\u001b[0m\u001b[0mBasic\u001b[0m\u001b[0;34m.\u001b[0m\u001b[0mORIGIN\u001b[0m\u001b[0;34m)\u001b[0m\u001b[0;34m\u001b[0m\u001b[0;34m\u001b[0m\u001b[0m\n",
            "\u001b[0;31mKeyboardInterrupt\u001b[0m: "
          ]
        }
      ]
    },
    {
      "cell_type": "markdown",
      "metadata": {
        "id": "A8gcjk1FDmkl"
      },
      "source": [
        "### Model Visualization"
      ]
    },
    {
      "cell_type": "code",
      "metadata": {
        "colab": {
          "base_uri": "https://localhost:8080/",
          "height": 312
        },
        "id": "vmFXovdU6MmB",
        "outputId": "c30c572b-a911-4009-ac03-02fcd6b2a479"
      },
      "source": [
        "# list all data in history\n",
        "epochList = list(range(0,31))\n",
        "#print(epochList)\n",
        "print(history.history.keys())\n",
        "# summarize history for loss\n",
        "plt.plot(history.history['loss'])\n",
        "plt.plot(history.history['val_loss'])\n",
        "plt.title('model loss')\n",
        "plt.ylabel('loss')\n",
        "plt.xlabel('epoch')\n",
        "plt.legend(['Training Loss', 'Validation Loss'], loc='upper left')\n",
        "plt.show()"
      ],
      "execution_count": null,
      "outputs": [
        {
          "output_type": "stream",
          "text": [
            "dict_keys(['loss', 'val_loss'])\n"
          ],
          "name": "stdout"
        },
        {
          "output_type": "display_data",
          "data": {
            "image/png": "[encoded data removed]",
            "text/plain": [
              "<Figure size 432x288 with 1 Axes>"
            ]
          },
          "metadata": {
            "tags": [],
            "needs_background": "light"
          }
        }
      ]
    },
    {
      "cell_type": "markdown",
      "metadata": {
        "id": "5c03eDfKDmkl"
      },
      "source": [
        "### Model Evaluation"
      ]
    },
    {
      "cell_type": "code",
      "metadata": {
        "id": "fHtyDphzDqrD",
        "scrolled": true
      },
      "source": [
        "from pickle import load\n",
        "from numpy import array\n",
        "from numpy import argmax\n",
        "from keras.preprocessing.text import Tokenizer\n",
        "from keras.preprocessing.sequence import pad_sequences\n",
        "from keras.models import load_model\n",
        "from nltk.translate.bleu_score import corpus_bleu\n",
        " \n",
        "# load a clean dataset\n",
        "def load_clean_sentences(filename):\n",
        "    return load(open(filename, 'rb'))\n",
        " \n",
        "# fit a tokenizer\n",
        "def create_tokenizer(lines):\n",
        "    tokenizer = Tokenizer()\n",
        "    tokenizer.fit_on_texts(lines)\n",
        "    return tokenizer\n",
        " \n",
        "# max sentence length\n",
        "def max_length(lines):\n",
        "    return max(len(line.split()) for line in lines)\n",
        " \n",
        "# encode and pad sequences\n",
        "def encode_sequences(tokenizer, length, lines):\n",
        "    # integer encode sequences\n",
        "    X = tokenizer.texts_to_sequences(lines)\n",
        "    # pad sequences with 0 values\n",
        "    X = pad_sequences(X, maxlen=length, padding='post')\n",
        "    return X\n",
        " \n",
        "# map an integer to a word\n",
        "def word_for_id(integer, tokenizer):\n",
        "    for word, index in tokenizer.word_index.items():\n",
        "        if index == integer:\n",
        "            return word\n",
        "    return None\n",
        " \n",
        "# generate target given source sequence\n",
        "def predict_sequence(model, tokenizer, source):\n",
        "    prediction = model.predict(source, verbose=0)[0]\n",
        "    integers = [argmax(vector) for vector in prediction]\n",
        "    target = list()\n",
        "    for i in integers:\n",
        "        word = word_for_id(i, tokenizer)\n",
        "        if word is None:\n",
        "            break\n",
        "        target.append(word)\n",
        "    return ' '.join(target)\n",
        " \n",
        "# evaluate the skill of the model\n",
        "def evaluate_model(model, tokenizer, sources, raw_dataset):\n",
        "    actual, predicted = list(), list()\n",
        "    for i, source in enumerate(sources):\n",
        "        # translate encoded source text\n",
        "        source = source.reshape((1, source.shape[0]))\n",
        "        translation = predict_sequence(model, word_tokenizer, source)\n",
        "        raw_target, raw_src = raw_dataset[i]\n",
        "        if i < 10:\n",
        "            print('src=[%s], target=[%s], predicted=[%s]' % (raw_src, raw_target, translation))\n",
        "        actual.append([raw_target.split()])\n",
        "        predicted.append(translation.split())\n",
        "    # calculate BLEU score\n",
        "    print('BLEU-1: %f' % corpus_bleu(actual, predicted, weights=(1.0, 0, 0, 0)))\n",
        "    print('BLEU-2: %f' % corpus_bleu(actual, predicted, weights=(0.5, 0.5, 0, 0)))\n",
        "    print('BLEU-3: %f' % corpus_bleu(actual, predicted, weights=(0.3, 0.3, 0.3, 0)))\n",
        "    print('BLEU-4: %f' % corpus_bleu(actual, predicted, weights=(0.25, 0.25, 0.25, 0.25)))\n",
        " \n"
      ],
      "execution_count": null,
      "outputs": []
    },
    {
      "cell_type": "code",
      "metadata": {
        "id": "d6q-DKncpHpS"
      },
      "source": [
        "def evaluate_modelCNN(model, tokenizer, sources, raw_dataset):\n",
        "    actual, predicted = list(), list()\n",
        "    for i, source in enumerate(sources):\n",
        "        # translate encoded source text\n",
        "        source = source.reshape((1, source.shape[0]))\n",
        "        translation = predict_sequence(model, word_tokenizer, source)\n",
        "        raw_target, raw_src = raw_dataset[i]\n",
        "        if i < 10:\n",
        "            print('src=[%s], predicted=[%s]' % (raw_src, translation))\n",
        "        actual.append([raw_target.split()])\n",
        "        predicted.append(translation.split())\n",
        "\n",
        "def evalCNN(filename):\n",
        "  dataset = load_clean_sentences('words-sents-both.pkl')\n",
        "  # prepare word tokenizer\n",
        "  word_tokenizer = create_tokenizer(dataset[:, 0])\n",
        "  word_vocab_size = len(word_tokenizer.word_index) + 1\n",
        "  word_length = max_length(dataset[:, 0])\n",
        "  # prepare sentences tokenizer\n",
        "  sent_tokenizer = create_tokenizer(dataset[:, 1])\n",
        "  sent_vocab_size = len(sent_tokenizer.word_index) + 1\n",
        "  sent_length = max_length(dataset[:, 1])\n",
        "  # prepare data\n",
        "  testX = encode_sequences(sent_tokenizer, sent_length, filename[:, 1])\n",
        "  \n",
        "  # load model\n",
        "  print(os.getcwd)\n",
        "  #model = load_model('model.h5')\n",
        "  # test on some testCNN sequences\n",
        "  print('Custom/CNN Prediction:\\n')\n",
        "  evaluate_modelCNN(model, word_tokenizer, testX, filename)"
      ],
      "execution_count": null,
      "outputs": []
    },
    {
      "cell_type": "code",
      "metadata": {
        "colab": {
          "base_uri": "https://localhost:8080/"
        },
        "id": "B9bGGM2bVmI3",
        "outputId": "0187d55f-baf7-4f1b-86cc-4c982f73cc0d"
      },
      "source": [
        "# load datasets\n",
        "dataset = load_clean_sentences('words-sents-both.pkl')\n",
        "train = load_clean_sentences('words-sents-train.pkl')\n",
        "test = load_clean_sentences('words-sents-test.pkl')\n",
        "# prepare word tokenizer\n",
        "word_tokenizer = create_tokenizer(dataset[:, 0])\n",
        "word_vocab_size = len(word_tokenizer.word_index) + 1\n",
        "word_length = max_length(dataset[:, 0])\n",
        "# prepare sentences tokenizer\n",
        "sent_tokenizer = create_tokenizer(dataset[:, 1])\n",
        "sent_vocab_size = len(sent_tokenizer.word_index) + 1\n",
        "sent_length = max_length(dataset[:, 1])\n",
        "# prepare data\n",
        "trainX = encode_sequences(sent_tokenizer, sent_length, train[:, 1])\n",
        "testX = encode_sequences(sent_tokenizer, sent_length, test[:, 1])\n",
        " \n",
        "# load model\n",
        "#model = load_model('model.h5')\n",
        "# test on some training sequences\n",
        "print('Train Set Results')\n",
        "evaluate_model(model, word_tokenizer, trainX, train)\n",
        "# test on some test sequences\n",
        "print('\\n')\n",
        "print('Test Set Results')\n",
        "evaluate_modelCNN(model, word_tokenizer, testX, test)"
      ],
      "execution_count": null,
      "outputs": [
        {
          "output_type": "stream",
          "text": [
            "Train Set Results\n",
            "\n",
            "\n",
            "Test Set Results\n"
          ],
          "name": "stdout"
        }
      ]
    },
    {
      "cell_type": "markdown",
      "metadata": {
        "id": "o5-F6rGJPqKr"
      },
      "source": [
        "**Custom CNN Predictions**\n"
      ]
    },
    {
      "cell_type": "code",
      "metadata": {
        "id": "MLfcJKTh13Gq"
      },
      "source": [
        "def customInput(custIn):\n",
        "  clean_pairsCNN = clean_pairs(custIn)\n",
        "  save_clean_data(clean_pairsCNN, 'customInput.pkl')\n",
        "  testCNN = load_clean_sentences('customInput.pkl')\n",
        "  evalCNN(testCNN)"
      ],
      "execution_count": null,
      "outputs": []
    },
    {
      "cell_type": "code",
      "metadata": {
        "colab": {
          "base_uri": "https://localhost:8080/"
        },
        "id": "o_kSsBQIMke_",
        "outputId": "df7a31ac-d7c9-41e2-9e9e-6a0c6889a9a9"
      },
      "source": [
        "customInput([['h', 'cat color black']])"
      ],
      "execution_count": null,
      "outputs": [
        {
          "output_type": "stream",
          "text": [
            "Saved: customInput.pkl\n",
            "<built-in function getcwd>\n",
            "Custom/CNN Prediction:\n",
            "\n",
            "src=[cat color black], predicted=[well prepared used]\n"
          ],
          "name": "stdout"
        }
      ]
    },
    {
      "cell_type": "code",
      "metadata": {
        "colab": {
          "base_uri": "https://localhost:8080/"
        },
        "id": "mUCEzPDQMif5",
        "outputId": "afce38ac-b0ce-46d2-a6e9-22257884b67a"
      },
      "source": [
        "customInput([['h', 'cousin hair color black']])"
      ],
      "execution_count": null,
      "outputs": [
        {
          "output_type": "stream",
          "text": [
            "Saved: customInput.pkl\n",
            "<built-in function getcwd>\n",
            "Custom/CNN Prediction:\n",
            "\n",
            "src=[cousin hair color black], predicted=[hammer told still tight]\n"
          ],
          "name": "stdout"
        }
      ]
    },
    {
      "cell_type": "code",
      "metadata": {
        "colab": {
          "base_uri": "https://localhost:8080/"
        },
        "id": "EzjRz-v2m-Gr",
        "outputId": "5bfae59d-0702-49c4-ddaa-4d94612aa59e"
      },
      "source": [
        "customInput([['h', cnn_results]])"
      ],
      "execution_count": null,
      "outputs": [
        {
          "output_type": "stream",
          "text": [
            "Saved: customInput.pkl\n",
            "<built-in function getcwd>\n",
            "Custom/CNN Prediction:\n",
            "\n",
            "src=[cousin hair color black], predicted=[hammer told still tight]\n"
          ],
          "name": "stdout"
        }
      ]
    }
  ]
}