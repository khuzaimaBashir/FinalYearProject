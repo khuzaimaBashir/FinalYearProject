{
  "nbformat": 4,
  "nbformat_minor": 0,
  "metadata": {
    "colab": {
      "name": "tflowSeq2SeqFinalColab.ipynb",
      "provenance": [],
      "collapsed_sections": []
    },
    "kernelspec": {
      "display_name": "Python 3",
      "language": "python",
      "name": "python3"
    },
    "language_info": {
      "codemirror_mode": {
        "name": "ipython",
        "version": 3
      },
      "file_extension": ".py",
      "mimetype": "text/x-python",
      "name": "python",
      "nbconvert_exporter": "python",
      "pygments_lexer": "ipython3",
      "version": "3.9.4"
    }
  },
  "cells": [
    {
      "cell_type": "markdown",
      "metadata": {
        "id": "74c35FjDDmke"
      },
      "source": [
        "## Module 2 of \"Sign Language With Deep Learning\"\n",
        "## Seq2Seq Nueral Network\n",
        "#### This module will convert the CNN output of English Keywords from Module 1 into English Language Sentences with proper use of grammar."
      ]
    },
    {
      "cell_type": "markdown",
      "metadata": {
        "id": "eJPsqkeYDmkf"
      },
      "source": [
        "## Libraries & Dependencies"
      ]
    },
    {
      "cell_type": "code",
      "metadata": {
        "id": "U2NKRNPiy8yG"
      },
      "source": [
        "import string\n",
        "import re\n",
        "from pickle import dump\n",
        "from unicodedata import normalize\n",
        "from numpy import array\n",
        "from google.colab import drive\n",
        "import os\n",
        "import matplotlib.pyplot as plt\n",
        "from keras.models import load_model"
      ],
      "execution_count": 6,
      "outputs": []
    },
    {
      "cell_type": "markdown",
      "metadata": {
        "id": "Xqg_5i3yDmkg"
      },
      "source": [
        "#### Google Drive Mount"
      ]
    },
    {
      "cell_type": "code",
      "metadata": {
        "colab": {
          "base_uri": "https://localhost:8080/"
        },
        "id": "SWzVP35VzLoM",
        "outputId": "4421b431-7fb1-45b0-bda4-3c5914a0ddff"
      },
      "source": [
        "drive.mount(\"/content/gdrive\", force_remount=True)\n",
        "os.chdir(\"/content/gdrive/MyDrive/FYP\")"
      ],
      "execution_count": 7,
      "outputs": [
        {
          "output_type": "stream",
          "text": [
            "Mounted at /content/gdrive\n"
          ],
          "name": "stdout"
        }
      ]
    },
    {
      "cell_type": "markdown",
      "metadata": {
        "id": "eHgmUNX_Dmkh"
      },
      "source": [
        "### Data Cleaning & Preprocessing"
      ]
    },
    {
      "cell_type": "code",
      "metadata": {
        "colab": {
          "base_uri": "https://localhost:8080/"
        },
        "id": "N_KSB5qwy-sm",
        "outputId": "6d624599-39e6-47ce-d7fb-e4ec6ba37314"
      },
      "source": [
        "# load doc into memory\n",
        "def load_doc(filename):\n",
        "    # open the file as read only\n",
        "    file = open(filename, mode='rt', encoding='utf-8')\n",
        "    # read all text\n",
        "    text = file.read()\n",
        "    # close the file\n",
        "    file.close()\n",
        "    return text\n",
        "\n",
        "# split a loaded document into pairs\n",
        "def to_pairs(doc):\n",
        "    lines = doc.strip().split('\\n')\n",
        "    pairs = [line.split('\\t') for line in  lines]\n",
        "    return pairs\n",
        "\n",
        "# clean a list of lines\n",
        "def clean_pairs(lines):\n",
        "    lc = lines\n",
        "    #print(lc[:1],\" lc\")\n",
        "    cleaned = list()\n",
        "    # prepare regex for char filtering\n",
        "    re_print = re.compile('[^%s]' % re.escape(string.printable))\n",
        "    # prepare translation table for removing punctuation\n",
        "    table = str.maketrans('', '', string.punctuation)\n",
        "    for pair in lines:\n",
        "        #print(pair)\n",
        "        clean_pair = list()\n",
        "        for line in pair:\n",
        "            #print(line, \"oldline\")\n",
        "            # normalize unicode characters\n",
        "            line = normalize('NFD', line).encode('ascii', 'ignore')\n",
        "            line = line.decode('UTF-8')\n",
        "            # tokenize on white space\n",
        "            line = line.split()\n",
        "            # convert to lowercase\n",
        "            line = [word.lower() for word in line]\n",
        "            # remove punctuation from each token\n",
        "            line = [word.translate(table) for word in line]\n",
        "            # remove non-printable chars form each token\n",
        "            line = [re_print.sub('', w) for w in line]\n",
        "      \n",
        "      # remove tokens with numbers in them\n",
        "            line = [word for word in line if word.isalpha()]\n",
        "            #print(line,\" up line\")\n",
        "            # store as string\n",
        "            clean_pair.append(' '.join(line))\n",
        "        cleaned.append(clean_pair)\n",
        "    return array(cleaned)\n",
        "\n",
        "# save a list of clean sentences to file\n",
        "def save_clean_data(sentences, filename):\n",
        "    dump(sentences, open(filename, 'wb'))\n",
        "    print('Saved: %s' % filename)\n",
        "\n",
        "\n",
        "\n",
        "def load_dataset(filename, arrSize, newFileName):\n",
        "    # load dataset\n",
        "    #filename = 'Input-OutputFinal.txt'\n",
        "    doc = load_doc(filename)\n",
        "    # split into sentence-word pairs\n",
        "    pairs = to_pairs(doc)\n",
        "    #print(pairs)\n",
        "    # clean sentences\n",
        "    clean_pairsS = clean_pairs(pairs)\n",
        "    # save clean pairs to file\n",
        "    save_clean_data(clean_pairsS, newFileName)\n",
        "    # spot check\n",
        "    \n",
        "    if filename == \"Dataset/Input-OutputFinal.txt\":\n",
        "      for i in range(arrSize):\n",
        "              print('[%s] <= [%s]' % (clean_pairsS[i,0], clean_pairsS[i,1])) \n",
        "    else:\n",
        "      for i in range(arrSize):\n",
        "              print('[%s]' % (clean_pairsS[i,1]))\n",
        "    \n",
        "\n",
        "\n",
        "load_dataset(\"Dataset/Input-OutputFinal.txt\", 10, 'words-sents.pkl')"
      ],
      "execution_count": 200,
      "outputs": [
        {
          "output_type": "stream",
          "text": [
            "Saved: words-sents.pkl\n",
            "[go] <= [go]\n",
            "[go] <= [go]\n",
            "[go] <= [go]\n",
            "[go] <= [go]\n",
            "[hi] <= [hi]\n",
            "[run] <= [run]\n",
            "[run] <= [run]\n",
            "[who] <= [who]\n",
            "[fire] <= [fire]\n",
            "[fire] <= [fire]\n"
          ],
          "name": "stdout"
        }
      ]
    },
    {
      "cell_type": "code",
      "metadata": {
        "colab": {
          "base_uri": "https://localhost:8080/"
        },
        "id": "Dk_TK67HAu-o",
        "outputId": "8f363095-ac16-4702-a77a-369777e2329d"
      },
      "source": [
        ""
      ],
      "execution_count": 196,
      "outputs": [
        {
          "output_type": "stream",
          "text": [
            "[['cat color black', 'h h h']]  lc\n",
            "[['cat color black' 'h h h']]\n",
            "Saved: english-german.pkl\n",
            "[cat color black] <= [h h h]\n"
          ],
          "name": "stdout"
        }
      ]
    },
    {
      "cell_type": "markdown",
      "metadata": {
        "id": "ArelrUnADmki"
      },
      "source": [
        "### Preprocessed Data Loading"
      ]
    },
    {
      "cell_type": "code",
      "metadata": {
        "colab": {
          "base_uri": "https://localhost:8080/"
        },
        "id": "Vu8-94R6yxbP",
        "outputId": "5ee5a68b-024a-43c2-8b79-812793977f66"
      },
      "source": [
        "from pickle import dump\n",
        "from pickle import load\n",
        "from numpy.random import rand\n",
        "from numpy.random import shuffle\n",
        "#import load\n",
        " \n",
        "# load a clean dataset\n",
        "def load_clean_sentences(filename):\n",
        "    return load(open(filename, 'rb'))\n",
        " \n",
        "# save a list of clean sentences to file\n",
        "def save_clean_data(sentences, filename):\n",
        "    dump(sentences, open(filename, 'wb'))\n",
        "    print('Saved: %s' % filename)\n",
        " \n",
        "# load dataset\n",
        "raw_dataset = load_clean_sentences('words-sents.pkl')\n",
        " \n",
        "# reduce dataset size\n",
        "n_sentences = 25000\n",
        "dataset = raw_dataset[:n_sentences, :]\n",
        "# random shuffle\n",
        "shuffle(dataset)\n",
        "# split into train/test\n",
        "train, test = dataset[:23000], dataset[23000:]\n",
        "print(len(train))\n",
        "print(len(test))\n",
        "# save\n",
        "save_clean_data(dataset, 'words-sents-both.pkl')\n",
        "save_clean_data(train, 'words-sents-train.pkl')\n",
        "save_clean_data(test, 'words-sents-test.pkl')"
      ],
      "execution_count": 9,
      "outputs": [
        {
          "output_type": "stream",
          "text": [
            "23000\n",
            "2000\n",
            "Saved: words-sents-both.pkl\n",
            "Saved: words-sents-train.pkl\n",
            "Saved: words-sents-test.pkl\n"
          ],
          "name": "stdout"
        }
      ]
    },
    {
      "cell_type": "markdown",
      "metadata": {
        "id": "B9KlTvg-Dmkj"
      },
      "source": [
        "### Seq2Seq Model"
      ]
    },
    {
      "cell_type": "code",
      "metadata": {
        "colab": {
          "base_uri": "https://localhost:8080/"
        },
        "id": "FHpZ_UJD2i6o",
        "outputId": "586c70f7-d1b2-4d8f-a242-1a8b657cba06"
      },
      "source": [
        "from pickle import load\n",
        "from numpy import array\n",
        "from keras.preprocessing.text import Tokenizer\n",
        "from keras.preprocessing.sequence import pad_sequences\n",
        "from keras.utils.np_utils import to_categorical\n",
        "from keras.utils.vis_utils import plot_model\n",
        "from keras.models import Sequential\n",
        "from keras.layers import LSTM\n",
        "from keras.layers import Dense\n",
        "from keras.layers import Embedding\n",
        "from keras.layers import RepeatVector\n",
        "from keras.layers import TimeDistributed\n",
        "from keras.layers import Dropout\n",
        "from keras.callbacks import ModelCheckpoint\n",
        " \n",
        "# load a clean dataset\n",
        "def load_clean_sentences(filename):\n",
        "    return load(open(filename, 'rb'))\n",
        " \n",
        "# fit a tokenizer\n",
        "def create_tokenizer(lines):\n",
        "    tokenizer = Tokenizer()\n",
        "    tokenizer.fit_on_texts(lines)\n",
        "    return tokenizer\n",
        " \n",
        "# max sentence length\n",
        "def max_length(lines):\n",
        "    return max(len(line.split()) for line in lines)\n",
        " \n",
        "# encode and pad sequences\n",
        "def encode_sequences(tokenizer, length, lines):\n",
        "    # integer encode sequences\n",
        "    X = tokenizer.texts_to_sequences(lines)\n",
        "    # pad sequences with 0 values\n",
        "    X = pad_sequences(X, maxlen=length, padding='post')\n",
        "    return X\n",
        " \n",
        "# one hot encode target sequence\n",
        "def encode_output(sequences, vocab_size):\n",
        "    ylist = list()\n",
        "    for sequence in sequences:\n",
        "        encoded = to_categorical(sequence, num_classes=vocab_size)\n",
        "        ylist.append(encoded)\n",
        "    y = array(ylist)\n",
        "    y = y.reshape(sequences.shape[0], sequences.shape[1], vocab_size)\n",
        "    return y\n",
        " \n",
        "# define NMT model\n",
        "def define_model(src_vocab, tar_vocab, src_timesteps, tar_timesteps, n_units):\n",
        "  model = Sequential()\n",
        "  model.add(Embedding(src_vocab, n_units, input_length=src_timesteps, mask_zero=True))\n",
        "  model.add(LSTM(n_units))\n",
        "  #model.add(Dropout(0.5))\n",
        "  model.add(RepeatVector(tar_timesteps))\n",
        "  model.add(LSTM(n_units, return_sequences=True))\n",
        "  #model.add(Dropout(0.5))\n",
        "  model.add(TimeDistributed(Dense(tar_vocab, activation='softmax')))\n",
        "  return model\n",
        " \n",
        "# load datasets\n",
        "dataset = load_clean_sentences('words-sents-both.pkl')\n",
        "train = load_clean_sentences('words-sents-train.pkl')\n",
        "test = load_clean_sentences('words-sents-test.pkl')\n",
        " \n",
        "# prepare words tokenizer\n",
        "word_tokenizer = create_tokenizer(dataset[:, 0])\n",
        "word_vocab_size = len(word_tokenizer.word_index) + 1\n",
        "word_length = max_length(dataset[:, 0])\n",
        "print('Words Vocabulary Size: %d' % word_vocab_size)\n",
        "print('Words Max Length: %d' % (word_length))\n",
        "# prepare sentences tokenizer\n",
        "sent_tokenizer = create_tokenizer(dataset[:, 1])\n",
        "sent_vocab_size = len(sent_tokenizer.word_index) + 1\n",
        "sent_length = max_length(dataset[:, 1])\n",
        "print('Sentences Vocabulary Size: %d' % sent_vocab_size)\n",
        "print('Sentences Max Length: %d' % (sent_length))\n",
        " \n",
        "# prepare training data\n",
        "trainX = encode_sequences(sent_tokenizer, word_length, train[:, 1])\n",
        "trainY = encode_sequences(word_tokenizer, word_length, train[:, 0])\n",
        "trainY = encode_output(trainY, word_vocab_size)\n",
        "# prepare validation data\n",
        "testX = encode_sequences(sent_tokenizer, sent_length, test[:, 1])\n",
        "testY = encode_sequences(word_tokenizer, word_length, test[:, 0])\n",
        "testY = encode_output(testY, word_vocab_size)"
      ],
      "execution_count": 10,
      "outputs": [
        {
          "output_type": "stream",
          "text": [
            "Words Vocabulary Size: 4403\n",
            "Words Max Length: 7\n",
            "Sentences Vocabulary Size: 4382\n",
            "Sentences Max Length: 5\n"
          ],
          "name": "stdout"
        }
      ]
    },
    {
      "cell_type": "code",
      "metadata": {
        "colab": {
          "base_uri": "https://localhost:8080/"
        },
        "id": "IwbUuhk7Dmkk",
        "outputId": "64d9d9c0-45f2-46b8-bec6-133fa32bce75"
      },
      "source": [
        "# define model\n",
        "model = define_model(sent_vocab_size, word_vocab_size, sent_length, word_length, 256)\n",
        "model.compile(optimizer='adam', loss='categorical_crossentropy')\n",
        "# summarize defined model\n",
        "print(model.summary())\n",
        "plot_model(model, to_file='model.png', show_shapes=True)\n",
        "# fit model\n",
        "filename = 'model.h5'\n",
        "checkpoint = ModelCheckpoint(filename, monitor='val_loss', verbose=1, save_best_only=True, mode='min')\n",
        "history = model.fit(trainX, trainY, epochs=30, batch_size=64, validation_data=(testX, testY), callbacks=[checkpoint], verbose=2)"
      ],
      "execution_count": 11,
      "outputs": [
        {
          "output_type": "stream",
          "text": [
            "Model: \"sequential\"\n",
            "_________________________________________________________________\n",
            "Layer (type)                 Output Shape              Param #   \n",
            "=================================================================\n",
            "embedding (Embedding)        (None, 5, 256)            1121792   \n",
            "_________________________________________________________________\n",
            "lstm (LSTM)                  (None, 256)               525312    \n",
            "_________________________________________________________________\n",
            "repeat_vector (RepeatVector) (None, 7, 256)            0         \n",
            "_________________________________________________________________\n",
            "lstm_1 (LSTM)                (None, 7, 256)            525312    \n",
            "_________________________________________________________________\n",
            "time_distributed (TimeDistri (None, 7, 4403)           1131571   \n",
            "=================================================================\n",
            "Total params: 3,303,987\n",
            "Trainable params: 3,303,987\n",
            "Non-trainable params: 0\n",
            "_________________________________________________________________\n",
            "None\n",
            "Epoch 1/30\n",
            "WARNING:tensorflow:Model was constructed with shape (None, 5) for input KerasTensor(type_spec=TensorSpec(shape=(None, 5), dtype=tf.float32, name='embedding_input'), name='embedding_input', description=\"created by layer 'embedding_input'\"), but it was called on an input with incompatible shape (None, 7).\n",
            "WARNING:tensorflow:Model was constructed with shape (None, 5) for input KerasTensor(type_spec=TensorSpec(shape=(None, 5), dtype=tf.float32, name='embedding_input'), name='embedding_input', description=\"created by layer 'embedding_input'\"), but it was called on an input with incompatible shape (None, 7).\n",
            "360/360 - 116s - loss: 3.5529 - val_loss: 3.0351\n",
            "\n",
            "Epoch 00001: val_loss improved from inf to 3.03511, saving model to model.h5\n",
            "Epoch 2/30\n",
            "360/360 - 97s - loss: 2.8640 - val_loss: 2.7636\n",
            "\n",
            "Epoch 00002: val_loss improved from 3.03511 to 2.76358, saving model to model.h5\n",
            "Epoch 3/30\n",
            "360/360 - 97s - loss: 2.5142 - val_loss: 2.3999\n",
            "\n",
            "Epoch 00003: val_loss improved from 2.76358 to 2.39986, saving model to model.h5\n",
            "Epoch 4/30\n",
            "360/360 - 97s - loss: 2.1449 - val_loss: 2.1086\n",
            "\n",
            "Epoch 00004: val_loss improved from 2.39986 to 2.10858, saving model to model.h5\n",
            "Epoch 5/30\n",
            "360/360 - 96s - loss: 1.8632 - val_loss: 1.9090\n",
            "\n",
            "Epoch 00005: val_loss improved from 2.10858 to 1.90901, saving model to model.h5\n",
            "Epoch 6/30\n",
            "360/360 - 98s - loss: 1.6420 - val_loss: 1.7591\n",
            "\n",
            "Epoch 00006: val_loss improved from 1.90901 to 1.75907, saving model to model.h5\n",
            "Epoch 7/30\n",
            "360/360 - 98s - loss: 1.4520 - val_loss: 1.6129\n",
            "\n",
            "Epoch 00007: val_loss improved from 1.75907 to 1.61292, saving model to model.h5\n",
            "Epoch 8/30\n",
            "360/360 - 98s - loss: 1.2780 - val_loss: 1.4892\n",
            "\n",
            "Epoch 00008: val_loss improved from 1.61292 to 1.48922, saving model to model.h5\n",
            "Epoch 9/30\n",
            "360/360 - 98s - loss: 1.1219 - val_loss: 1.3833\n",
            "\n",
            "Epoch 00009: val_loss improved from 1.48922 to 1.38331, saving model to model.h5\n",
            "Epoch 10/30\n",
            "360/360 - 96s - loss: 0.9766 - val_loss: 1.2961\n",
            "\n",
            "Epoch 00010: val_loss improved from 1.38331 to 1.29610, saving model to model.h5\n",
            "Epoch 11/30\n",
            "360/360 - 97s - loss: 0.8509 - val_loss: 1.2162\n",
            "\n",
            "Epoch 00011: val_loss improved from 1.29610 to 1.21616, saving model to model.h5\n",
            "Epoch 12/30\n",
            "360/360 - 97s - loss: 0.7412 - val_loss: 1.1523\n",
            "\n",
            "Epoch 00012: val_loss improved from 1.21616 to 1.15228, saving model to model.h5\n",
            "Epoch 13/30\n",
            "360/360 - 97s - loss: 0.6444 - val_loss: 1.0997\n",
            "\n",
            "Epoch 00013: val_loss improved from 1.15228 to 1.09969, saving model to model.h5\n",
            "Epoch 14/30\n",
            "360/360 - 97s - loss: 0.5634 - val_loss: 1.0473\n",
            "\n",
            "Epoch 00014: val_loss improved from 1.09969 to 1.04726, saving model to model.h5\n",
            "Epoch 15/30\n",
            "360/360 - 98s - loss: 0.4933 - val_loss: 1.0123\n",
            "\n",
            "Epoch 00015: val_loss improved from 1.04726 to 1.01232, saving model to model.h5\n",
            "Epoch 16/30\n",
            "360/360 - 96s - loss: 0.4355 - val_loss: 0.9884\n",
            "\n",
            "Epoch 00016: val_loss improved from 1.01232 to 0.98836, saving model to model.h5\n",
            "Epoch 17/30\n",
            "360/360 - 97s - loss: 0.3849 - val_loss: 0.9572\n",
            "\n",
            "Epoch 00017: val_loss improved from 0.98836 to 0.95722, saving model to model.h5\n",
            "Epoch 18/30\n",
            "360/360 - 96s - loss: 0.3417 - val_loss: 0.9455\n",
            "\n",
            "Epoch 00018: val_loss improved from 0.95722 to 0.94550, saving model to model.h5\n",
            "Epoch 19/30\n",
            "360/360 - 97s - loss: 0.3075 - val_loss: 0.9293\n",
            "\n",
            "Epoch 00019: val_loss improved from 0.94550 to 0.92927, saving model to model.h5\n",
            "Epoch 20/30\n",
            "360/360 - 95s - loss: 0.2747 - val_loss: 0.9223\n",
            "\n",
            "Epoch 00020: val_loss improved from 0.92927 to 0.92231, saving model to model.h5\n",
            "Epoch 21/30\n",
            "360/360 - 95s - loss: 0.2488 - val_loss: 0.9147\n",
            "\n",
            "Epoch 00021: val_loss improved from 0.92231 to 0.91467, saving model to model.h5\n",
            "Epoch 22/30\n",
            "360/360 - 95s - loss: 0.2251 - val_loss: 0.9118\n",
            "\n",
            "Epoch 00022: val_loss improved from 0.91467 to 0.91181, saving model to model.h5\n",
            "Epoch 23/30\n",
            "360/360 - 96s - loss: 0.2055 - val_loss: 0.9041\n",
            "\n",
            "Epoch 00023: val_loss improved from 0.91181 to 0.90406, saving model to model.h5\n",
            "Epoch 24/30\n",
            "360/360 - 95s - loss: 0.1876 - val_loss: 0.9127\n",
            "\n",
            "Epoch 00024: val_loss did not improve from 0.90406\n",
            "Epoch 25/30\n",
            "360/360 - 97s - loss: 0.1729 - val_loss: 0.8960\n",
            "\n",
            "Epoch 00025: val_loss improved from 0.90406 to 0.89599, saving model to model.h5\n",
            "Epoch 26/30\n",
            "360/360 - 96s - loss: 0.1601 - val_loss: 0.9075\n",
            "\n",
            "Epoch 00026: val_loss did not improve from 0.89599\n",
            "Epoch 27/30\n",
            "360/360 - 96s - loss: 0.1482 - val_loss: 0.9071\n",
            "\n",
            "Epoch 00027: val_loss did not improve from 0.89599\n",
            "Epoch 28/30\n",
            "360/360 - 95s - loss: 0.1382 - val_loss: 0.9138\n",
            "\n",
            "Epoch 00028: val_loss did not improve from 0.89599\n",
            "Epoch 29/30\n",
            "360/360 - 97s - loss: 0.1301 - val_loss: 0.9105\n",
            "\n",
            "Epoch 00029: val_loss did not improve from 0.89599\n",
            "Epoch 30/30\n",
            "360/360 - 98s - loss: 0.1223 - val_loss: 0.9107\n",
            "\n",
            "Epoch 00030: val_loss did not improve from 0.89599\n"
          ],
          "name": "stdout"
        }
      ]
    },
    {
      "cell_type": "markdown",
      "metadata": {
        "id": "A8gcjk1FDmkl"
      },
      "source": [
        "### Model Visualization"
      ]
    },
    {
      "cell_type": "code",
      "metadata": {
        "colab": {
          "base_uri": "https://localhost:8080/",
          "height": 312
        },
        "id": "vmFXovdU6MmB",
        "outputId": "c30c572b-a911-4009-ac03-02fcd6b2a479"
      },
      "source": [
        "# list all data in history\n",
        "epochList = list(range(0,31))\n",
        "#print(epochList)\n",
        "print(history.history.keys())\n",
        "# summarize history for loss\n",
        "plt.plot(history.history['loss'])\n",
        "plt.plot(history.history['val_loss'])\n",
        "plt.title('model loss')\n",
        "plt.ylabel('loss')\n",
        "plt.xlabel('epoch')\n",
        "plt.legend(['Training Loss', 'Validation Loss'], loc='upper left')\n",
        "plt.show()"
      ],
      "execution_count": 12,
      "outputs": [
        {
          "output_type": "stream",
          "text": [
            "dict_keys(['loss', 'val_loss'])\n"
          ],
          "name": "stdout"
        },
        {
          "output_type": "display_data",
          "data": {
            "image/png": "[encoded data removed]",
            "text/plain": [
              "<Figure size 432x288 with 1 Axes>"
            ]
          },
          "metadata": {
            "tags": [],
            "needs_background": "light"
          }
        }
      ]
    },
    {
      "cell_type": "markdown",
      "metadata": {
        "id": "5c03eDfKDmkl"
      },
      "source": [
        "### Model Evaluation"
      ]
    },
    {
      "cell_type": "code",
      "metadata": {
        "id": "fHtyDphzDqrD",
        "scrolled": true
      },
      "source": [
        "from pickle import load\n",
        "from numpy import array\n",
        "from numpy import argmax\n",
        "from keras.preprocessing.text import Tokenizer\n",
        "from keras.preprocessing.sequence import pad_sequences\n",
        "from keras.models import load_model\n",
        "from nltk.translate.bleu_score import corpus_bleu\n",
        " \n",
        "# load a clean dataset\n",
        "def load_clean_sentences(filename):\n",
        "    return load(open(filename, 'rb'))\n",
        " \n",
        "# fit a tokenizer\n",
        "def create_tokenizer(lines):\n",
        "    tokenizer = Tokenizer()\n",
        "    tokenizer.fit_on_texts(lines)\n",
        "    return tokenizer\n",
        " \n",
        "# max sentence length\n",
        "def max_length(lines):\n",
        "    return max(len(line.split()) for line in lines)\n",
        " \n",
        "# encode and pad sequences\n",
        "def encode_sequences(tokenizer, length, lines):\n",
        "    # integer encode sequences\n",
        "    X = tokenizer.texts_to_sequences(lines)\n",
        "    # pad sequences with 0 values\n",
        "    X = pad_sequences(X, maxlen=length, padding='post')\n",
        "    return X\n",
        " \n",
        "# map an integer to a word\n",
        "def word_for_id(integer, tokenizer):\n",
        "    for word, index in tokenizer.word_index.items():\n",
        "        if index == integer:\n",
        "            return word\n",
        "    return None\n",
        " \n",
        "# generate target given source sequence\n",
        "def predict_sequence(model, tokenizer, source):\n",
        "    prediction = model.predict(source, verbose=0)[0]\n",
        "    integers = [argmax(vector) for vector in prediction]\n",
        "    target = list()\n",
        "    for i in integers:\n",
        "        word = word_for_id(i, tokenizer)\n",
        "        if word is None:\n",
        "            break\n",
        "        target.append(word)\n",
        "    return ' '.join(target)\n",
        " \n",
        "# evaluate the skill of the model\n",
        "def evaluate_model(model, tokenizer, sources, raw_dataset):\n",
        "    actual, predicted = list(), list()\n",
        "    for i, source in enumerate(sources):\n",
        "        # translate encoded source text\n",
        "        source = source.reshape((1, source.shape[0]))\n",
        "        translation = predict_sequence(model, word_tokenizer, source)\n",
        "        raw_target, raw_src = raw_dataset[i]\n",
        "        if i < 10:\n",
        "            print('src=[%s], target=[%s], predicted=[%s]' % (raw_src, raw_target, translation))\n",
        "        actual.append([raw_target.split()])\n",
        "        predicted.append(translation.split())\n",
        "    # calculate BLEU score\n",
        "    print('BLEU-1: %f' % corpus_bleu(actual, predicted, weights=(1.0, 0, 0, 0)))\n",
        "    print('BLEU-2: %f' % corpus_bleu(actual, predicted, weights=(0.5, 0.5, 0, 0)))\n",
        "    print('BLEU-3: %f' % corpus_bleu(actual, predicted, weights=(0.3, 0.3, 0.3, 0)))\n",
        "    print('BLEU-4: %f' % corpus_bleu(actual, predicted, weights=(0.25, 0.25, 0.25, 0.25)))\n",
        " \n"
      ],
      "execution_count": 13,
      "outputs": []
    },
    {
      "cell_type": "code",
      "metadata": {
        "id": "d6q-DKncpHpS"
      },
      "source": [
        "def evaluate_modelCNN(model, tokenizer, sources, raw_dataset):\n",
        "    actual, predicted = list(), list()\n",
        "    for i, source in enumerate(sources):\n",
        "        # translate encoded source text\n",
        "        source = source.reshape((1, source.shape[0]))\n",
        "        translation = predict_sequence(model, word_tokenizer, source)\n",
        "        raw_target, raw_src = raw_dataset[i]\n",
        "        if i < 10:\n",
        "            print('src=[%s], predicted=[%s]' % (raw_src, translation))\n",
        "        actual.append([raw_target.split()])\n",
        "        predicted.append(translation.split())\n",
        "\n",
        "def evalCNN(filename):\n",
        "  dataset = load_clean_sentences('words-sents-both.pkl')\n",
        "  # prepare word tokenizer\n",
        "  word_tokenizer = create_tokenizer(dataset[:, 0])\n",
        "  word_vocab_size = len(word_tokenizer.word_index) + 1\n",
        "  word_length = max_length(dataset[:, 0])\n",
        "  # prepare sentences tokenizer\n",
        "  sent_tokenizer = create_tokenizer(dataset[:, 1])\n",
        "  sent_vocab_size = len(sent_tokenizer.word_index) + 1\n",
        "  sent_length = max_length(dataset[:, 1])\n",
        "  # prepare data\n",
        "  testX = encode_sequences(sent_tokenizer, sent_length, filename[:, 1])\n",
        "  \n",
        "  # load model\n",
        "  model = load_model('model.h5')\n",
        "  # test on some testCNN sequences\n",
        "  print('Custom/CNN Prediction:\\n')\n",
        "  evaluate_modelCNN(model, word_tokenizer, testX, filename)"
      ],
      "execution_count": 217,
      "outputs": []
    },
    {
      "cell_type": "code",
      "metadata": {
        "colab": {
          "base_uri": "https://localhost:8080/"
        },
        "id": "B9bGGM2bVmI3",
        "outputId": "59c5bba0-6cd4-488f-aa6d-33a5deb645f1"
      },
      "source": [
        "# load datasets\n",
        "dataset = load_clean_sentences('words-sents-both.pkl')\n",
        "train = load_clean_sentences('words-sents-train.pkl')\n",
        "test = load_clean_sentences('words-sents-test.pkl')\n",
        "# prepare word tokenizer\n",
        "word_tokenizer = create_tokenizer(dataset[:, 0])\n",
        "word_vocab_size = len(word_tokenizer.word_index) + 1\n",
        "word_length = max_length(dataset[:, 0])\n",
        "# prepare sentences tokenizer\n",
        "sent_tokenizer = create_tokenizer(dataset[:, 1])\n",
        "sent_vocab_size = len(sent_tokenizer.word_index) + 1\n",
        "sent_length = max_length(dataset[:, 1])\n",
        "# prepare data\n",
        "trainX = encode_sequences(sent_tokenizer, sent_length, train[:, 1])\n",
        "testX = encode_sequences(sent_tokenizer, sent_length, test[:, 1])\n",
        " \n",
        "# load model\n",
        "model = load_model('model.h5')\n",
        "# test on some training sequences\n",
        "print('Train Set Results')\n",
        "evaluate_model(model, word_tokenizer, trainX, train)\n",
        "# test on some test sequences\n",
        "print('\\n')\n",
        "print('Test Set Results')\n",
        "evaluate_modelCNN(model, word_tokenizer, testX, test)"
      ],
      "execution_count": 36,
      "outputs": [
        {
          "output_type": "stream",
          "text": [
            "Train Set Results\n",
            "src=[put robe], target=[put on a robe], predicted=[put on a robe]\n",
            "src=[tom crying], target=[tom isnt crying], predicted=[tom was crying]\n",
            "src=[open box], target=[open the box], predicted=[open the box]\n",
            "src=[lets eat], target=[lets eat], predicted=[lets eat]\n",
            "src=[my dog attacked tom], target=[my dog attacked tom], predicted=[my dog attacked tom]\n",
            "src=[tom read lot], target=[tom read a lot], predicted=[tom read a lot]\n",
            "src=[dont yell me], target=[dont yell at me], predicted=[dont yell at me]\n",
            "src=[do like dancing], target=[do you like dancing], predicted=[do you like dancing]\n",
            "src=[hey wait me], target=[hey wait for me], predicted=[hey wait for me]\n",
            "src=[is yes no], target=[is it a yes or a no], predicted=[is it no or or a no]\n",
            "BLEU-1: 0.946709\n",
            "BLEU-2: 0.904301\n",
            "BLEU-3: 0.862608\n",
            "BLEU-4: 0.720778\n",
            "\n",
            "\n",
            "Test Set Results\n",
            "src=[i like wear clogs], predicted=[i like to anymore]\n",
            "src=[im going anyway], predicted=[im not going anyway]\n",
            "src=[do drink beer], predicted=[do you drink beer]\n",
            "src=[we laughed], predicted=[we both laughed]\n",
            "src=[he envied success], predicted=[he has on death]\n",
            "src=[can i some], predicted=[can i have some]\n",
            "src=[i want talk], predicted=[i dont to to talk]\n",
            "src=[give us minute], predicted=[give us a a]\n",
            "src=[dance me], predicted=[catch me]\n",
            "src=[we need more], predicted=[we need more]\n"
          ],
          "name": "stdout"
        }
      ]
    },
    {
      "cell_type": "markdown",
      "metadata": {
        "id": "o5-F6rGJPqKr"
      },
      "source": [
        "**Custom CNN Predictions**\n"
      ]
    },
    {
      "cell_type": "code",
      "metadata": {
        "id": "MLfcJKTh13Gq"
      },
      "source": [
        "def customInput(custIn):\n",
        "  clean_pairsCNN = clean_pairs(custIn)\n",
        "  save_clean_data(clean_pairsCNN, 'customInput.pkl')\n",
        "  testCNN = load_clean_sentences('customInput.pkl')\n",
        "  evalCNN(testCNN)"
      ],
      "execution_count": 225,
      "outputs": []
    },
    {
      "cell_type": "code",
      "metadata": {
        "colab": {
          "base_uri": "https://localhost:8080/"
        },
        "id": "o_kSsBQIMke_",
        "outputId": "8e8ef9e9-607e-465a-d182-54bb95d23c37"
      },
      "source": [
        "customInput([['h', 'cat color black']])"
      ],
      "execution_count": 230,
      "outputs": [
        {
          "output_type": "stream",
          "text": [
            "Saved: customInput.pkl\n",
            "Custom/CNN Prediction:\n",
            "\n",
            "src=[cat color black], predicted=[cat color is black]\n"
          ],
          "name": "stdout"
        }
      ]
    },
    {
      "cell_type": "code",
      "metadata": {
        "colab": {
          "base_uri": "https://localhost:8080/"
        },
        "id": "mUCEzPDQMif5",
        "outputId": "ce4246da-8bee-4625-f001-b6d5a57a2cf1"
      },
      "source": [
        "customInput([['h', 'cousin hair color black']])"
      ],
      "execution_count": 229,
      "outputs": [
        {
          "output_type": "stream",
          "text": [
            "Saved: customInput.pkl\n",
            "Custom/CNN Prediction:\n",
            "\n",
            "src=[cousin hair color black], predicted=[cousin hair color is black]\n"
          ],
          "name": "stdout"
        }
      ]
    }
  ]
}