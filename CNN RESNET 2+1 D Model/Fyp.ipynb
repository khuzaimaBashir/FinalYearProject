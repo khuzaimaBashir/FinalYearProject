{
  "nbformat": 4,
  "nbformat_minor": 0,
  "metadata": {
    "accelerator": "GPU",
    "colab": {
      "name": "Fyp.ipynb",
      "provenance": [],
      "collapsed_sections": []
    },
    "kernelspec": {
      "display_name": "Python 3",
      "language": "python",
      "name": "python3"
    },
    "language_info": {
      "codemirror_mode": {
        "name": "ipython",
        "version": 3
      },
      "file_extension": ".py",
      "mimetype": "text/x-python",
      "name": "python",
      "nbconvert_exporter": "python",
      "pygments_lexer": "ipython3",
      "version": "3.8.3"
    }
  },
  "cells": [
    {
      "cell_type": "code",
      "metadata": {
        "id": "KA1oFP-8FfCC"
      },
      "source": [
        "#Libraries\n",
        "import os\n",
        "import pandas as pd\n",
        "import numpy as np\n",
        "import matplotlib.pyplot as plt\n",
        "from PIL import Image\n",
        "import torch\n",
        "import torchvision\n",
        "import torch.nn as nn\n",
        "import torch.nn.functional as F\n",
        "from torch.autograd import Variable\n",
        "from sklearn.model_selection import train_test_split\n",
        "from torch.utils.data import Dataset, DataLoader, TensorDataset\n",
        "from google.colab import drive\n",
        "import torchvision.models as models\n",
        "from torchvision import transforms, datasets, models\n",
        "from torch import nn, optim\n",
        "\n",
        "\n"
      ],
      "execution_count": null,
      "outputs": []
    },
    {
      "cell_type": "code",
      "metadata": {
        "colab": {
          "base_uri": "https://localhost:8080/"
        },
        "id": "AQ83bWOLU2RD",
        "outputId": "69b1f646-5f94-4aeb-a933-bcd6df5d3b0a"
      },
      "source": [
        "import os\n",
        "import csv\n",
        "###PATH.PY FOR CSV FILE\n",
        "#To Extract all the Videos and there Paths and save them into a csv for Pandas to reload\n",
        "from google.colab import drive\n",
        "drive.mount(\"/content/gdrive\")\n",
        "\n",
        "os.chdir(\"/content/gdrive/MyDrive/FYP\")\n",
        "print(os.listdir(os.getcwd()))\n",
        "def image():\n",
        "    imglbl = []\n",
        "    imgPath = []\n",
        "    tempPath = []\n",
        "    imgFrm = []\n",
        "    \n",
        "    path = os.getcwd()\n",
        "    print(path)\n",
        "    newPath = \"trainData/val_Samples\"\n",
        "    newPath = os.path.join(path, newPath)\n",
        "    os.chdir(newPath)\n",
        "\n",
        "    dirLen = len(os.listdir())\n",
        "    imglbl.append(os.listdir())    \n",
        "    os.chdir(path)\n",
        "\n",
        "    with open('valCSV.csv', 'w', newline = '') as f:\n",
        "        writer = csv.writer(f)\n",
        "        writer.writerow([\"Image_Label\", \"Image_Frames\", \"Image_Path\"])\n",
        "        for i in range(dirLen):\n",
        "            x = imglbl[0][i]\n",
        "            customPath = os.path.join(newPath, str(x))\n",
        "            os.chdir(customPath)\n",
        "            y = (os.listdir())\n",
        "            for j in range(len(y)):\n",
        "                imgPath.append(customPath + '/' + y[j])\n",
        "                tempPath.append(imgPath[-1])\n",
        "                os.chdir(tempPath[-1])\n",
        "                imgFrm.append(len(os.listdir())-1)                \n",
        "                writer.writerow([str(imglbl[0][i]), imgFrm[-1], imgPath[-1]])\n",
        "image()"
      ],
      "execution_count": null,
      "outputs": [
        {
          "name": "stdout",
          "output_type": "stream",
          "text": [
            "Drive already mounted at /content/gdrive; to attempt to forcibly remount, call drive.mount(\"/content/gdrive\", force_remount=True).\n",
            "['trainData', 'tensors.npy', 'labels.npy', 'myCSV.csv', 'clrtensors.npy', 'clrlabels.npy', 'xclrtensors.npy', 'xclrlabels.npy', 'x112clrtensors.npy', 'x112clrlabels.npy']\n",
            "/content/gdrive/MyDrive/FYP\n"
          ]
        }
      ]
    },
    {
      "cell_type": "code",
      "metadata": {
        "colab": {
          "base_uri": "https://localhost:8080/"
        },
        "id": "ejxnAICjebxq",
        "outputId": "70f1e336-045b-4ddf-d99a-c80bf75d56a1"
      },
      "source": [
        "## To Create NPY Files to load data\n",
        "## After Loading the data , its saved to numpy files for quick load in memory. Manual data load = 6-8 hours, Npy file data load = 15 minutes\n",
        "\n",
        "import numpy as np\n",
        "from sklearn import preprocessing\n",
        "os.chdir(\"/content/gdrive/MyDrive/FYP\")\n",
        "\n",
        "le = preprocessing.LabelEncoder()\n",
        "le.fit(labelList)\n",
        "labels = le.transform(labelList)\n",
        "print(labels)\n",
        "tensors = [t.numpy() for t in tensorList]\n",
        "\n",
        "np.save(\"xfclrtensors\",tensors)\n",
        "np.save(\"xfclrlabels\",labels)\n",
        "\n",
        "\n"
      ],
      "execution_count": null,
      "outputs": [
        {
          "name": "stdout",
          "output_type": "stream",
          "text": [
            "[0 0 0 0 2 2 2 2 1 1 1 1 3 3 3 3 4 4 4 4 4 4 4 5 5 5 5 7 7 7 7 7 7 6 6 6 6]\n"
          ]
        },
        {
          "name": "stderr",
          "output_type": "stream",
          "text": [
            "/usr/local/lib/python3.7/dist-packages/numpy/core/_asarray.py:136: VisibleDeprecationWarning: Creating an ndarray from ragged nested sequences (which is a list-or-tuple of lists-or-tuples-or ndarrays with different lengths or shapes) is deprecated. If you meant to do this, you must specify 'dtype=object' when creating the ndarray\n",
            "  return array(a, dtype, copy=False, order=order, subok=True)\n"
          ]
        }
      ]
    },
    {
      "cell_type": "code",
      "metadata": {
        "colab": {
          "base_uri": "https://localhost:8080/"
        },
        "id": "pzmTShRud8uF",
        "outputId": "0b125e17-7f69-4ae8-8be3-970d5ca9cb9d"
      },
      "source": [
        "#To Mount Google Drive\n",
        "drive.mount(\"/content/gdrive\")\n",
        "os.chdir(\"/content/gdrive/MyDrive/FYP\")"
      ],
      "execution_count": null,
      "outputs": [
        {
          "name": "stdout",
          "output_type": "stream",
          "text": [
            "Mounted at /content/gdrive\n"
          ]
        }
      ]
    },
    {
      "cell_type": "code",
      "metadata": {
        "colab": {
          "base_uri": "https://localhost:8080/"
        },
        "id": "-GBusb-maLEg",
        "outputId": "a3654bbc-369e-42fc-b80b-a4c3b2282a1a"
      },
      "source": [
        "#DATA LOADER MD 4\n",
        "#Change Directory\n",
        "os.chdir(\"/content/gdrive/MyDrive/FYP\")\n",
        "print(os.getcwd())\n",
        "\n",
        "#Read CSV File\n",
        "df = pd.read_csv('myCSV.csv')\n",
        "#Get CSV File Length\n",
        "dfLen = len(df.index)+1\n",
        "\n",
        "#Arrays Declarations\n",
        "tensorList = []\n",
        "labelList = []\n",
        "label = \"\"\n",
        "\n",
        "#Get Img Labels\n",
        "imglblList = []\n",
        "for column in df[['Image_Label']]:\n",
        "    imglbl = df[column]\n",
        "for i in imglbl.values:\n",
        "    imglblList.append(i)\n",
        "\n",
        "#Get Img Frames    \n",
        "imgFramesList = []\n",
        "for column in df[['Image_Frames']]:\n",
        "    imgFrames = df[column]\n",
        "for i in imgFrames.values:\n",
        "    imgFramesList.append(i)\n",
        "    \n",
        "#Get Img Path\n",
        "imgPathList = []\n",
        "for column in df[['Image_Path']]:\n",
        "    imgPath = df[column]\n",
        "for i in imgPath.values:\n",
        "    imgPathList.append(i)\n",
        "\n",
        "X = df.Image_Path.values\n",
        "y = df.Image_Label.values\n",
        "\n",
        "\n",
        "\n"
      ],
      "execution_count": null,
      "outputs": [
        {
          "name": "stdout",
          "output_type": "stream",
          "text": [
            "/content/gdrive/MyDrive/FYP\n"
          ]
        }
      ]
    },
    {
      "cell_type": "code",
      "metadata": {
        "colab": {
          "base_uri": "https://localhost:8080/"
        },
        "id": "QH3SI_q1IcrE",
        "outputId": "a8680dbf-3b4f-4fa1-df0f-a83c93a1aec2"
      },
      "source": [
        "######################################### TO LOAD IMAGES FROM THEIR PATH ##################################################\n",
        "trans = transforms.Compose([ transforms.ToTensor(),\n",
        "                                                 transforms.Normalize(mean=[0.5], std=[0.5])])\n",
        "\n",
        "#Open, Resize and Transform Images\n",
        "def loader(imglbl, imgPath, imgFrames):\n",
        "        tensorArr=[]\n",
        "        imgDir = os.chdir(imgPath)\n",
        "        print(imglbl)\n",
        "        print(imgPath)\n",
        "        print(imgFrames)\n",
        "        print(\"=------------------------------------------------------------------------------------------=\")\n",
        "        for x in range(imgFrames):\n",
        "            image = Image.open('frame'+str(x)+'.jpg')\n",
        "            new_image = image.resize((32, 32))\n",
        "            new_image2 = trans(new_image)\n",
        "            tensorArr.append(new_image2)\n",
        "        \n",
        "        label = imglbl    \n",
        "        return tensorArr, new_image2, label\n",
        "\n",
        "#Image output and labels from loader will be stacked into a tensor\n",
        "print(imglblList)\n",
        "\n",
        "for i in range(dfLen-1):\n",
        "    #Function call to loader\n",
        "    tensorArr,x , label = loader(imglblList[i], imgPathList[i], imgFramesList[i])\n",
        "\n",
        "    stackTensor = torch.stack(tensorArr)\n",
        "    \n",
        "    #Numpy Array of the TensorList\n",
        "    tensorList.append(stackTensor)\n",
        "    \n",
        "    #Numpy Array of the LabelList\n",
        "    labelList.append(label)\n",
        "\n",
        "#Intialise signData class\n",
        "\n",
        "#testloader = torch.utils.data.DataLoader(combList, batch_size=32, shuffle=False)\n"
      ],
      "execution_count": null,
      "outputs": [
        {
          "name": "stdout",
          "output_type": "stream",
          "text": [
            "['a', 'a', 'a', 'a', 'abdomen', 'abdomen', 'abdomen', 'abdomen', 'a lot', 'a lot', 'a lot', 'a lot', 'able', 'able', 'able', 'able', 'about', 'about', 'about', 'about', 'about', 'about', 'about', 'above', 'above', 'above', 'above', 'accept', 'accept', 'accept', 'accept', 'accept', 'accept', 'accent', 'accent', 'accent', 'accent']\n",
            "a\n",
            "/content/gdrive/MyDrive/FYP/trainData/Samples/a/01611.mp4\n",
            "48\n",
            "=------------------------------------------------------------------------------------------=\n",
            "a\n",
            "/content/gdrive/MyDrive/FYP/trainData/Samples/a/01614.mp4\n",
            "65\n",
            "=------------------------------------------------------------------------------------------=\n",
            "a\n",
            "/content/gdrive/MyDrive/FYP/trainData/Samples/a/01615.mp4\n",
            "84\n",
            "=------------------------------------------------------------------------------------------=\n",
            "a\n",
            "/content/gdrive/MyDrive/FYP/trainData/Samples/a/01610.mp4\n",
            "124\n",
            "=------------------------------------------------------------------------------------------=\n",
            "abdomen\n",
            "/content/gdrive/MyDrive/FYP/trainData/Samples/abdomen/00336.mp4\n",
            "64\n",
            "=------------------------------------------------------------------------------------------=\n",
            "abdomen\n",
            "/content/gdrive/MyDrive/FYP/trainData/Samples/abdomen/00337.mp4\n",
            "27\n",
            "=------------------------------------------------------------------------------------------=\n",
            "abdomen\n",
            "/content/gdrive/MyDrive/FYP/trainData/Samples/abdomen/00340.mp4\n",
            "61\n",
            "=------------------------------------------------------------------------------------------=\n",
            "abdomen\n",
            "/content/gdrive/MyDrive/FYP/trainData/Samples/abdomen/00341.mp4\n",
            "83\n",
            "=------------------------------------------------------------------------------------------=\n",
            "a lot\n",
            "/content/gdrive/MyDrive/FYP/trainData/Samples/a lot/02124.mp4\n",
            "73\n",
            "=------------------------------------------------------------------------------------------=\n",
            "a lot\n",
            "/content/gdrive/MyDrive/FYP/trainData/Samples/a lot/02125.mp4\n",
            "37\n",
            "=------------------------------------------------------------------------------------------=\n",
            "a lot\n",
            "/content/gdrive/MyDrive/FYP/trainData/Samples/a lot/02131.mp4\n",
            "85\n",
            "=------------------------------------------------------------------------------------------=\n",
            "a lot\n",
            "/content/gdrive/MyDrive/FYP/trainData/Samples/a lot/02129.mp4\n",
            "28\n",
            "=------------------------------------------------------------------------------------------=\n",
            "able\n",
            "/content/gdrive/MyDrive/FYP/trainData/Samples/able/00377.mp4\n",
            "88\n",
            "=------------------------------------------------------------------------------------------=\n",
            "able\n",
            "/content/gdrive/MyDrive/FYP/trainData/Samples/able/00378.mp4\n",
            "40\n",
            "=------------------------------------------------------------------------------------------=\n",
            "able\n",
            "/content/gdrive/MyDrive/FYP/trainData/Samples/able/00383.mp4\n",
            "75\n",
            "=------------------------------------------------------------------------------------------=\n",
            "able\n",
            "/content/gdrive/MyDrive/FYP/trainData/Samples/able/00384.mp4\n",
            "84\n",
            "=------------------------------------------------------------------------------------------=\n",
            "about\n",
            "/content/gdrive/MyDrive/FYP/trainData/Samples/about/00415.mp4\n",
            "37\n",
            "=------------------------------------------------------------------------------------------=\n",
            "about\n",
            "/content/gdrive/MyDrive/FYP/trainData/Samples/about/00414.mp4\n",
            "104\n",
            "=------------------------------------------------------------------------------------------=\n",
            "about\n",
            "/content/gdrive/MyDrive/FYP/trainData/Samples/about/00419.mp4\n",
            "63\n",
            "=------------------------------------------------------------------------------------------=\n",
            "about\n",
            "/content/gdrive/MyDrive/FYP/trainData/Samples/about/00422.mp4\n",
            "65\n",
            "=------------------------------------------------------------------------------------------=\n",
            "about\n",
            "/content/gdrive/MyDrive/FYP/trainData/Samples/about/00423.mp4\n",
            "72\n",
            "=------------------------------------------------------------------------------------------=\n",
            "about\n",
            "/content/gdrive/MyDrive/FYP/trainData/Samples/about/00425.mp4\n",
            "61\n",
            "=------------------------------------------------------------------------------------------=\n",
            "about\n",
            "/content/gdrive/MyDrive/FYP/trainData/Samples/about/65002.mp4\n",
            "71\n",
            "=------------------------------------------------------------------------------------------=\n",
            "above\n",
            "/content/gdrive/MyDrive/FYP/trainData/Samples/above/65004.mp4\n",
            "63\n",
            "=------------------------------------------------------------------------------------------=\n",
            "above\n",
            "/content/gdrive/MyDrive/FYP/trainData/Samples/above/00433.mp4\n",
            "78\n",
            "=------------------------------------------------------------------------------------------=\n",
            "above\n",
            "/content/gdrive/MyDrive/FYP/trainData/Samples/above/00435.mp4\n",
            "102\n",
            "=------------------------------------------------------------------------------------------=\n",
            "above\n",
            "/content/gdrive/MyDrive/FYP/trainData/Samples/above/00430.mp4\n",
            "51\n",
            "=------------------------------------------------------------------------------------------=\n",
            "accept\n",
            "/content/gdrive/MyDrive/FYP/trainData/Samples/accept/00593.mp4\n",
            "27\n",
            "=------------------------------------------------------------------------------------------=\n",
            "accept\n",
            "/content/gdrive/MyDrive/FYP/trainData/Samples/accept/00588.mp4\n",
            "29\n",
            "=------------------------------------------------------------------------------------------=\n",
            "accept\n",
            "/content/gdrive/MyDrive/FYP/trainData/Samples/accept/00597.mp4\n",
            "127\n",
            "=------------------------------------------------------------------------------------------=\n",
            "accept\n",
            "/content/gdrive/MyDrive/FYP/trainData/Samples/accept/00598.mp4\n",
            "63\n",
            "=------------------------------------------------------------------------------------------=\n",
            "accept\n",
            "/content/gdrive/MyDrive/FYP/trainData/Samples/accept/00599.mp4\n",
            "38\n",
            "=------------------------------------------------------------------------------------------=\n",
            "accept\n",
            "/content/gdrive/MyDrive/FYP/trainData/Samples/accept/00603.mp4\n",
            "84\n",
            "=------------------------------------------------------------------------------------------=\n",
            "accent\n",
            "/content/gdrive/MyDrive/FYP/trainData/Samples/accent/00583.mp4\n",
            "37\n",
            "=------------------------------------------------------------------------------------------=\n",
            "accent\n",
            "/content/gdrive/MyDrive/FYP/trainData/Samples/accent/00584.mp4\n",
            "41\n",
            "=------------------------------------------------------------------------------------------=\n",
            "accent\n",
            "/content/gdrive/MyDrive/FYP/trainData/Samples/accent/00587.mp4\n",
            "29\n",
            "=------------------------------------------------------------------------------------------=\n",
            "accent\n",
            "/content/gdrive/MyDrive/FYP/trainData/Samples/accent/00586.mp4\n",
            "38\n",
            "=------------------------------------------------------------------------------------------=\n"
          ]
        }
      ]
    },
    {
      "cell_type": "code",
      "metadata": {
        "colab": {
          "base_uri": "https://localhost:8080/"
        },
        "id": "DQ9ysMnVhlWr",
        "outputId": "d3531da1-5f76-4d88-8346-fc951b733fd9"
      },
      "source": [
        "import numpy as np\n",
        "os.chdir(\"/content/gdrive/MyDrive/FYP\")\n",
        "tensorList = np.load('xfclrtensors.npy',allow_pickle=True)\n",
        "labels = np.load('xfclrlabels.npy',allow_pickle=True)\n",
        "vtensorList = np.load('vclrtensors.npy',allow_pickle=True)\n",
        "vlabels = np.load('Vclrlabels.npy',allow_pickle=True)\n",
        "\n",
        "trainData = torch.utils.data.random_split(tensorList, [28, 9], generator=torch.Generator().manual_seed(42))\n",
        "print(trainData[0])"
      ],
      "execution_count": null,
      "outputs": [
        {
          "name": "stdout",
          "output_type": "stream",
          "text": [
            "<torch.utils.data.dataset.Subset object at 0x7f34df82cbd0>\n"
          ]
        }
      ]
    },
    {
      "cell_type": "code",
      "metadata": {
        "id": "poqx5Jk7HN4T"
      },
      "source": [
        "os.chdir(\"/content/gdrive/MyDrive/FYP/trainData/Samples\")\n",
        "import torch.nn.utils.rnn as rnn\n",
        "#Custom Dataloader\n",
        "class signData(Dataset):\n",
        "    def __init__(self, X, Y, transform = None):\n",
        "        #X is TensorList as argument\n",
        "        self.X = X\n",
        "        #Y is LabelList as argument\n",
        "        self.Y = Y\n",
        "        \n",
        "        if transform == 1:\n",
        "            self.transform = transforms.Compose([ transforms.ToTensor(),\n",
        "                                                 transforms.Normalize(mean=[0.5], std=[0.5])])\n",
        "        \n",
        "    def __len__(self):\n",
        "        return len(self.X)\n",
        "\n",
        "    def __getitem__(self,index):\n",
        "        #Accessing every instance of NpTensorArr\n",
        "        imageStack = self.X[index]\n",
        "        #Accesing every instance of NpLabelList\n",
        "        label = self.Y[index]\n",
        "        return torch.from_numpy(imageStack), len(imageStack), label \n",
        "max=0\n",
        "for i in (tensorList):\n",
        "  x =i.shape[0]\n",
        "  if (x>max):\n",
        "    max = x\n",
        "#Use my_collate for Image Batching and normalizing image sizes\n",
        "def my_collate(batch):\n",
        "    inputs = rnn.pad_sequence([s[0] for s in batch], padding_value=0.0)\n",
        "    input_sizes = torch.LongTensor([s[1] for s in batch])\n",
        "    target = torch.LongTensor([s[2] for s in batch])\n",
        "\n",
        "    #data = [item[0] for item in batch]\n",
        "    #print(len(data))\n",
        "    #for i in (data):\n",
        "    #  print(i)\n",
        "      \n",
        "    #data_size = torch.LongTensor(data)\n",
        "    #target = [item[1] for item in batch]\n",
        "    #target_size = torch.LongTensor(target)\n",
        "    return inputs, input_sizes, target    \n",
        "\n",
        "\n",
        "\n",
        "#Transform Images\n",
        "trans = transforms.Compose([ transforms.ToTensor(),\n",
        "                                                 transforms.Normalize(mean=[0.5], std=[0.5])])\n",
        "\n"
      ],
      "execution_count": null,
      "outputs": []
    },
    {
      "cell_type": "code",
      "metadata": {
        "id": "ZQZRObUH1sQo"
      },
      "source": [
        "## Encoder for turning the words into a unique identifier number\n",
        "le = preprocessing.LabelEncoder()\n",
        "le.fit(labelList)\n",
        "labels = le.transform(labelList)"
      ],
      "execution_count": null,
      "outputs": []
    },
    {
      "cell_type": "code",
      "metadata": {
        "colab": {
          "base_uri": "https://localhost:8080/",
          "height": 69
        },
        "id": "wcnJg_fdDDnz",
        "outputId": "cbe2cfa8-0ccd-4c3e-b77f-de358fc4f155"
      },
      "source": [
        "##  Spliting Data into Training and Validation data\n",
        "Data = signData(trainData[0], labels, transform=1)\n",
        "val_Data= signData(vtensorList, vlabels, transform=1)\n",
        "\n",
        "train_arg = dict(batch_size=2, shuffle=True, collate_fn = my_collate) \n",
        "train_loader = DataLoader(Data, **train_arg)\n",
        "\n",
        "val_loader = DataLoader(val_Data, **train_arg)\n",
        "\n"
      ],
      "execution_count": null,
      "outputs": [
        {
          "data": {
            "application/vnd.google.colaboratory.intrinsic+json": {
              "type": "string"
            },
            "text/plain": [
              "'\\nclass Model(nn.Module):\\n    def __init__(self):\\n        super(Model, self).__init__()\\n        self.model = torchvision.models.video.r2plus1d_18(pretrained=True, progress=True)\\n    def forward(self, X, lengths):\\n        packed_X = rnn.pack_padded_sequence(X, lengths, enforce_sorted=False)\\n        packed_out = self.model(packed_X)\\n        out = rnn.pad_packed_sequence(packed_out)\\n        print(out)\\n        \\nmodel = Model()\\n#model = torchvision.models.video.r2plus1d_18(pretrained=True, progress=True)\\n#criterion = nn.CrossEntropyLoss()\\n#optimizer = optim.SGD(model.fc.parameters(), lr=0.001 , momentum=0.9)'"
            ]
          },
          "execution_count": 15,
          "metadata": {
            "tags": []
          },
          "output_type": "execute_result"
        }
      ]
    },
    {
      "cell_type": "code",
      "metadata": {
        "colab": {
          "base_uri": "https://localhost:8080/"
        },
        "id": "5pisH2i1wPGz",
        "outputId": "85039139-e2be-4175-e4a3-39aee1e2e5f7"
      },
      "source": [
        "## Loading Resnet 2+1 D model\n",
        "\n",
        "model = torchvision.models.video.r2plus1d_18(pretrained=True, progress=True)\n",
        "criterion = nn.CrossEntropyLoss()\n",
        "\n",
        "lr=0.1\n",
        "weight_decay=0.1\n",
        "factor=0.316\n",
        "patience=5\n",
        "\n",
        "device = \"cuda\" if torch.cuda.is_available() else \"cpu\"\n",
        "import torch\n",
        "torch.cuda.empty_cache()\n",
        "import gc \n",
        "\n",
        "# Your code with pytorch using GPU \n",
        "optimizer = torch.optim.Adam(model.parameters(),lr=lr*factor, weight_decay=weight_decay)\n",
        "torch.cuda.memory_summary(device=None, abbreviated=False)\n",
        "\n",
        "model.to(device)\n",
        "criterion.to(device)\n",
        "\n",
        "def train(n_epochs, model, optimizer, criterion):\n",
        "    \"\"\"returns trained model\"\"\"\n",
        "    # initialize tracker for minimum validation loss\n",
        "    valid_loss_min = np.Inf\n",
        "    \n",
        "    for epoch in range(1, n_epochs+1):\n",
        "        # initialize variables to monitor training and validation loss\n",
        "        train_loss = 0.0\n",
        "        valid_loss = 0.0\n",
        "        \n",
        "        ###################\n",
        "        # train the model #\n",
        "        ###################\n",
        "        model.train()\n",
        "        for batch_idx, (data, dsize, target) in enumerate(train_loader):\n",
        "          #device = torch.device(\"cuda:0\" if torch.cuda.is_available() else \"cpu\")\n",
        "          data, target = data.to(device), target.to(device)\n",
        "          # initialize weights to zero\n",
        "          \n",
        "          data = data.permute(1,2,0,3,4)\n",
        "          optimizer.zero_grad()\n",
        "          \n",
        "          output = model(data)\n",
        "            \n",
        "            # calculate loss\n",
        "          loss = criterion(output, target)\n",
        "          train_loss += loss.item() \n",
        "            # back prop\n",
        "          loss.backward()\n",
        "            \n",
        "            # grad\n",
        "          optimizer.step()\n",
        "            \n",
        "        train_loss /= len(train_loader)\n",
        "            \n",
        "        print('Training loss: %.3f' %(train_loss))\n",
        "        with torch.no_grad():\n",
        "          model.eval()\n",
        "          val_loss = 0\n",
        "          batch_id=0\n",
        "          for X, X_lens, Y in val_loader:\n",
        "            batch_id+=1\n",
        "            X = X.permute(1,2,0,3,4)\n",
        "            X = X.to(device)\n",
        "            Y = Y.to(device)\n",
        "            out = model(X)\n",
        "            loss = criterion(out, Y)\n",
        "            val_loss+=loss.item()\n",
        "        val_lpw = val_loss / batch_id\n",
        "        print('Validation Loss: ', val_lpw)\n",
        "    return train_loss, val_lpw\n",
        "\n",
        "gc.collect()\n",
        "#train(25, model, optimizer, criterion)"
      ],
      "execution_count": null,
      "outputs": [
        {
          "data": {
            "text/plain": [
              "292"
            ]
          },
          "execution_count": 16,
          "metadata": {
            "tags": []
          },
          "output_type": "execute_result"
        }
      ]
    },
    {
      "cell_type": "code",
      "metadata": {
        "colab": {
          "base_uri": "https://localhost:8080/"
        },
        "id": "tI_7RpdFcPq1",
        "outputId": "8db8b93b-8d11-4164-b09f-1ea5227de7ba"
      },
      "source": [
        "from tqdm import tqdm\n",
        "Train_loss = []\n",
        "Test_loss = []\n",
        "scheduler = torch.optim.lr_scheduler.ReduceLROnPlateau(optimizer, patience=patience, factor=factor, verbose=True)\n",
        "for i in tqdm(range(60)):\n",
        "    train_loss, val_loss = train(1,model,  optimizer, criterion)\n",
        "    scheduler.step(val_loss)\n",
        "    Train_loss.append(train_loss)\n",
        "    Test_loss.append(val_loss)\n"
      ],
      "execution_count": null,
      "outputs": [
        {
          "name": "stderr",
          "output_type": "stream",
          "text": [
            "\r",
            "  0%|          | 0/60 [00:00<?, ?it/s]"
          ]
        },
        {
          "name": "stdout",
          "output_type": "stream",
          "text": [
            "Training loss: 8.599\n"
          ]
        },
        {
          "name": "stderr",
          "output_type": "stream",
          "text": [
            "\r",
            "  2%|▏         | 1/60 [00:02<02:34,  2.61s/it]"
          ]
        },
        {
          "name": "stdout",
          "output_type": "stream",
          "text": [
            "Validation Loss:  4.487902800242106\n",
            "Training loss: 4.286\n"
          ]
        },
        {
          "name": "stderr",
          "output_type": "stream",
          "text": [
            "\r",
            "  3%|▎         | 2/60 [00:04<02:26,  2.53s/it]"
          ]
        },
        {
          "name": "stdout",
          "output_type": "stream",
          "text": [
            "Validation Loss:  4.213518699010213\n",
            "Training loss: 2.986\n"
          ]
        },
        {
          "name": "stderr",
          "output_type": "stream",
          "text": [
            "\r",
            "  5%|▌         | 3/60 [00:07<02:22,  2.50s/it]"
          ]
        },
        {
          "name": "stdout",
          "output_type": "stream",
          "text": [
            "Validation Loss:  4.620006322860718\n",
            "Training loss: 2.890\n"
          ]
        },
        {
          "name": "stderr",
          "output_type": "stream",
          "text": [
            "\r",
            "  7%|▋         | 4/60 [00:09<02:19,  2.48s/it]"
          ]
        },
        {
          "name": "stdout",
          "output_type": "stream",
          "text": [
            "Validation Loss:  5.730101267496745\n",
            "Training loss: 2.879\n"
          ]
        },
        {
          "name": "stderr",
          "output_type": "stream",
          "text": [
            "\r",
            "  8%|▊         | 5/60 [00:12<02:14,  2.45s/it]"
          ]
        },
        {
          "name": "stdout",
          "output_type": "stream",
          "text": [
            "Validation Loss:  2.80696173508962\n",
            "Training loss: 2.688\n"
          ]
        },
        {
          "name": "stderr",
          "output_type": "stream",
          "text": [
            "\r",
            " 10%|█         | 6/60 [00:14<02:11,  2.44s/it]"
          ]
        },
        {
          "name": "stdout",
          "output_type": "stream",
          "text": [
            "Validation Loss:  3.022490978240967\n",
            "Training loss: 2.732\n"
          ]
        },
        {
          "name": "stderr",
          "output_type": "stream",
          "text": [
            "\r",
            " 12%|█▏        | 7/60 [00:17<02:08,  2.42s/it]"
          ]
        },
        {
          "name": "stdout",
          "output_type": "stream",
          "text": [
            "Validation Loss:  3.2350165843963623\n",
            "Training loss: 2.669\n"
          ]
        },
        {
          "name": "stderr",
          "output_type": "stream",
          "text": [
            "\r",
            " 13%|█▎        | 8/60 [00:19<02:06,  2.43s/it]"
          ]
        },
        {
          "name": "stdout",
          "output_type": "stream",
          "text": [
            "Validation Loss:  2.920980215072632\n",
            "Training loss: 2.912\n"
          ]
        },
        {
          "name": "stderr",
          "output_type": "stream",
          "text": [
            "\r",
            " 15%|█▌        | 9/60 [00:21<02:03,  2.42s/it]"
          ]
        },
        {
          "name": "stdout",
          "output_type": "stream",
          "text": [
            "Validation Loss:  3.2988585035006204\n",
            "Training loss: 2.888\n"
          ]
        },
        {
          "name": "stderr",
          "output_type": "stream",
          "text": [
            "\r",
            " 17%|█▋        | 10/60 [00:24<02:01,  2.43s/it]"
          ]
        },
        {
          "name": "stdout",
          "output_type": "stream",
          "text": [
            "Validation Loss:  2.824938158194224\n",
            "Training loss: 2.636\n"
          ]
        },
        {
          "name": "stderr",
          "output_type": "stream",
          "text": [
            "\r",
            " 18%|█▊        | 11/60 [00:26<01:57,  2.40s/it]"
          ]
        },
        {
          "name": "stdout",
          "output_type": "stream",
          "text": [
            "Validation Loss:  3.1404534180959067\n",
            "Epoch    11: reducing learning rate of group 0 to 9.9856e-03.\n",
            "Training loss: 2.611\n"
          ]
        },
        {
          "name": "stderr",
          "output_type": "stream",
          "text": [
            "\r",
            " 20%|██        | 12/60 [00:29<01:54,  2.39s/it]"
          ]
        },
        {
          "name": "stdout",
          "output_type": "stream",
          "text": [
            "Validation Loss:  2.8888491789499917\n",
            "Training loss: 2.204\n"
          ]
        },
        {
          "name": "stderr",
          "output_type": "stream",
          "text": [
            "\r",
            " 22%|██▏       | 13/60 [00:31<01:53,  2.41s/it]"
          ]
        },
        {
          "name": "stdout",
          "output_type": "stream",
          "text": [
            "Validation Loss:  2.8673296372095742\n",
            "Training loss: 2.192\n"
          ]
        },
        {
          "name": "stderr",
          "output_type": "stream",
          "text": [
            "\r",
            " 23%|██▎       | 14/60 [00:33<01:49,  2.38s/it]"
          ]
        },
        {
          "name": "stdout",
          "output_type": "stream",
          "text": [
            "Validation Loss:  2.777952035268148\n",
            "Training loss: 2.237\n"
          ]
        },
        {
          "name": "stderr",
          "output_type": "stream",
          "text": [
            "\r",
            " 25%|██▌       | 15/60 [00:36<01:47,  2.39s/it]"
          ]
        },
        {
          "name": "stdout",
          "output_type": "stream",
          "text": [
            "Validation Loss:  2.736890653769175\n",
            "Training loss: 2.177\n"
          ]
        },
        {
          "name": "stderr",
          "output_type": "stream",
          "text": [
            "\r",
            " 27%|██▋       | 16/60 [00:38<01:44,  2.37s/it]"
          ]
        },
        {
          "name": "stdout",
          "output_type": "stream",
          "text": [
            "Validation Loss:  2.749085088570913\n",
            "Training loss: 2.135\n"
          ]
        },
        {
          "name": "stderr",
          "output_type": "stream",
          "text": [
            "\r",
            " 28%|██▊       | 17/60 [00:40<01:41,  2.37s/it]"
          ]
        },
        {
          "name": "stdout",
          "output_type": "stream",
          "text": [
            "Validation Loss:  2.7886096239089966\n",
            "Training loss: 2.145\n"
          ]
        },
        {
          "name": "stderr",
          "output_type": "stream",
          "text": [
            "\r",
            " 30%|███       | 18/60 [00:43<01:39,  2.36s/it]"
          ]
        },
        {
          "name": "stdout",
          "output_type": "stream",
          "text": [
            "Validation Loss:  2.74166472752889\n",
            "Training loss: 2.168\n"
          ]
        },
        {
          "name": "stderr",
          "output_type": "stream",
          "text": [
            "\r",
            " 32%|███▏      | 19/60 [00:45<01:36,  2.36s/it]"
          ]
        },
        {
          "name": "stdout",
          "output_type": "stream",
          "text": [
            "Validation Loss:  2.7677613496780396\n",
            "Training loss: 2.161\n"
          ]
        },
        {
          "name": "stderr",
          "output_type": "stream",
          "text": [
            "\r",
            " 33%|███▎      | 20/60 [00:47<01:34,  2.37s/it]"
          ]
        },
        {
          "name": "stdout",
          "output_type": "stream",
          "text": [
            "Validation Loss:  2.776060183842977\n",
            "Training loss: 2.235\n"
          ]
        },
        {
          "name": "stderr",
          "output_type": "stream",
          "text": [
            "\r",
            " 35%|███▌      | 21/60 [00:50<01:33,  2.40s/it]"
          ]
        },
        {
          "name": "stdout",
          "output_type": "stream",
          "text": [
            "Validation Loss:  2.7194963892300925\n",
            "Training loss: 2.233\n"
          ]
        },
        {
          "name": "stderr",
          "output_type": "stream",
          "text": [
            "\r",
            " 37%|███▋      | 22/60 [00:52<01:31,  2.41s/it]"
          ]
        },
        {
          "name": "stdout",
          "output_type": "stream",
          "text": [
            "Validation Loss:  2.8205746014912925\n",
            "Training loss: 2.151\n"
          ]
        },
        {
          "name": "stderr",
          "output_type": "stream",
          "text": [
            "\r",
            " 38%|███▊      | 23/60 [00:55<01:29,  2.42s/it]"
          ]
        },
        {
          "name": "stdout",
          "output_type": "stream",
          "text": [
            "Validation Loss:  2.7619023521741233\n",
            "Training loss: 2.137\n"
          ]
        },
        {
          "name": "stderr",
          "output_type": "stream",
          "text": [
            "\r",
            " 40%|████      | 24/60 [00:57<01:26,  2.42s/it]"
          ]
        },
        {
          "name": "stdout",
          "output_type": "stream",
          "text": [
            "Validation Loss:  2.7826995849609375\n",
            "Training loss: 2.201\n"
          ]
        },
        {
          "name": "stderr",
          "output_type": "stream",
          "text": [
            "\r",
            " 42%|████▏     | 25/60 [01:00<01:24,  2.41s/it]"
          ]
        },
        {
          "name": "stdout",
          "output_type": "stream",
          "text": [
            "Validation Loss:  2.8992547591527305\n",
            "Training loss: 2.194\n"
          ]
        },
        {
          "name": "stderr",
          "output_type": "stream",
          "text": [
            "\r",
            " 43%|████▎     | 26/60 [01:02<01:22,  2.44s/it]"
          ]
        },
        {
          "name": "stdout",
          "output_type": "stream",
          "text": [
            "Validation Loss:  2.7241808772087097\n",
            "Training loss: 2.192\n"
          ]
        },
        {
          "name": "stderr",
          "output_type": "stream",
          "text": [
            "\r",
            " 45%|████▌     | 27/60 [01:04<01:19,  2.42s/it]"
          ]
        },
        {
          "name": "stdout",
          "output_type": "stream",
          "text": [
            "Validation Loss:  2.725903312365214\n",
            "Epoch    27: reducing learning rate of group 0 to 3.1554e-03.\n",
            "Training loss: 2.083\n"
          ]
        },
        {
          "name": "stderr",
          "output_type": "stream",
          "text": [
            "\r",
            " 47%|████▋     | 28/60 [01:07<01:17,  2.42s/it]"
          ]
        },
        {
          "name": "stdout",
          "output_type": "stream",
          "text": [
            "Validation Loss:  2.7378953099250793\n",
            "Training loss: 2.059\n"
          ]
        },
        {
          "name": "stderr",
          "output_type": "stream",
          "text": [
            "\r",
            " 48%|████▊     | 29/60 [01:09<01:14,  2.42s/it]"
          ]
        },
        {
          "name": "stdout",
          "output_type": "stream",
          "text": [
            "Validation Loss:  2.7725725571314492\n",
            "Training loss: 2.067\n"
          ]
        },
        {
          "name": "stderr",
          "output_type": "stream",
          "text": [
            "\r",
            " 50%|█████     | 30/60 [01:12<01:12,  2.42s/it]"
          ]
        },
        {
          "name": "stdout",
          "output_type": "stream",
          "text": [
            "Validation Loss:  2.7581374247868857\n",
            "Training loss: 2.059\n"
          ]
        },
        {
          "name": "stderr",
          "output_type": "stream",
          "text": [
            "\r",
            " 52%|█████▏    | 31/60 [01:14<01:10,  2.43s/it]"
          ]
        },
        {
          "name": "stdout",
          "output_type": "stream",
          "text": [
            "Validation Loss:  2.733346780141195\n",
            "Training loss: 2.056\n"
          ]
        },
        {
          "name": "stderr",
          "output_type": "stream",
          "text": [
            "\r",
            " 53%|█████▎    | 32/60 [01:17<01:08,  2.44s/it]"
          ]
        },
        {
          "name": "stdout",
          "output_type": "stream",
          "text": [
            "Validation Loss:  2.7558658917744956\n",
            "Training loss: 2.063\n"
          ]
        },
        {
          "name": "stderr",
          "output_type": "stream",
          "text": [
            "\r",
            " 55%|█████▌    | 33/60 [01:19<01:05,  2.43s/it]"
          ]
        },
        {
          "name": "stdout",
          "output_type": "stream",
          "text": [
            "Validation Loss:  2.7647989988327026\n",
            "Epoch    33: reducing learning rate of group 0 to 9.9712e-04.\n",
            "Training loss: 2.045\n"
          ]
        },
        {
          "name": "stderr",
          "output_type": "stream",
          "text": [
            "\r",
            " 57%|█████▋    | 34/60 [01:21<01:02,  2.42s/it]"
          ]
        },
        {
          "name": "stdout",
          "output_type": "stream",
          "text": [
            "Validation Loss:  2.7558236718177795\n",
            "Training loss: 2.043\n"
          ]
        },
        {
          "name": "stderr",
          "output_type": "stream",
          "text": [
            "\r",
            " 58%|█████▊    | 35/60 [01:24<01:00,  2.41s/it]"
          ]
        },
        {
          "name": "stdout",
          "output_type": "stream",
          "text": [
            "Validation Loss:  2.7456993659337363\n",
            "Training loss: 2.041\n"
          ]
        },
        {
          "name": "stderr",
          "output_type": "stream",
          "text": [
            "\r",
            " 60%|██████    | 36/60 [01:26<00:58,  2.44s/it]"
          ]
        },
        {
          "name": "stdout",
          "output_type": "stream",
          "text": [
            "Validation Loss:  2.744540731112162\n",
            "Training loss: 2.040\n"
          ]
        },
        {
          "name": "stderr",
          "output_type": "stream",
          "text": [
            "\r",
            " 62%|██████▏   | 37/60 [01:29<00:56,  2.45s/it]"
          ]
        },
        {
          "name": "stdout",
          "output_type": "stream",
          "text": [
            "Validation Loss:  2.75199286142985\n",
            "Training loss: 2.038\n"
          ]
        },
        {
          "name": "stderr",
          "output_type": "stream",
          "text": [
            "\r",
            " 63%|██████▎   | 38/60 [01:31<00:53,  2.45s/it]"
          ]
        },
        {
          "name": "stdout",
          "output_type": "stream",
          "text": [
            "Validation Loss:  2.738188942273458\n",
            "Training loss: 2.034\n"
          ]
        },
        {
          "name": "stderr",
          "output_type": "stream",
          "text": [
            "\r",
            " 65%|██████▌   | 39/60 [01:34<00:51,  2.46s/it]"
          ]
        },
        {
          "name": "stdout",
          "output_type": "stream",
          "text": [
            "Validation Loss:  2.755029837290446\n",
            "Epoch    39: reducing learning rate of group 0 to 3.1509e-04.\n",
            "Training loss: 2.026\n"
          ]
        },
        {
          "name": "stderr",
          "output_type": "stream",
          "text": [
            "\r",
            " 67%|██████▋   | 40/60 [01:36<00:49,  2.47s/it]"
          ]
        },
        {
          "name": "stdout",
          "output_type": "stream",
          "text": [
            "Validation Loss:  2.7499859730402627\n",
            "Training loss: 2.026\n"
          ]
        },
        {
          "name": "stderr",
          "output_type": "stream",
          "text": [
            "\r",
            " 68%|██████▊   | 41/60 [01:39<00:46,  2.46s/it]"
          ]
        },
        {
          "name": "stdout",
          "output_type": "stream",
          "text": [
            "Validation Loss:  2.7542331218719482\n",
            "Training loss: 2.026\n"
          ]
        },
        {
          "name": "stderr",
          "output_type": "stream",
          "text": [
            "\r",
            " 70%|███████   | 42/60 [01:41<00:43,  2.42s/it]"
          ]
        },
        {
          "name": "stdout",
          "output_type": "stream",
          "text": [
            "Validation Loss:  2.749900499979655\n",
            "Training loss: 2.025\n"
          ]
        },
        {
          "name": "stderr",
          "output_type": "stream",
          "text": [
            "\r",
            " 72%|███████▏  | 43/60 [01:44<00:41,  2.45s/it]"
          ]
        },
        {
          "name": "stdout",
          "output_type": "stream",
          "text": [
            "Validation Loss:  2.750028888384501\n",
            "Training loss: 2.028\n"
          ]
        },
        {
          "name": "stderr",
          "output_type": "stream",
          "text": [
            "\r",
            " 73%|███████▎  | 44/60 [01:46<00:39,  2.45s/it]"
          ]
        },
        {
          "name": "stdout",
          "output_type": "stream",
          "text": [
            "Validation Loss:  2.7459855874379477\n",
            "Training loss: 2.025\n"
          ]
        },
        {
          "name": "stderr",
          "output_type": "stream",
          "text": [
            "\r",
            " 75%|███████▌  | 45/60 [01:48<00:36,  2.45s/it]"
          ]
        },
        {
          "name": "stdout",
          "output_type": "stream",
          "text": [
            "Validation Loss:  2.747590740521749\n",
            "Epoch    45: reducing learning rate of group 0 to 9.9569e-05.\n",
            "Training loss: 2.024\n"
          ]
        },
        {
          "name": "stderr",
          "output_type": "stream",
          "text": [
            "\r",
            " 77%|███████▋  | 46/60 [01:51<00:34,  2.45s/it]"
          ]
        },
        {
          "name": "stdout",
          "output_type": "stream",
          "text": [
            "Validation Loss:  2.7479258378346763\n",
            "Training loss: 2.024\n"
          ]
        },
        {
          "name": "stderr",
          "output_type": "stream",
          "text": [
            "\r",
            " 78%|███████▊  | 47/60 [01:53<00:31,  2.43s/it]"
          ]
        },
        {
          "name": "stdout",
          "output_type": "stream",
          "text": [
            "Validation Loss:  2.7477511962254844\n",
            "Training loss: 2.023\n"
          ]
        },
        {
          "name": "stderr",
          "output_type": "stream",
          "text": [
            "\r",
            " 80%|████████  | 48/60 [01:56<00:29,  2.43s/it]"
          ]
        },
        {
          "name": "stdout",
          "output_type": "stream",
          "text": [
            "Validation Loss:  2.7471057176589966\n",
            "Training loss: 2.023\n"
          ]
        },
        {
          "name": "stderr",
          "output_type": "stream",
          "text": [
            "\r",
            " 82%|████████▏ | 49/60 [01:58<00:26,  2.44s/it]"
          ]
        },
        {
          "name": "stdout",
          "output_type": "stream",
          "text": [
            "Validation Loss:  2.748264710108439\n",
            "Training loss: 2.024\n"
          ]
        },
        {
          "name": "stderr",
          "output_type": "stream",
          "text": [
            "\r",
            " 83%|████████▎ | 50/60 [02:01<00:24,  2.44s/it]"
          ]
        },
        {
          "name": "stdout",
          "output_type": "stream",
          "text": [
            "Validation Loss:  2.7465616861979165\n",
            "Training loss: 2.023\n"
          ]
        },
        {
          "name": "stderr",
          "output_type": "stream",
          "text": [
            "\r",
            " 85%|████████▌ | 51/60 [02:03<00:21,  2.42s/it]"
          ]
        },
        {
          "name": "stdout",
          "output_type": "stream",
          "text": [
            "Validation Loss:  2.7471350034077964\n",
            "Epoch    51: reducing learning rate of group 0 to 3.1464e-05.\n",
            "Training loss: 2.022\n"
          ]
        },
        {
          "name": "stderr",
          "output_type": "stream",
          "text": [
            "\r",
            " 87%|████████▋ | 52/60 [02:05<00:19,  2.43s/it]"
          ]
        },
        {
          "name": "stdout",
          "output_type": "stream",
          "text": [
            "Validation Loss:  2.747097373008728\n",
            "Training loss: 2.022\n"
          ]
        },
        {
          "name": "stderr",
          "output_type": "stream",
          "text": [
            "\r",
            " 88%|████████▊ | 53/60 [02:08<00:16,  2.42s/it]"
          ]
        },
        {
          "name": "stdout",
          "output_type": "stream",
          "text": [
            "Validation Loss:  2.747070829073588\n",
            "Training loss: 2.022\n"
          ]
        },
        {
          "name": "stderr",
          "output_type": "stream",
          "text": [
            "\r",
            " 90%|█████████ | 54/60 [02:10<00:14,  2.40s/it]"
          ]
        },
        {
          "name": "stdout",
          "output_type": "stream",
          "text": [
            "Validation Loss:  2.7470774253209433\n",
            "Training loss: 2.023\n"
          ]
        },
        {
          "name": "stderr",
          "output_type": "stream",
          "text": [
            "\r",
            " 92%|█████████▏| 55/60 [02:13<00:12,  2.41s/it]"
          ]
        },
        {
          "name": "stdout",
          "output_type": "stream",
          "text": [
            "Validation Loss:  2.7467209895451865\n",
            "Training loss: 2.022\n"
          ]
        },
        {
          "name": "stderr",
          "output_type": "stream",
          "text": [
            "\r",
            " 93%|█████████▎| 56/60 [02:15<00:09,  2.42s/it]"
          ]
        },
        {
          "name": "stdout",
          "output_type": "stream",
          "text": [
            "Validation Loss:  2.7467546463012695\n",
            "Training loss: 2.022\n"
          ]
        },
        {
          "name": "stderr",
          "output_type": "stream",
          "text": [
            "\r",
            " 95%|█████████▌| 57/60 [02:18<00:07,  2.42s/it]"
          ]
        },
        {
          "name": "stdout",
          "output_type": "stream",
          "text": [
            "Validation Loss:  2.7467970053354898\n",
            "Epoch    57: reducing learning rate of group 0 to 9.9425e-06.\n",
            "Training loss: 2.022\n"
          ]
        },
        {
          "name": "stderr",
          "output_type": "stream",
          "text": [
            "\r",
            " 97%|█████████▋| 58/60 [02:20<00:04,  2.44s/it]"
          ]
        },
        {
          "name": "stdout",
          "output_type": "stream",
          "text": [
            "Validation Loss:  2.7467641830444336\n",
            "Training loss: 2.022\n"
          ]
        },
        {
          "name": "stderr",
          "output_type": "stream",
          "text": [
            "\r",
            " 98%|█████████▊| 59/60 [02:22<00:02,  2.44s/it]"
          ]
        },
        {
          "name": "stdout",
          "output_type": "stream",
          "text": [
            "Validation Loss:  2.746721307436625\n",
            "Training loss: 2.022\n"
          ]
        },
        {
          "name": "stderr",
          "output_type": "stream",
          "text": [
            "100%|██████████| 60/60 [02:25<00:00,  2.42s/it]"
          ]
        },
        {
          "name": "stdout",
          "output_type": "stream",
          "text": [
            "Validation Loss:  2.746853987375895\n"
          ]
        },
        {
          "name": "stderr",
          "output_type": "stream",
          "text": [
            "\n"
          ]
        }
      ]
    },
    {
      "cell_type": "code",
      "metadata": {
        "colab": {
          "base_uri": "https://localhost:8080/",
          "height": 312
        },
        "id": "t0W41v-3eA3O",
        "outputId": "146be73b-9213-4d24-dd9f-77fb7cb9fbbe"
      },
      "source": [
        "plt.title('Training Loss')\n",
        "plt.xlabel('Epoch Number')\n",
        "plt.ylabel('Loss')\n",
        "plt.plot(Train_loss)"
      ],
      "execution_count": null,
      "outputs": [
        {
          "data": {
            "text/plain": [
              "[<matplotlib.lines.Line2D at 0x7fca819ef410>]"
            ]
          },
          "execution_count": 77,
          "metadata": {
            "tags": []
          },
          "output_type": "execute_result"
        },
        {
          "data": {
            "image/png": "[encoded data removed]",
            "text/plain": [
              "<Figure size 432x288 with 1 Axes>"
            ]
          },
          "metadata": {
            "needs_background": "light",
            "tags": []
          },
          "output_type": "display_data"
        }
      ]
    },
    {
      "cell_type": "code",
      "metadata": {
        "colab": {
          "base_uri": "https://localhost:8080/",
          "height": 312
        },
        "id": "T9tuwUDueFWA",
        "outputId": "0fa07a6d-05ac-4645-f424-2cd721710ee4"
      },
      "source": [
        "plt.title('Test Loss')\n",
        "plt.xlabel('Epoch Number')\n",
        "plt.ylabel('Loss')\n",
        "plt.plot(Test_loss)"
      ],
      "execution_count": null,
      "outputs": [
        {
          "data": {
            "text/plain": [
              "[<matplotlib.lines.Line2D at 0x7fca8195c150>]"
            ]
          },
          "execution_count": 78,
          "metadata": {
            "tags": []
          },
          "output_type": "execute_result"
        },
        {
          "data": {
            "image/png": "[encoded data removed]",
            "text/plain": [
              "<Figure size 432x288 with 1 Axes>"
            ]
          },
          "metadata": {
            "needs_background": "light",
            "tags": []
          },
          "output_type": "display_data"
        }
      ]
    }
  ]
}